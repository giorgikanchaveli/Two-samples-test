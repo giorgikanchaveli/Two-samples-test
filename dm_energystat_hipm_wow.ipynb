{
 "cells": [
  {
   "cell_type": "markdown",
   "id": "aec880ba",
   "metadata": {},
   "source": [
    "Here we compare 4 testing schemes: Dubey & Muller, Energy statistic (Szekely & Rizzo 2004), HIPM, WoW.\n",
    "\n",
    "In particular we compare power functions on the example of random probability measures from Fig 1 Dubey & Muller."
   ]
  },
  {
   "cell_type": "code",
   "execution_count": 1,
   "id": "d2546c05",
   "metadata": {},
   "outputs": [
    {
     "data": {
      "text/plain": [
       "ww (generic function with 2 methods)"
      ]
     },
     "execution_count": 1,
     "metadata": {},
     "output_type": "execute_result"
    }
   ],
   "source": [
    "using Plots\n",
    "using KernelDensity\n",
    "using RCall # to call R functions\n",
    "\n",
    "\n",
    "\n",
    "include(\"distributions.jl\")\n",
    "\n",
    "include(\"distances/new_distance.jl\")\n",
    "include(\"distances/distance_Wasserstein.jl\")\n"
   ]
  },
  {
   "cell_type": "markdown",
   "id": "5de4eb4c",
   "metadata": {},
   "source": [
    "# Testing scheme according to Dubey & Muller"
   ]
  },
  {
   "cell_type": "code",
   "execution_count": 2,
   "id": "134d6367",
   "metadata": {},
   "outputs": [
    {
     "data": {
      "text/plain": [
       "test_statistic_dm (generic function with 1 method)"
      ]
     },
     "execution_count": 2,
     "metadata": {},
     "output_type": "execute_result"
    }
   ],
   "source": [
    "function test_statistic_dm(μ_1::Vector{Float64}, μ_2::Vector{Float64})\n",
    "    # This function computes the test statistic according to Dubey & Muller for a given two samples of means of Normal distributions\n",
    "    # Inputs:\n",
    "        # μ_1, μ_2 : two samples of means of Normal distributions, each of which is a vector of Float64 numbers\n",
    "    \n",
    "    n = length(μ_1)\n",
    "    # Recall that we assume that each of the sample is Normal distribution, and for W_2 metric we only need their means.\n",
    "    X = μ_1 # collect all the means from first samples of probability measures\n",
    "    Y = μ_2 # collect all the means from second samples of probability measures\n",
    "\n",
    "    μ_hat_1 = mean(X)\n",
    "    μ_hat_2 = mean(Y)\n",
    "\n",
    "    v_hat_1 = mean((X .- μ_hat_1).^2)\n",
    "    v_hat_2 = mean((Y .- μ_hat_2).^2)\n",
    "\n",
    "    σ_hat_1_squared = mean((X .- μ_hat_1).^4) - (v_hat_1)^2\n",
    "    σ_hat_2_squared = mean((Y .- μ_hat_2).^4) - (v_hat_2)^2\n",
    "    \n",
    "    μ_hat_p = sum(X .+ Y) / (2 * n)\n",
    "    v_hat_p = sum( (X .- μ_hat_p).^2 .+ (Y .- μ_hat_p).^2 ) / (2 * n)\n",
    "\n",
    "    F_n = v_hat_p - v_hat_1/2 - v_hat_2/2\n",
    "    U_n = (1/4) * ((v_hat_1 - v_hat_2)^2) / (σ_hat_1_squared * σ_hat_2_squared) \n",
    "    \n",
    "    T_n = 2*n*U_n / (1/(2*σ_hat_1_squared) + 1/(2*σ_hat_2_squared) ) + 2 * n * (F_n^2) / (σ_hat_1_squared/4 + σ_hat_2_squared/4)\n",
    "\n",
    "    return T_n\n",
    "end\n",
    "\n",
    "\n",
    "\n",
    "\n",
    "\n",
    "\n"
   ]
  },
  {
   "cell_type": "code",
   "execution_count": 3,
   "id": "6da231ea",
   "metadata": {},
   "outputs": [
    {
     "data": {
      "text/plain": [
       "decide_denanova_from_r (generic function with 1 method)"
      ]
     },
     "execution_count": 3,
     "metadata": {},
     "output_type": "execute_result"
    }
   ],
   "source": [
    "function decide_dm_asympt(pms_1::Vector{Float64}, pms_2::Vector{Float64}, n_boostrap::Int, θ = 0.05)\n",
    "    # This function implements the two-sample test according to Dubey & Muller using asymptotic distribution of the test statistic. It returns\n",
    "    # either 0 or 1, i.e. either rejects or accepts null hypothesis for given significance level θ.\n",
    "\n",
    "    # Inputs:\n",
    "        # pms_1, pms_2 : two samples of probability measures, each of which is a vector of Normal distributions\n",
    "        # θ : significance level, default value is 0.05\n",
    "        # n_boostrap: number of times we repeat bootstrap procedure to estimate the quantile of the test statistic\n",
    "\n",
    "\n",
    "    # threshold is choosen from asymptotic distribution of test statistic which is chi-squared.\n",
    "\n",
    "    n_top = length(pms_1)\n",
    "    T_n = test_statistic_dm(pms_1, pms_2) # test statistic\n",
    "    \n",
    "    threshold = quantile(Chisq(1), 1 - θ) # obtain quantile from asymptotic distribution of test statistic\n",
    "    decision = 1.0*(T_n > threshold) # 1.0 if T_n > threshold, 0.0 otherwise.\n",
    "    return decision\n",
    "end\n",
    "\n",
    "\n",
    "function decide_dm_boostrap(pms_1::Vector{Float64}, pms_2::Vector{Float64}, n_boostrap::Int, θ = 0.05)\n",
    "    # This function implements the two-sample test according to Dubey & Muller using boostrap approach. It returns\n",
    "    # either 0 or 1, i.e. either rejects or accepts null hypothesis for given significance level θ.\n",
    "\n",
    "    # Inputs:\n",
    "        # pms_1, pms_2 : two samples of means of Normal distributions with variance 1\n",
    "        # θ : significance level, default value is 0.05\n",
    "        # n_boostrap: number of times we repeat bootstrap procedure to estimate the quantile of the test statistic\n",
    "\n",
    "    # Threshold is obtained via boostrap procedure.\n",
    "    n_top = length(pms_1)\n",
    "    T_n = test_statistic_dm(pms_1, pms_2) # test statistic\n",
    "    # obtain quantile using bootstrap approach\n",
    "    T_n_boostrap = zeros(n_boostrap)\n",
    "    for s in 1:n_boostrap\n",
    "        allmeasures = vcat(pms_1, pms_2) # collect all probability measures into one vector\n",
    "        pms_1_boostrap = sample(allmeasures, n_top; replace=true) # resample from pooled probability measures\n",
    "        pms_2_boostrap = sample(allmeasures, n_top; replace=true) # resample from pooled probability measures\n",
    "        T_n_boostrap[s] = test_statistic_dm(pms_1_boostrap, pms_2_boostrap) # test statistic from boostraped sample\n",
    "    end\n",
    "    threshold = quantile(T_n_boostrap, 1-θ)\n",
    "    decision = 1.0*(T_n > threshold) # 1.0 if T_n > threshold, 0.0 otherwise.\n",
    "    return decision\n",
    "end\n",
    "\n",
    "\n",
    "\n",
    "function decide_denanova_from_r(mu_1::Vector{Float64}, mu_2::Vector{Float64};\n",
    "                           sd::Float64 = 1.0, nq::Int = 51, qmin=0.01, qmax=0.99,\n",
    "                           n_boostrap::Int = 1000, seed = 1234, θ::Float64 = 0.05)\n",
    "\n",
    "    # This function implements the two-sample test according Dubey & Muller using the function to DenANOVA from R package \"frechet\".\n",
    "    # It returns either 0 or 1, i.e. either rejects or accepts null hypothesis for given significance level θ.\n",
    "\n",
    "    # Inputs:\n",
    "        # mu_1, mu_2 : two samples of means of Normal distributions with variance 1.\n",
    "        # sd : standard deviation of each Normal distribution, default value is 1.0, we do not change it.\n",
    "        # nq : number of grid points to approximate quantile functions, default value is 51\n",
    "        # qmin, qmax : min and max quantiles to approximate quantile functions, default values are 0.01 and 0.99\n",
    "        # θ : significance level, default value is 0.05\n",
    "        # n_boostrap: number of times we repeat bootstrap procedure to estimate the quantile of the test statistic\n",
    "        # seed : random seed for R, default value is 1234\n",
    "\n",
    "    @rput mu_1 mu_2 sd nq qmin qmax n_boostrap seed\n",
    "\n",
    "    R\"\"\"\n",
    "    # if (!requireNamespace(\"frechet\", quietly = TRUE)) {\n",
    "    #   install.packages(\"frechet\", repos=\"https://cloud.r-project.org\")\n",
    "    # }\n",
    "\n",
    "    set.seed(seed)\n",
    "\n",
    "    n1 <- length(mu_1)\n",
    "    n2 <- length(mu_2)\n",
    "    qSup <- seq(qmin, qmax, length.out = nq)\n",
    "\n",
    "    Y1 <- lapply(seq_len(n1), function(i) qnorm(qSup, mean = mu_1[i], sd = sd))\n",
    "    Y2 <- lapply(seq_len(n2), function(i) qnorm(qSup, mean = mu_2[i], sd = sd))\n",
    "\n",
    "    Ly <- c(Y1, Y2)\n",
    "    Lx <- qSup\n",
    "    group <- c(rep(1, n1), rep(2, n2))\n",
    "\n",
    "    res <- frechet::DenANOVA(qin = Ly, supin = Lx, group = group,\n",
    "                    optns = list(boot = TRUE, R = n_boostrap))\n",
    "\n",
    "    p_boot <- res$pvalBoot\n",
    "    \"\"\"\n",
    "    @rget p_boot\n",
    "    return 1 * (p_boot < θ)\n",
    "end\n",
    "\n",
    "\n"
   ]
  },
  {
   "cell_type": "markdown",
   "id": "362c24f7",
   "metadata": {},
   "source": [
    "# Testing scheme according to Energy statistic (Szekely & Rizzo 2004) "
   ]
  },
  {
   "cell_type": "code",
   "execution_count": 4,
   "id": "f7655284",
   "metadata": {},
   "outputs": [
    {
     "data": {
      "text/plain": [
       "decide_energy_boostrap (generic function with 2 methods)"
      ]
     },
     "execution_count": 4,
     "metadata": {},
     "output_type": "execute_result"
    }
   ],
   "source": [
    "function test_statistic_energy(pms_1::Vector{Normal}, pms_2::Vector{Normal})\n",
    "    # This function computes the test statistic according to Energy statistic (Szekely & Rizzo 2004) for a given two samples of probobability measures\n",
    "    # which are normal distributions.\n",
    "\n",
    "    # Inputs:\n",
    "        # pms_1, pms_2 : two samples of probability measures, each of which is a vector of Normal distributions\n",
    "\n",
    "    # Recall that we assume that each of the sample is Normal distribution, and for W_2 metric we only need their means.\n",
    "    n = length(pms_1)\n",
    "    @assert n == length(pms_2) \"two samples of probability measures must have same size \"\n",
    "\n",
    "    X = [pms_1[i].μ for i in 1:n] # collect all the means from first samples of probability measures\n",
    "    Y = [pms_2[i].μ for i in 1:n] # collect all the means from second samples of probability measures\n",
    "\n",
    "    distances_X = [abs(X[i] - X[j]) for i in 1:n, j in 1:n]\n",
    "    distances_Y = [abs(Y[i] - Y[j]) for i in 1:n, j in 1:n]\n",
    "    distances_XY = [abs(X[i] - Y[j]) for i in 1:n, j in 1:n]\n",
    "\n",
    "\n",
    "    distance = 2 * mean(distances_XY) - mean(distances_X) - mean(distances_Y)\n",
    "    T_n = distance * n / 2\n",
    "    return T_n\n",
    "end\n",
    "\n",
    "\n",
    "\n",
    "function decide_energy_boostrap(pms_1::Vector{Normal}, pms_2::Vector{Normal}, n_boostrap::Int, θ = 0.05)\n",
    "    # This function implements the two-sample test according to Energy statistic (Szekely & Rizzo 2004) using boostrap approach. It returns\n",
    "    # either 0 or 1, i.e. either rejects or accepts null hypothesis for given significance level θ.\n",
    "\n",
    "    # Inputs:\n",
    "        # pms_1, pms_2 : two samples of probability measures, each of which is a vector of Normal distributions\n",
    "        # θ : significance level, default value is 0.05\n",
    "        # n_boostrap: number of times we repeat bootstrap procedure to estimate the quantile of the test statistic\n",
    "\n",
    "\n",
    "    n_top = length(pms_1)\n",
    "    T_n = test_statistic_energy(pms_1, pms_2) # test statistic\n",
    "    # obtain quantile using bootstrap approach\n",
    "    T_n_boostrap = zeros(n_boostrap)\n",
    "    for s in 1:n_boostrap\n",
    "        allmeasures = vcat(pms_1, pms_2) # collect all probability measures into one vector\n",
    "        pms_1_boostrap = sample(allmeasures, n_top; replace=true) # resample from pooled probability measures\n",
    "        pms_2_boostrap = sample(allmeasures, n_top; replace=true) # resample from pooled probability measures\n",
    "        T_n_boostrap[s] = test_statistic_energy(pms_1_boostrap, pms_2_boostrap) # test statistic from boostraped sample\n",
    "    end\n",
    "    threshold = quantile(T_n_boostrap, 1-θ)\n",
    "    decision = 1.0*(T_n > threshold) # 1.0 if T_n > threshold, 0.0 otherwise.\n",
    "    return decision\n",
    "end"
   ]
  },
  {
   "cell_type": "markdown",
   "id": "b7dbe8c5",
   "metadata": {},
   "source": [
    "# Testing scheme according to HIPM and WoW"
   ]
  },
  {
   "cell_type": "code",
   "execution_count": 5,
   "id": "a9a29bff",
   "metadata": {},
   "outputs": [
    {
     "data": {
      "text/plain": [
       "get_thresholds_boostrap_hipm_wow (generic function with 1 method)"
      ]
     },
     "execution_count": 5,
     "metadata": {},
     "output_type": "execute_result"
    }
   ],
   "source": [
    "function get_thresholds_permutation_hipm_wow(q_1::PPM, q_2::PPM, n_top::Int, n_bottom::Int, n_permutations::Int, θ::Float64)\n",
    "    # This function gets the thresholds for HIPM and WoW distances using permutation approach. It obtains hierarchical samples \n",
    "    # from two given RPMs and use them for permutation procedure.\n",
    "\n",
    "    # Inputs:\n",
    "        # q_1, q_2 : laws of two RPMs\n",
    "        # n_top : number of atoms in hierarchical samples generated from RPMs\n",
    "        # n_bottom : number of observations generated from each atom in hierarchical samples\n",
    "        # n_permutations : number of permutations to approximate the quantile of the distance\n",
    "        # θ : significance level, default value is 0.05\n",
    "    \n",
    " \n",
    "    permuted_samples_dlip = zeros(n_permutations) # store samples of distances\n",
    "    permuted_samples_ww = zeros(n_permutations) # store samples of distances\n",
    "\n",
    "    hier_sample_1, hier_sample_2 = generate_emp(q_1, n_top, n_bottom), generate_emp(q_2, n_top, n_bottom) \n",
    "    a = minimum([hier_sample_1.a, hier_sample_2.a])\n",
    "    b = maximum([hier_sample_1.b, hier_sample_2.b])\n",
    "    for k in 1:n_permutations\n",
    "        total_rows = vcat(hier_sample_1.atoms, hier_sample_2.atoms) # collect all rows\n",
    "        random_indices = randperm(2*n_top) # indices to distribute rows to new hierarchical meausures\n",
    "\n",
    "        atoms_1 = total_rows[random_indices[1:n_top],:] # first rows indexed by n_top random indices to the atoms_1\n",
    "        atoms_2 = total_rows[random_indices[n_top+1:end],:] # first rows indexed by n_top random indices to the atoms_2\n",
    "\n",
    "        hier_sample_1_permuted = emp_ppm(atoms_1, n_top, n_bottom, a, b)\n",
    "        hier_sample_2_permuted = emp_ppm(atoms_2, n_top, n_bottom, a, b)\n",
    "\n",
    "        \n",
    "        permuted_samples_dlip[k] = dlip(hier_sample_1_permuted, hier_sample_2_permuted)\n",
    "        permuted_samples_ww[k] = ww(hier_sample_1_permuted, hier_sample_2_permuted)\n",
    "    end\n",
    "\n",
    "    threshold_hipm = quantile(permuted_samples_dlip, 1 - θ)\n",
    "    threshold_wow = quantile(permuted_samples_ww, 1 - θ)\n",
    "\n",
    "    return threshold_hipm, threshold_wow\n",
    "end\n",
    "    \n",
    "\n",
    "\n",
    "\n",
    "\n",
    "\n",
    "function get_thresholds_boostrap_hipm_wow(q_1::PPM, q_2::PPM, n_top::Int, n_bottom::Int, n_boostrap::Int, θ::Float64)\n",
    "    # This function gets the thresholds for HIPM and WoW distances using boostrap approach. It obtains hierarchical samples \n",
    "    # from two given RPMs and use them for boostrap procedure.\n",
    "\n",
    "    # Inputs:\n",
    "        # q_1, q_2 : laws of two RPMs\n",
    "        # n_top : number of atoms in hierarchical samples generated from RPMs\n",
    "        # n_bottom : number of observations generated from each atom in hierarchical samples\n",
    "        # n_boostrap : number of boostrap samples to approximate the quantile of the distance\n",
    "        # θ : significance level, default value is 0.05\n",
    "    \n",
    " \n",
    "    boostrap_samples_dlip = zeros(n_boostrap) # store samples of distances\n",
    "    boostrap_samples_ww = zeros(n_boostrap) # store samples of distances\n",
    "\n",
    "    hier_sample_1, hier_sample_2 = generate_emp(q_1, n_top, n_bottom), generate_emp(q_2, n_top, n_bottom)\n",
    "    a = minimum([hier_sample_1.a, hier_sample_2.a])\n",
    "    b = maximum([hier_sample_1.b, hier_sample_2.b])\n",
    "    for k in 1:n_boostrap\n",
    "        total_rows = vcat(hier_sample_1.atoms, hier_sample_2.atoms) # collect all rows\n",
    "        \n",
    "        indices_1 = sample(1:2*n_top, n_top; replace = true)\n",
    "        indices_2 = sample(1:2*n_top, n_top; replace = true)\n",
    "        atoms_1 = total_rows[indices_1,:]  # resample from pooled hierarchical sample\n",
    "        atoms_2 = total_rows[indices_2,:]  # resample from pooled hierarchical sample\n",
    "        \n",
    "    \n",
    "        hier_sample_1_boostrap = emp_ppm(atoms_1, n_top, n_bottom, a, b)\n",
    "        hier_sample_2_boostrap = emp_ppm(atoms_2, n_top, n_bottom, a, b)\n",
    "\n",
    "        boostrap_samples_dlip[k] = dlip(hier_sample_1_boostrap, hier_sample_2_boostrap)\n",
    "        boostrap_samples_ww[k] = ww(hier_sample_1_boostrap, hier_sample_2_boostrap)\n",
    "    end\n",
    "\n",
    "    threshold_hipm = quantile(boostrap_samples_dlip, 1 - θ)\n",
    "    threshold_wow = quantile(boostrap_samples_ww, 1 - θ)\n",
    "\n",
    "    return threshold_hipm, threshold_wow\n",
    "end\n",
    "    \n",
    "\n"
   ]
  },
  {
   "cell_type": "markdown",
   "id": "1d7d444d",
   "metadata": {},
   "source": [
    "# Rejection rates for each of the method (DM, Energy stats, HIPM, WoW)\n"
   ]
  },
  {
   "cell_type": "code",
   "execution_count": null,
   "id": "fea504bb",
   "metadata": {},
   "outputs": [
    {
     "data": {
      "text/plain": [
       "rejection_rate (generic function with 2 methods)"
      ]
     },
     "execution_count": 6,
     "metadata": {},
     "output_type": "execute_result"
    }
   ],
   "source": [
    "function rejection_rate(q_1::PPM, q_2::PPM, S::Int, n_top::Int, n_bottom::Int, n_boostrap::Int, θ::Float64, boostrap::Bool=true)\n",
    "    # This function computes the rejection rates for given two laws of RPM, q_1 and q_2, for 4 testing schemes:\n",
    "    # Dubey & Mueller, HIPM, WoW, Energy statistic\n",
    "\n",
    "    # Input: \n",
    "        # q_1, q_2 : laws of two RPMs\n",
    "        # S : number of times we simulate two samples from given laws of RPM\n",
    "        # n_top : number of probability measures we simulate from each q\n",
    "        # n_bottom : number of random variables we simulate from each of the probability measure from q\n",
    "        # n_boostrap : number of times we repeat bootstrap procedure to estimate the quantile of the test statistic. Note that this can\n",
    "        #              be number of permutations, depending whether boostrap variable is true or false but only for HIPM and WoW. For DM and\n",
    "        #              Energy statistic, this is always number of boostrap samples.\n",
    "        # θ : significance level, default value is 0.05\n",
    "        # boostrap : if true, then thresholds for HIPM and WoW are obtained via boostrap approach, otherwise via permutation approach.\n",
    "\n",
    "    # Output:\n",
    "        # rej_rate_dm : rejection rate for Dubey & Mueller test\n",
    "        # rej_rate_hipm : rejection rate for HIPM test\n",
    "        # rej_rate_wow : rejection rate for WoW test\n",
    "        # rej_rate_energy : rejection rate for Energy statistic test    \n",
    "\n",
    "\n",
    "  \n",
    "    rej_rate_dm, rej_rate_hipm, rej_rate_wow, rej_rate_energy = 0.0, 0.0, 0.0, 0.0\n",
    "    #time_perm = time()\n",
    "\n",
    "    # Instead of getting the threshold for HIPM and WoW based on hierarchical sample everytime, for fixed q_1 and q_2, we obtain\n",
    "    # threshold once from some generated hierarchical samples and then use it for other hierarchical samples.\n",
    "    if boostrap\n",
    "        threshold_hipm, threshold_wow = get_thresholds_boostrap_hipm_wow(q_1, q_2, n_top, n_bottom, n_boostrap, θ) \n",
    "    else\n",
    "        threshold_hipm, threshold_wow = get_thresholds_permutation_hipm_wow(q_1, q_2, n_top, n_bottom, n_boostrap, θ) \n",
    "    end\n",
    "    #println(\"time taken to get thresholds is $(time() - time_perm) seconds\")\n",
    "    \n",
    "    #time_S = time()\n",
    "    for s in 1:S\n",
    "        \n",
    "        pms_1, pms_2 = generate_prob_measures(q_1, n_top), generate_prob_measures(q_2, n_top) # generate n_top probability measures\n",
    "                                            # from q_1 and q_2\n",
    "\n",
    "        mu_1, mu_2 = [pm_1.μ for pm_1 in pms_1], [pm_2.μ for pm_2 in pms_2] # collect means of all probability measures in pms_1 and pms_2\n",
    "\n",
    "        hier_sample_1, hier_sample_2 = generate_emp(pms_1, n_top, n_bottom), generate_emp(pms_2, n_top, n_bottom) # generate n_bottom\n",
    "                                            # random variables from each probability measures in pms_1 and pms_2\n",
    "        # endpoints of the sample space for observatinos from hier_sample_1 and hier_sample_2 might be different, so we fix it\n",
    "        a = minimum([hier_sample_1.a, hier_sample_2.a])\n",
    "        b = maximum([hier_sample_1.b, hier_sample_2.b])\n",
    "        \n",
    "        hier_sample_1.a = a\n",
    "        hier_sample_2.a = a\n",
    "\n",
    "        hier_sample_1.b = b\n",
    "        hier_sample_2.b = b\n",
    "\n",
    "        # record if testing schemes reject\n",
    "        rej_rate_dm += decide_denanova_from_r(mu_1, mu_2; n_boostrap=n_boostrap, θ = θ)  \n",
    "        rej_rate_hipm += 1*(dlip(hier_sample_1, hier_sample_2) > threshold_hipm)\n",
    "        rej_rate_wow += 1*(ww(hier_sample_1, hier_sample_2) > threshold_wow)\n",
    "\n",
    "        rej_rate_energy += decide_energy_boostrap(pms_1, pms_2, n_boostrap, θ)\n",
    "    end\n",
    "    #println(\"time taken for S=$(S) is $(time() - time_S) seconds\")\n",
    "    rej_rate_dm /= S\n",
    "    rej_rate_hipm /= S\n",
    "    rej_rate_wow /= S\n",
    "    rej_rate_energy /= S\n",
    "    return rej_rate_dm,  rej_rate_hipm, rej_rate_wow, rej_rate_energy\n",
    "end\n"
   ]
  },
  {
   "cell_type": "code",
   "execution_count": null,
   "id": "4e689fce",
   "metadata": {},
   "outputs": [],
   "source": []
  },
  {
   "cell_type": "markdown",
   "id": "d9b4483e",
   "metadata": {},
   "source": [
    "In the simulations below, we consider the several pairs of laws of random probability measures for which we want to obtain the rejection rates. Such laws will be parametrized. Below we have a code that will record rejection rates for such pairs of laws of rpm per each parameter."
   ]
  },
  {
   "cell_type": "code",
   "execution_count": 7,
   "id": "c7d11cf4",
   "metadata": {},
   "outputs": [
    {
     "data": {
      "text/plain": [
       "rejection_rates_per_parameter (generic function with 1 method)"
      ]
     },
     "execution_count": 7,
     "metadata": {},
     "output_type": "execute_result"
    }
   ],
   "source": [
    "function rejection_rates_per_parameter(δs::Vector{Float64}, rej_rate_function::Function)\n",
    "    # This function returns rejection rates using rej_rate_function for each each δ in δs. The parameter δ\n",
    "    # is used to define two laws of RPMs, q_1 and q_2, for which we compute rejection rates.\n",
    "\n",
    "    # Input:\n",
    "        # δs : vector of Float64 numbers, each of which is used to define two laws of RPMs, q_1 and q_2\n",
    "        # rej_rate_function : function which takes δ as input and returns rejection rates.\n",
    "    \n",
    "    rej_rates = zeros(length(δs), 4) # per each delta and testing scheme\n",
    "\n",
    "    for i in 1:length(δs)\n",
    "        println(\"parameter is $(δs[i])\")\n",
    "        rej_rates[i,:] .= rej_rate_function(δs[i]) # returns rejection rate for δ[i] for each testing scheme\n",
    "    end\n",
    "    return rej_rates\n",
    "end"
   ]
  },
  {
   "cell_type": "markdown",
   "id": "fc1d572a",
   "metadata": {},
   "source": [
    "# Figure 1, Left, of the paper, varying mean, with permutation\n"
   ]
  },
  {
   "cell_type": "markdown",
   "id": "2450df92",
   "metadata": {},
   "source": [
    "Now we plot the power function per $\\delta$ as it is in their paper for Figure 1\n"
   ]
  },
  {
   "cell_type": "code",
   "execution_count": 8,
   "id": "6b924fd7",
   "metadata": {},
   "outputs": [
    {
     "data": {
      "text/plain": [
       "5.096357709295051"
      ]
     },
     "execution_count": 8,
     "metadata": {},
     "output_type": "execute_result"
    }
   ],
   "source": [
    "n_top, n_bottom = 100,2000\n",
    "n_boostrap = 1\n",
    "S = 1\n",
    "θ = 0.05\n",
    "\n",
    "δ = 0.1\n",
    "\n",
    "q_1 = tnormal_normal(0.0, 0.5, -10.0, 10.0)\n",
    "q_2 = tnormal_normal(δ, 0.5, -10.0, 10.0)\n",
    "\n",
    "\n",
    "prob_measures_1 = generate_prob_measures(q_1, n_top)\n",
    "prob_measures_2 = generate_prob_measures(q_2, n_top)\n",
    "\n",
    "\n",
    "q_1_emp = generate_emp(q_1, n_top, n_bottom)\n",
    "q_2_emp = generate_emp(q_2, n_top, n_bottom)\n",
    "\n",
    "a = minimum([q_1_emp.a, q_2_emp.a])\n",
    "b = maximum([q_1_emp.b, q_2_emp.b])\n",
    "q_1_emp.a = a\n",
    "q_2_emp.a = a\n",
    "q_1_emp.b = b\n",
    "q_2_emp.b = b\n",
    "\n",
    "\n",
    "\n"
   ]
  },
  {
   "cell_type": "markdown",
   "id": "d5b758dc",
   "metadata": {},
   "source": [
    "To obtain the thresholds for HIPM and WoW when n_boostrap = 100,n_top = 100,n_bottom = 2000, we need 2.4 seconds per each boostrap. So 240 seconds in total\n",
    "\n",
    "Once thresholds are obtained for each generated hierarchical samples we need 3 seconds to get decisions from all testing schemes (n_boost = 100).\n",
    "\n",
    "Total time for S = 100 for one pair of measures is maximum 9 minutes\n",
    "\n",
    "\n",
    "\n",
    "\n",
    "\n",
    "for n_bottom = 200, we need in total 103 seconds for thresholds for HIPM and WoW\n",
    "Once thresholds are obtained we need 1.7 seconds for only one generated sample.\n",
    "Total time in that case is 5 minutes"
   ]
  },
  {
   "cell_type": "code",
   "execution_count": null,
   "id": "b3266b54",
   "metadata": {},
   "outputs": [],
   "source": [
    "\n"
   ]
  },
  {
   "cell_type": "code",
   "execution_count": 9,
   "id": "f7a46666",
   "metadata": {},
   "outputs": [],
   "source": [
    "#s, n_bottom, δs"
   ]
  },
  {
   "cell_type": "code",
   "execution_count": null,
   "id": "ec6e8899",
   "metadata": {},
   "outputs": [
    {
     "name": "stdout",
     "output_type": "stream",
     "text": [
      "parameter is 0.1\n",
      "time taken to get thresholds is 96.7047369480133 seconds\n",
      "time taken for S=100 is 181.14315676689148 seconds\n"
     ]
    },
    {
     "data": {
      "text/plain": [
       "\"/Users/giorgikanchaveli/Desktop/Two-samples-test/frechet/figure1/power_tnormal_normal_varying_mean_n_top=100_n_bottom=200_S=100_npermutation=100.png\""
      ]
     },
     "execution_count": 15,
     "metadata": {},
     "output_type": "execute_result"
    }
   ],
   "source": [
    "# n_top, n_bottom = 100,200\n",
    "# n_permutation = 100\n",
    "# S = 100\n",
    "# θ = 0.05\n",
    "\n",
    "# Random.seed!(1234) # for reproducibility\n",
    "\n",
    "# # maybe variance should be sqrt(0.5) instead of 0.5 ???\n",
    "# power_tnormal_normal(δ) = rejection_rate(tnormal_normal(0.0, 0.5, -10.0, 10.0), tnormal_normal(δ, 0.5, -10.0, 10.0),S, n_top, n_bottom, n_permutation, θ,false) # powers per δ for each testing scheme\n",
    "\n",
    "# #δs = collect(-1.0:0.1:1.0)\n",
    "# δs = [0.1]\n",
    "# rejection_rates_tnormal_normal = rejection_rates_per_parameter(δs, power_tnormal_normal)\n",
    "# fig_1 = plot(title = \"Power of 4 testing schemes\", xlabel = \"δ\", ylabel = \"Power\", xlims=(-1.0, 1.1), ylims = (-0.1, 1.1))\n",
    "# plot!(fig_1, δs, rejection_rates_tnormal_normal[:,1], label = \"dm\", color = \"red\")\n",
    "# plot!(fig_1, δs, rejection_rates_tnormal_normal[:,2], label = \"hipm\", color = \"green\")\n",
    "# plot!(fig_1, δs, rejection_rates_tnormal_normal[:,3], label = \"wow\", color = \"brown\")\n",
    "# plot!(fig_1, δs, rejection_rates_tnormal_normal[:,4], label = \"Energy\", color = \"blue\")\n",
    "# filepath = joinpath(pwd(), \"frechet/figure1\")\n",
    "# savefig(fig_1,joinpath(filepath, \"power_tnormal_normal_varying_mean_n_top=$(n_top)_n_bottom=$(n_bottom)_S=$(S)_npermutation=$(n_permutation).png\"))\n",
    "\n",
    "# # # #minimum_power_dm = minimum(power_function_dm[])\n",
    "# # # #hline!([minimum_power_dm], color=:red, linestyle=:dash, label=\"minimum power for dm\")\n",
    "\n",
    "\n"
   ]
  },
  {
   "cell_type": "markdown",
   "id": "6a4f517c",
   "metadata": {},
   "source": [
    "# Figure 1, Left, of the paper, varying mean, with Boostrap\n"
   ]
  },
  {
   "cell_type": "markdown",
   "id": "35ef5920",
   "metadata": {},
   "source": [
    "To obtain the thresholds for HIPM and WoW when n_boostrap = 100,n_top = 100,n_bottom = 2000, we need 2.4 seconds per each boostrap. So 240 seconds in total\n",
    "\n",
    "Once thresholds are obtained for each generated hierarchical samples we need 3 seconds to get decisions from all testing schemes (n_boost = 100).\n",
    "\n",
    "Total time for S = 100 for one pair of measures is maximum 9 minutes\n",
    "\n",
    "\n",
    "\n",
    "\n",
    "\n",
    "for n_bottom = 200, we need in total 103 seconds for thresholds for HIPM and WoW\n",
    "Once thresholds are obtained we need 1.7 seconds for only one generated sample.\n",
    "Total time in that case is 5 minutes"
   ]
  },
  {
   "cell_type": "code",
   "execution_count": null,
   "id": "84352f7e",
   "metadata": {},
   "outputs": [],
   "source": [
    "# n_top, n_bottom = 100,2000\n",
    "# n_boostrap = 100\n",
    "# S = 100\n",
    "# θ = 0.05\n",
    "\n",
    "# Random.seed!(1234) # for reproducibility\n",
    "\n",
    "# # maybe variance should be sqrt(0.5) instead of 0.5 ???\n",
    "# power_tnormal_normal(δ) = rejection_rate(tnormal_normal(0.0, 0.5, -10.0, 10.0), tnormal_normal(δ, 0.5, -10.0, 10.0),S, n_top, n_bottom, n_boostrap, θ,true) # powers per δ for each testing scheme\n",
    "\n",
    "# δs = collect(-1.0:0.1:1.0)\n",
    "# rejection_rates_tnormal_normal = rejection_rates_per_parameter(δs, power_tnormal_normal)\n",
    "# fig_1 = plot(title = \"Power of 4 testing schemes\", xlabel = \"δ\", ylabel = \"Power\", xlims=(-1.0, 1.1), ylims = (-0.1, 1.1))\n",
    "# plot!(fig_1, δs, rejection_rates_tnormal_normal[:,1], label = \"dm\", color = \"red\")\n",
    "# plot!(fig_1, δs, rejection_rates_tnormal_normal[:,2], label = \"hipm\", color = \"green\")\n",
    "# plot!(fig_1, δs, rejection_rates_tnormal_normal[:,3], label = \"wow\", color = \"brown\")\n",
    "# plot!(fig_1, δs, rejection_rates_tnormal_normal[:,4], label = \"Energy\", color = \"blue\")\n",
    "# filepath = joinpath(pwd(), \"frechet/figure1\")\n",
    "# savefig(fig_1,joinpath(filepath, \"power_tnormal_normal_varying_mean_n_top=$(n_top)_n_bottom=$(n_bottom)_S=$(S)_nboostrap=$(n_boostrap).png\"))\n",
    "\n",
    "# # # #minimum_power_dm = minimum(power_function_dm[])\n",
    "# # # #hline!([minimum_power_dm], color=:red, linestyle=:dash, label=\"minimum power for dm\")\n",
    "\n",
    "\n"
   ]
  },
  {
   "cell_type": "code",
   "execution_count": null,
   "id": "44bb171d",
   "metadata": {},
   "outputs": [],
   "source": []
  },
  {
   "cell_type": "code",
   "execution_count": null,
   "id": "beb67e3d",
   "metadata": {},
   "outputs": [],
   "source": []
  },
  {
   "cell_type": "markdown",
   "id": "573ea4e0",
   "metadata": {},
   "source": [
    "# Figure 1, Right of the paper, varying variance, with boostrap\n"
   ]
  },
  {
   "cell_type": "markdown",
   "id": "8f7eb4f6",
   "metadata": {},
   "source": [
    "To obtain the thresholds for HIPM and WoW when n_boostrap = 100,n_top = 100,n_bottom = 2000, we need 2.4 seconds per each boostrap. So 240 seconds in total\n",
    "\n",
    "Once thresholds are obtained for each generated hierarchical samples we need 3 seconds to get decisions from all testing schemes (n_boost = 100).\n",
    "\n",
    "Total time for S = 100 for one pair of measures is maximum 9 minutes\n",
    "\n",
    "\n",
    "\n",
    "\n",
    "\n",
    "for n_bottom = 200, we need in total 103 seconds for thresholds for HIPM and WoW\n",
    "Once thresholds are obtained we need 1.7 seconds for only one generated sample.\n",
    "Total time in that case is 5 minutes"
   ]
  },
  {
   "cell_type": "code",
   "execution_count": null,
   "id": "adb88a36",
   "metadata": {},
   "outputs": [],
   "source": [
    "# n_top, n_bottom = 100,2000\n",
    "# n_boostrap = 100\n",
    "# S = 100\n",
    "# θ = 0.05\n",
    "\n",
    "# Random.seed!(1234) # for reproducibility\n",
    "\n",
    "# # maybe variance should be sqrt(0.5) instead of 0.5 ???\n",
    "# power_tnormal_normal(τ) = rejection_rate(tnormal_normal(0.0, 0.2, -10.0, 10.0), tnormal_normal(0.0, 0.2*τ, -10.0, 10.0),S, n_top, n_bottom, n_boostrap, θ, true) # powers per δ for each testing scheme\n",
    "\n",
    "# τs = collect(0.1:0.1:3.0)\n",
    "# rejection_rates_tnormal_normal = rejection_rates_per_parameter(τs, power_tnormal_normal)\n",
    "# fig_2 = plot(title = \"Power of 4 testing schemes\", xlabel = \"τ\", ylabel = \"Power\", xlims=(0.0, 3.1), ylims = (-0.1, 1.1))\n",
    "# plot!(fig_2, τs, rejection_rates_tnormal_normal[:,1], label = \"dm\", color = \"red\")\n",
    "# plot!(fig_2, τs, rejection_rates_tnormal_normal[:,2], label = \"hipm\", color = \"green\")\n",
    "# plot!(fig_2, τs, rejection_rates_tnormal_normal[:,3], label = \"wow\", color = \"brown\")\n",
    "# plot!(fig_2, τs, rejection_rates_tnormal_normal[:,4], label = \"Energy\", color = \"blue\")\n",
    "# filepath = joinpath(pwd(), \"frechet/figure1\")\n",
    "# savefig(fig_2,joinpath(filepath, \"power_tnormal_normal_varying_variance_n_top=$(n_top)_n_bottom=$(n_bottom)_S=$(S)_nboostrap=$(n_boostrap).png\"))\n",
    "\n",
    "# # # # #minimum_power_dm = minimum(power_function_dm[])\n",
    "# # # # #hline!([minimum_power_dm], color=:red, linestyle=:dash, label=\"minimum power for dm\")\n",
    "\n",
    "\n"
   ]
  },
  {
   "cell_type": "markdown",
   "id": "56aed668",
   "metadata": {},
   "source": [
    "# Figure 1, Right of the paper, varying variance, with permutation approach"
   ]
  },
  {
   "cell_type": "markdown",
   "id": "bb10e8d0",
   "metadata": {},
   "source": [
    "To obtain the thresholds for HIPM and WoW when n_boostrap = 100,n_top = 100,n_bottom = 2000, we need 2.4 seconds per each boostrap. So 240 seconds in total\n",
    "\n",
    "Once thresholds are obtained for each generated hierarchical samples we need 3 seconds to get decisions from all testing schemes (n_boost = 100).\n",
    "\n",
    "Total time for S = 100 for one pair of measures is maximum 9 minutes\n",
    "\n",
    "\n",
    "\n",
    "\n",
    "\n",
    "for n_bottom = 200, we need in total 103 seconds for thresholds for HIPM and WoW\n",
    "Once thresholds are obtained we need 1.7 seconds for only one generated sample.\n",
    "Total time in that case is 5 minutes"
   ]
  },
  {
   "cell_type": "code",
   "execution_count": null,
   "id": "77caa110",
   "metadata": {},
   "outputs": [],
   "source": [
    "# n_top, n_bottom = 100,2000\n",
    "# n_permutation = 100\n",
    "# S = 100\n",
    "# θ = 0.05\n",
    "\n",
    "# Random.seed!(1234) # for reproducibility\n",
    "\n",
    "# # maybe variance should be sqrt(0.5) instead of 0.5 ???\n",
    "# power_tnormal_normal(τ) = rejection_rate(tnormal_normal(0.0, 0.2, -10.0, 10.0), tnormal_normal(0.0, 0.2*τ, -10.0, 10.0),S, n_top, n_bottom, n_permutation, θ, false) # powers per δ for each testing scheme\n",
    "\n",
    "# τs = collect(0.1:0.1:3.0)\n",
    "# rejection_rates_tnormal_normal = rejection_rates_per_parameter(τs, power_tnormal_normal)\n",
    "# fig_2 = plot(title = \"Power of 4 testing schemes\", xlabel = \"τ\", ylabel = \"Power\", xlims=(0.0, 3.1), ylims = (-0.1, 1.1))\n",
    "# plot!(fig_2, τs, rejection_rates_tnormal_normal[:,1], label = \"dm\", color = \"red\")\n",
    "# plot!(fig_2, τs, rejection_rates_tnormal_normal[:,2], label = \"hipm\", color = \"green\")\n",
    "# plot!(fig_2, τs, rejection_rates_tnormal_normal[:,3], label = \"wow\", color = \"brown\")\n",
    "# plot!(fig_2, τs, rejection_rates_tnormal_normal[:,4], label = \"Energy\", color = \"blue\")\n",
    "# filepath = joinpath(pwd(), \"frechet/figure1\")\n",
    "# savefig(fig_2,joinpath(filepath, \"power_tnormal_normal_varying_variance_n_top=$(n_top)_n_bottom=$(n_bottom)_S=$(S)_npermutation=$(n_permutation).png\"))\n",
    "\n",
    "# # # #minimum_power_dm = minimum(power_function_dm[])\n",
    "# # # #hline!([minimum_power_dm], color=:red, linestyle=:dash, label=\"minimum power for dm\")\n",
    "\n",
    "\n"
   ]
  },
  {
   "cell_type": "markdown",
   "id": "5c384996",
   "metadata": {},
   "source": [
    "# Example where DM should fail"
   ]
  },
  {
   "cell_type": "markdown",
   "id": "1bf0cad0",
   "metadata": {},
   "source": [
    "Now let us do same simulations on different law of random probability measure: \n",
    "\n",
    "Define  \n",
    "$$\n",
    "\\widetilde{P}^1 = \\text{Normal}(\\widetilde{\\mu}^1, 1) \\quad \\text{where} \\quad \\widetilde{\\mu}^1 \\sim \\text{Normal}\\!\\left(1, \\tfrac{1}{3}\\right),\n",
    "$$\n",
    "$$\n",
    "\\widetilde{P}^2 = \\text{Normal}(\\widetilde{\\mu}^2, 1) \\quad \\text{where} \\quad \\widetilde{\\mu}^2 \\sim \\text{Uniform}\\!\\left(0, 2\\right).\n",
    "$$\n",
    "Then their associated two laws of RPM which are \n",
    "$$\n",
    "Q^1 = \\mathcal{L}\\left(\\widetilde{P}^1\\right) \\quad Q^2 = \\mathcal{L}\\left(\\widetilde{P}^2\\right),\n",
    "$$\n",
    "are different but they induce same Fréchet mean and variance\n",
    "\n",
    "Then for each $\\lambda \\in (0,1)$ we can consider family of pairs \n",
    "$$\n",
    "Q^! \\quad \\text{and} \\quad Q_{\\lambda} = \\lambda Q^1 + (1 - \\lambda)Q^2.\n",
    "$$\n",
    "We obtain two different laws with same Fréchet mean and variance\n",
    "\n",
    "Below, we plot power functions as we vary $\\lambda$.\n",
    "\n"
   ]
  },
  {
   "cell_type": "markdown",
   "id": "dce3c62a",
   "metadata": {},
   "source": []
  },
  {
   "cell_type": "markdown",
   "id": "25dc22de",
   "metadata": {},
   "source": [
    "# With Boostrap"
   ]
  },
  {
   "cell_type": "markdown",
   "id": "d3815f65",
   "metadata": {},
   "source": [
    "To obtain the thresholds for HIPM and WoW when n_boostrap = 100,n_top = 100,n_bottom = 2000, we need 2.4 seconds per each boostrap. So 240 seconds in total\n",
    "\n",
    "Once thresholds are obtained for each generated hierarchical samples we need 3 seconds to get decisions from all testing schemes (n_boost = 100).\n",
    "\n",
    "Total time for S = 100 for one pair of measures is maximum 9 minutes\n",
    "\n",
    "\n",
    "\n",
    "\n",
    "\n",
    "for n_bottom = 200, we need in total 103 seconds for thresholds for HIPM and WoW\n",
    "Once thresholds are obtained we need 1.7 seconds for only one generated sample.\n",
    "Total time in that case is 5 minutes"
   ]
  },
  {
   "cell_type": "code",
   "execution_count": null,
   "id": "64d79b68",
   "metadata": {},
   "outputs": [
    {
     "data": {
      "text/plain": [
       "\"/Users/giorgikanchaveli/Desktop/Two-samples-test/frechet/counterexample/power_normal_uniform_counter_example_boostrap_n_top=100_n_bottom=2000_S=1_nboostrap=1.png\""
      ]
     },
     "execution_count": 18,
     "metadata": {},
     "output_type": "execute_result"
    }
   ],
   "source": [
    "n_top, n_bottom = 100,2000\n",
    "n_boostrap = 100\n",
    "S = 100\n",
    "θ = 0.05\n",
    "\n",
    "Random.seed!(1234) # for reproducibility\n",
    "\n",
    "a, b = 0.0, 2.0\n",
    "μ, σ = 1.0, sqrt(1/3)\n",
    "\n",
    "mixture(λ) = mixture_ppm(normal_normal(μ,σ), uniform_normal(a,b), λ) # low lambda means more to second distribution which here is uniform normal\n",
    "power_normal_uniform(λ) = rejection_rate(normal_normal(μ,σ), mixture(λ), S, n_top, n_bottom, n_boostrap, θ, true) \n",
    "\n",
    "λs = collect(0.0:0.1:1.0)\n",
    "rejection_rates_normal_uniform = rejection_rates_per_parameter(λs, power_normal_uniform)\n",
    "\n",
    "fig_counter_example = plot(title = \"Power of 4 testing schemes\", xlabel = \"λ\", ylabel = \"Power\", xlims=(-0.1, 1.1), ylims = (-0.1, 1.1))\n",
    "plot!(fig_counter_example, λs, rejection_rates_normal_uniform[:,1], label = \"dm\", color = \"red\",marker = (:circle, 4))\n",
    "plot!(fig_counter_example, λs, rejection_rates_normal_uniform[:,2], label = \"hipm\", color = \"green\",marker = (:circle, 4))\n",
    "plot!(fig_counter_example, λs, rejection_rates_normal_uniform[:,3], label = \"wow\", color = \"brown\",marker = (:circle, 4))\n",
    "plot!(fig_counter_example, λs, rejection_rates_normal_uniform[:,4], label = \"Energy\", color = \"blue\",marker = (:circle, 4))\n",
    "\n",
    "filepath = joinpath(pwd(), \"frechet/counterexample\")\n",
    "savefig(fig_counter_example,joinpath(filepath, \"power_normal_uniform_counter_example_boostrap_n_top=$(n_top)_n_bottom=$(n_bottom)_S=$(S)_nboostrap=$(n_boostrap).png\"))\n",
    "\n",
    "\n",
    "\n"
   ]
  },
  {
   "cell_type": "code",
   "execution_count": null,
   "id": "a0a7c428",
   "metadata": {},
   "outputs": [],
   "source": [
    "# fig_counter_example = plot(title = \"Power of 4 testing schemes\", xlabel = \"λ\", ylabel = \"Power\", xlims=(-0.1, 1.1), ylims = (-0.1, 1.1))\n",
    "# scatter!(fig_counter_example, λs, rejection_rates_normal_uniform[:,1], label = \"dm\", color = \"red\")\n",
    "# scatter!(fig_counter_example, λs, rejection_rates_normal_uniform[:,2], label = \"hipm\", color = \"green\")\n",
    "# scatter!(fig_counter_example, λs, rejection_rates_normal_uniform[:,3], label = \"wow\", color = \"brown\")\n",
    "# scatter!(fig_counter_example, λs, rejection_rates_normal_uniform[:,4], label = \"Energy\", color = \"blue\")\n"
   ]
  },
  {
   "cell_type": "code",
   "execution_count": null,
   "id": "c8d3e46c",
   "metadata": {},
   "outputs": [],
   "source": [
    "# fig_counter_example = plot(title = \"Power of 4 testing schemes\", xlabel = \"λ\", ylabel = \"Power\", xlims=(-0.1, 1.1), ylims = (-0.1, 1.1))\n",
    "# plot!(fig_counter_example, λs, rejection_rates_normal_uniform[:,1], label = \"dm\", color = \"red\",marker = (:circle, 8))\n",
    "# plot!(fig_counter_example, λs, rejection_rates_normal_uniform[:,2], label = \"hipm\", color = \"green\",marker = (:circle, 8))\n",
    "# plot!(fig_counter_example, λs, rejection_rates_normal_uniform[:,3], label = \"wow\", color = \"brown\",marker = (:circle, 8))\n",
    "# plot!(fig_counter_example, λs, rejection_rates_normal_uniform[:,4], label = \"Energy\", color = \"blue\",marker = (:circle, 8))\n",
    "\n",
    "# filepath = joinpath(pwd(), \"frechet/counterexample\")\n",
    "# savefig(fig_counter_example,joinpath(filepath, \"power_normal_uniform_counter_example_boostrap_n_top=$(n_top)_n_bottom=$(n_bottom)_S=$(S)_nboostrap=$(n_boostrap).png\"))"
   ]
  },
  {
   "cell_type": "markdown",
   "id": "8a7b491c",
   "metadata": {},
   "source": [
    "# With permutation"
   ]
  },
  {
   "cell_type": "code",
   "execution_count": null,
   "id": "91362dfe",
   "metadata": {},
   "outputs": [
    {
     "name": "stdout",
     "output_type": "stream",
     "text": [
      "parameter is 0.0\n",
      "time taken to get thresholds is 0.05356287956237793 seconds\n",
      "time taken for S=1 is 1.1255271434783936 seconds\n",
      "parameter is 0.25\n",
      "time taken to get thresholds is 0.49570202827453613 seconds\n",
      "time taken for S=1 is 0.023925065994262695 seconds\n",
      "parameter is 0.5\n",
      "time taken to get thresholds is 0.017979145050048828 seconds\n",
      "time taken for S=1 is 0.01970696449279785 seconds\n",
      "parameter is 0.75\n",
      "time taken to get thresholds is 0.014227867126464844 seconds\n",
      "time taken for S=1 is 0.017826080322265625 seconds\n",
      "parameter is 1.0\n",
      "time taken to get thresholds is 0.014303922653198242 seconds\n",
      "time taken for S=1 is 0.024312973022460938 seconds\n"
     ]
    },
    {
     "data": {
      "text/plain": [
       "\"/Users/giorgikanchaveli/Desktop/Two-samples-test/frechet/counterexample/power_normal_uniform_counter_example_permutation_n_top=2_n_bottom=200_S=1_npermutations=1.png\""
      ]
     },
     "execution_count": 19,
     "metadata": {},
     "output_type": "execute_result"
    }
   ],
   "source": [
    "n_top, n_bottom = 100,2000\n",
    "n_permutations = 100\n",
    "S = 100\n",
    "θ = 0.05\n",
    "\n",
    "Random.seed!(1234) # for reproducibility\n",
    "\n",
    "a, b = 0.0, 2.0\n",
    "μ, σ = 1.0, sqrt(1/3)\n",
    "\n",
    "mixture(λ) = mixture_ppm(normal_normal(μ,σ), uniform_normal(a,b), λ) # low lambda means more to second distribution which here is uniform normal\n",
    "power_normal_uniform(λ) = rejection_rate(normal_normal(μ,σ), mixture(λ), S, n_top, n_bottom, n_permutations, θ, false)\n",
    "\n",
    "λs = collect(0.0:0.1:1.0)\n",
    "rejection_rates_normal_uniform = rejection_rates_per_parameter(λs, power_normal_uniform)\n",
    "\n",
    "fig_counter_example = plot(title = \"Power of 4 testing schemes\", xlabel = \"λ\", ylabel = \"Power\", xlims=(-0.1, 1.1), ylims = (-0.1, 1.1))\n",
    "plot!(fig_counter_example, λs, rejection_rates_normal_uniform[:,1], label = \"dm\", color = \"red\",marker = (:circle, 4))\n",
    "plot!(fig_counter_example, λs, rejection_rates_normal_uniform[:,2], label = \"hipm\", color = \"green\",marker = (:circle, 4))\n",
    "plot!(fig_counter_example, λs, rejection_rates_normal_uniform[:,3], label = \"wow\", color = \"brown\",marker = (:circle, 4))\n",
    "plot!(fig_counter_example, λs, rejection_rates_normal_uniform[:,4], label = \"Energy\", color = \"blue\",marker = (:circle, 4))\n",
    "\n",
    "filepath = joinpath(pwd(), \"frechet/counterexample\")\n",
    "savefig(fig_counter_example,joinpath(filepath, \"power_normal_uniform_counter_example_permutation_n_top=$(n_top)_n_bottom=$(n_bottom)_S=$(S)_npermutations=$(n_permutations).png\"))\n",
    "\n",
    "\n",
    "\n",
    "\n",
    "\n",
    "# # #minimum_power_dm = minimum(power_function_dm[])\n",
    "# # #hline!([minimum_power_dm], color=:red, linestyle=:dash, label=\"minimum power for dm\")\n",
    "\n",
    "\n",
    "\n"
   ]
  },
  {
   "cell_type": "code",
   "execution_count": null,
   "id": "9349759c",
   "metadata": {},
   "outputs": [],
   "source": [
    "# fig_counter_example = plot(title = \"Power of 4 testing schemes\", xlabel = \"λ\", ylabel = \"Power\", xlims=(-0.1, 1.1), ylims = (-0.1, 1.1))\n",
    "# scatter!(fig_counter_example, λs, rejection_rates_normal_uniform[:,1], label = \"dm\", color = \"red\")\n",
    "# scatter!(fig_counter_example, λs, rejection_rates_normal_uniform[:,2], label = \"hipm\", color = \"green\")\n",
    "# scatter!(fig_counter_example, λs, rejection_rates_normal_uniform[:,3], label = \"wow\", color = \"brown\")\n",
    "# scatter!(fig_counter_example, λs, rejection_rates_normal_uniform[:,4], label = \"Energy\", color = \"blue\")\n"
   ]
  },
  {
   "cell_type": "code",
   "execution_count": null,
   "id": "64ec014c",
   "metadata": {},
   "outputs": [],
   "source": [
    "# fig_counter_example = plot(title = \"Power of 4 testing schemes\", xlabel = \"λ\", ylabel = \"Power\", xlims=(-0.1, 1.1), ylims = (-0.1, 1.1))\n",
    "# plot!(fig_counter_example, λs, rejection_rates_normal_uniform[:,1], label = \"dm\", color = \"red\")\n",
    "# plot!(fig_counter_example, λs, rejection_rates_normal_uniform[:,2], label = \"hipm\", color = \"green\")\n",
    "# plot!(fig_counter_example, λs, rejection_rates_normal_uniform[:,3], label = \"wow\", color = \"brown\")\n",
    "# plot!(fig_counter_example, λs, rejection_rates_normal_uniform[:,4], label = \"Energy\", color = \"blue\")\n",
    "\n",
    "\n",
    "# filepath = joinpath(pwd(), \"frechet/counterexample\")\n",
    "# savefig(fig_counter_example,joinpath(filepath, \"power_normal_uniform_counter_example_permutation_n_top=$(n_top)_n_bottom=$(n_bottom)_S=$(S)_permutations=$(n_permutations).png\"))"
   ]
  },
  {
   "cell_type": "markdown",
   "id": "e6072935",
   "metadata": {},
   "source": [
    "# Does it matter if n_permutations = 100 or 1000?\n"
   ]
  },
  {
   "cell_type": "code",
   "execution_count": null,
   "id": "85293252",
   "metadata": {},
   "outputs": [],
   "source": [
    "# function rej_rates_denanova(q_1::PPM, q_2::PPM, S::Int, n_top::Int, n_boostrap::Int, θ::Float64)\n",
    "#     # obtain rejection rates of denanova with boostrap\n",
    "#     # for given laws of RPMs q_1 and q_2\n",
    "#     # S : number of times we simulate two samples from given laws of RPM\n",
    "#     # n_top : number of probability measures we simulate from each q\n",
    "#     # n_boostrap : number of times we repeat bootstrap procedure to estimate the quantile of the test statistic.\n",
    "    \n",
    "#     rej_rate_denanova = 0.0\n",
    "\n",
    "#     println(\"law of RPMS are: $(q_1)\")\n",
    "#     println(\"$(q_2)\")\n",
    "\n",
    "#     for s in 1:S\n",
    "#         mu_1, mu_2 = [pm_1.μ for pm_1 in generate_prob_measures(q_1, n_top)], [pm_2.μ for pm_2 in generate_prob_measures(q_2, n_top)]\n",
    "#         println(\"s is $(s)\")\n",
    "#         rej_rate_denanova += denanova_from_r(mu_1, mu_2; n_boostrap=100, θ = θ)\n",
    "#     end\n",
    "#     rej_rate_denanova /= S\n",
    "#     return rej_rate_denanova\n",
    "# end"
   ]
  },
  {
   "cell_type": "code",
   "execution_count": null,
   "id": "f88c37b4",
   "metadata": {},
   "outputs": [],
   "source": [
    "# function rejections_anova_permutation_opt(δs::Vector{Float64})\n",
    "#     rej_rate_denanova_1 = zeros(length(δs))\n",
    "#     rej_rate_denanova_2 = zeros(length(δs))\n",
    "#     for (i,δ) in enumerate(δs)\n",
    "#         q_1, q_2 = tnormal_normal(0.0, 0.5, -10.0, 10.0), tnormal_normal(δ, 0.5, -10.0, 10.0)\n",
    "#         rej_rate_denanova_1[i] = rej_rates_denanova(q_1, q_2, 1000, 100, 100, 0.05)\n",
    "#         rej_rate_denanova_2[i] = rej_rates_denanova(q_1, q_2, 1000, 100, 1000, 0.05)\n",
    "#     end\n",
    "#     return rej_rate_denanova_1, rej_rate_denanova_2\n",
    "# end\n"
   ]
  },
  {
   "cell_type": "code",
   "execution_count": null,
   "id": "ef2a1978",
   "metadata": {},
   "outputs": [],
   "source": [
    "# n_top, n_bottom = 100,2000\n",
    "# n_boostrap_1 = 100\n",
    "# n_boostrap_2 = 1000\n",
    "# S_1 = 1000\n",
    "# S_2 = 1000\n",
    "# θ = 0.05\n",
    "\n",
    "\n",
    "\n",
    "# Random.seed!(1234) # for reproducibility\n",
    "# δs = collect(-1.0:0.1:1.0)\n",
    "\n",
    "# rej_rate_denanova_1, rej_rate_denanova_2 = rejections_anova_permutation_opt(δs)\n",
    "\n"
   ]
  },
  {
   "cell_type": "code",
   "execution_count": null,
   "id": "193f824b",
   "metadata": {},
   "outputs": [],
   "source": [
    "# println(\"rejection rate 1 : $rej_rate_denanova_1\")\n",
    "# println(\"rejection rate 2 : $rej_rate_denanova_2\")"
   ]
  },
  {
   "cell_type": "code",
   "execution_count": null,
   "id": "0208e380",
   "metadata": {},
   "outputs": [],
   "source": [
    "# fig_denanova = plot(title = \"Power of DenANOVA per diff n_boost\", xlabel = \"δ\", ylabel = \"Power\", xlims=(-1.1, 1.1), ylims = (-0.1, 1.1))\n",
    "# plot!(fig_denanova, δs, rej_rate_denanova_1, label = \"n_boost = 100\", color = \"red\")\n",
    "# plot!(fig_denanova, δs, rej_rate_denanova_2, label = \"n_boost = 1000\", color = \"blue\")\n",
    "\n"
   ]
  },
  {
   "cell_type": "code",
   "execution_count": null,
   "id": "49289259",
   "metadata": {},
   "outputs": [],
   "source": [
    "# println(\"diff = \",rej_rate_denanova_2 - rej_rate_denanova_1)"
   ]
  },
  {
   "cell_type": "code",
   "execution_count": null,
   "id": "141da71f",
   "metadata": {},
   "outputs": [],
   "source": [
    "\n",
    "\n",
    "\n",
    "\n",
    "\n",
    "# n_top, n_bottom = 100,2000\n",
    "# n_boostrap = 100\n",
    "# S = 100\n",
    "# θ = 0.05\n",
    "\n",
    "# Random.seed!(1234) # for reproducibility\n",
    "# δs = collect(-1.0:0.1:1.0)\n",
    "# rej_rate_denanova_per_delta, rej_rate_my_per_delta = zeros(length(δs)), zeros(length(δs))\n",
    "# for (i, δ) in enumerate(δs)\n",
    "#     q_1, q_2 = tnormal_normal(0.0, 0.5, -10.0, 10.0), tnormal_normal(δ, 0.5, -10.0, 10.0)\n",
    "\n",
    "#     rej_rate_denanova, rej_rate_my = rej_rates_denanova_my(q_1, q_2, S, n_top, n_boostrap, θ)\n",
    "#     rej_rate_denanova_per_delta[i] = rej_rate_denanova\n",
    "#     rej_rate_my_per_delta[i] = rej_rate_my\n",
    "# end\n",
    "# fig_denanova_vs_my = plot(title = \"Power of DenANOVA vs my implementation of DM\", xlabel = \"δ\", ylabel = \"Power\", xlims=(-1.1, 1.1), ylims = (-0.1, 1.1))\n",
    "# plot!(fig_denanova_vs_my, δs, rej_rate_denanova_per_delta, label = \"DenANOVA\", color = \"red\")\n",
    "# plot!(fig_denanova_vs_my, δs, rej_rate_my_per_delta, label = \"My DM\", color = \"blue\")\n",
    "\n",
    "\n",
    "\n",
    "\n",
    "\n",
    "\n"
   ]
  },
  {
   "cell_type": "code",
   "execution_count": null,
   "id": "6c19fdea",
   "metadata": {},
   "outputs": [],
   "source": [
    "# rej_rate_denanova_per_delta"
   ]
  },
  {
   "cell_type": "code",
   "execution_count": null,
   "id": "72c284d0",
   "metadata": {},
   "outputs": [],
   "source": [
    "# differences = abs.(rej_rate_my_per_delta .- rej_rate_denanova_per_delta)"
   ]
  },
  {
   "cell_type": "code",
   "execution_count": null,
   "id": "06d7bc43",
   "metadata": {},
   "outputs": [],
   "source": [
    "# plot(δs, differences, title = \"Difference between DenANOVA and my implementation of DM\", xlabel = \"δ\",ylabel = \"Absolute difference in power\", xlims=(-1.1, 1.1), ylims = (-0.05, 0.2), label = \"Absolute difference\", color = \"purple\")"
   ]
  },
  {
   "cell_type": "code",
   "execution_count": null,
   "id": "8c4fbe7a",
   "metadata": {},
   "outputs": [],
   "source": [
    "# function rej_rates_denanova_my(q_1::PPM, q_2::PPM, n_top::Int, n_bottom::Int, S::Int, n_boostrap::Int, θ::Float64)\n",
    "#     # This function computes the rejection using DenANOVA from R package \"frechet\" and my implementation of Dubey & Muller test\n",
    "\n",
    "#     # Inputs:\n",
    "#         # q_1, q_2 : laws of two RPMs\n",
    "#         # n_top : number of atoms in hierarchical samples generated from RPMs\n",
    "#         # n_bottom : number of observations generated from each atom in hierarchical samples\n",
    "#         # S : number of simulations to approximate the rejection rates\n",
    "#         # n_boostrap: number of times we repeat bootstrap procedure to estimate the quantile of the test statistic\n",
    "#         # θ : significance level, default value is 0.05\n",
    "    \n",
    "#     rej_rate_denanova, rej_rate_my = 0.0, 0.0\n",
    "#     for s in 1:S\n",
    "#         prob_measures_1 = generate_prob_measures(q_1, n_top) # generate n_top probability measures from law q_1\n",
    "#         prob_measures_2 = generate_prob_measures(q_2, n_top) # generate n_top probability measures from law q_2\n",
    "#         mu_1 = [pm.μ for pm in prob_measures_1] # collect means of probability measures from first sample\n",
    "#         mu_2 = [pm.μ for pm in prob_measures_2] # collect means of probability measures from second sample\n",
    "\n",
    "#         rej_rate_denanova += decide_denanova_from_r(mu_1, mu_2; n_boostrap=n_boostrap, θ = θ)\n",
    "#         rej_rate_my += decide_dm_boostrap(mu_1, mu_2, n_boostrap, θ)\n",
    "#     end\n",
    "#     return rej_rate_denanova / S, rej_rate_my / S\n",
    "# end \n",
    "\n",
    "\n"
   ]
  },
  {
   "cell_type": "code",
   "execution_count": null,
   "id": "0a8d9373",
   "metadata": {},
   "outputs": [],
   "source": []
  }
 ],
 "metadata": {
  "kernelspec": {
   "display_name": "Julia 1.11.6",
   "language": "julia",
   "name": "julia-1.11"
  },
  "language_info": {
   "file_extension": ".jl",
   "mimetype": "application/julia",
   "name": "julia",
   "version": "1.11.6"
  }
 },
 "nbformat": 4,
 "nbformat_minor": 5
}
