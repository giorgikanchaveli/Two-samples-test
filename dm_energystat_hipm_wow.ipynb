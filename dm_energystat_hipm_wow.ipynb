{
 "cells": [
  {
   "cell_type": "markdown",
   "id": "aec880ba",
   "metadata": {},
   "source": [
    "Here we compare 4 testing schemes: Dubey & Muller, Energy statistic (Szekely & Rizzo 2004), HIPM, WoW.\n",
    "\n",
    "In particular we compare power functions on the example of random probability measures from Fig 1 Dubey & Muller."
   ]
  },
  {
   "cell_type": "markdown",
   "id": "f212fa8b",
   "metadata": {},
   "source": [
    "### Plots\n",
    "\n",
    "1. **Varying Mean — Permutation (Figure 1 Left)**  \n",
    "   \n",
    "   We consider Truncated normal - normal model for the law of random probability measures. In that model, firstly mean $\\widetilde{\\mu}$ is generated from TN ditribution and random probability measure is normal distribution with mean $\\widetilde{\\mu}$ and variance $1.$ We consider several pairs of such laws by varying the means of prior distribution. For each pair, we display the rejection rates. For HIPM and WoW s we use Permutation approach.\n",
    "\n",
    "2. **Varying Mean — Bootstrap (Figure 1 Left)** \n",
    " \n",
    "   Same setup as (1), but using the **bootstrap** approach for **HIPM** and **WoW**.\n",
    "\n",
    "3. **Varying Variance — Permutation (Figure 1 Right)**  \n",
    "   \n",
    "   Here difference from 1) and 2) is that we vary variance of the prior distribution of random probability measure.\n",
    "\n",
    "4. **Varying Variance — Bootstrap (Figure 1 Right)**  \n",
    "\n",
    "   Same as 3) but with Boostrap approach for HIPM and WoW.\n"
   ]
  },
  {
   "cell_type": "code",
   "execution_count": 1,
   "id": "d2546c05",
   "metadata": {},
   "outputs": [
    {
     "data": {
      "text/plain": [
       "savefig_for_rejections_hipm_wow (generic function with 3 methods)"
      ]
     },
     "execution_count": 1,
     "metadata": {},
     "output_type": "execute_result"
    }
   ],
   "source": [
    "include(\"methods_for_simulations.jl\")\n",
    "\n",
    "\n"
   ]
  },
  {
   "cell_type": "markdown",
   "id": "fc1d572a",
   "metadata": {},
   "source": [
    "# Figure 1, Left, of the paper, varying mean, with permutation\n"
   ]
  },
  {
   "cell_type": "markdown",
   "id": "2450df92",
   "metadata": {},
   "source": [
    "Now we plot the power function per $\\delta$ as it is in their paper for Figure 1\n"
   ]
  },
  {
   "cell_type": "code",
   "execution_count": 2,
   "id": "6b924fd7",
   "metadata": {},
   "outputs": [
    {
     "data": {
      "text/plain": [
       "4.72819798556137"
      ]
     },
     "execution_count": 2,
     "metadata": {},
     "output_type": "execute_result"
    }
   ],
   "source": [
    "n_top, n_bottom = 100,200\n",
    "n_boostrap = 1\n",
    "S = 1\n",
    "θ = 0.05\n",
    "\n",
    "δ = 0.1\n",
    "\n",
    "q_1 = tnormal_normal(0.0, 0.5, -10.0, 10.0)\n",
    "q_2 = tnormal_normal(δ, 0.5, -10.0, 10.0)\n",
    "\n",
    "\n",
    "prob_measures_1 = generate_prob_measures(q_1, n_top)\n",
    "prob_measures_2 = generate_prob_measures(q_2, n_top)\n",
    "\n",
    "\n",
    "q_1_emp = generate_emp(q_1, n_top, n_bottom)\n",
    "q_2_emp = generate_emp(q_2, n_top, n_bottom)\n",
    "\n",
    "a = minimum([q_1_emp.a, q_2_emp.a])\n",
    "b = maximum([q_1_emp.b, q_2_emp.b])\n",
    "q_1_emp.a = a\n",
    "q_2_emp.a = a\n",
    "q_1_emp.b = b\n",
    "q_2_emp.b = b\n",
    "\n",
    "\n",
    "\n"
   ]
  },
  {
   "cell_type": "markdown",
   "id": "d5b758dc",
   "metadata": {},
   "source": [
    "To obtain the thresholds for HIPM and WoW when n_permutation = 100,n_top = 100,n_bottom = 200, we need 1.3 seconds per each permutation. So 130 seconds in total\n",
    "\n",
    "\n",
    "Once thresholds are obtained for each generated hierarchical samples we need 1.8 seconds to get decisions from all testing schemes (still, n_permutation = 100). So 180 seconds in total.\n",
    "\n",
    "Total time for S = 100 for one pair of measures is maximum 5.2 minutes\n",
    "\n",
    "\n",
    "\n",
    "\n",
    "maybe: \n",
    "for n_bottom = 200, we need in total 103 seconds for thresholds for HIPM and WoW\n",
    "Once thresholds are obtained we need 1.7 seconds for only one generated sample.\n",
    "Total time in that case is 5 minutes"
   ]
  },
  {
   "cell_type": "code",
   "execution_count": null,
   "id": "ec6e8899",
   "metadata": {},
   "outputs": [],
   "source": [
    "# n_top, n_bottom = 100,200\n",
    "# n_permutation = 100\n",
    "# S = 100\n",
    "# θ = 0.05\n",
    "\n",
    "# Random.seed!(1234) # for reproducibility\n",
    "\n",
    "# # maybe variance should be sqrt(0.5) instead of 0.5 ???\n",
    "# power_tnormal_normal(δ) = rejection_rate(tnormal_normal(0.0, 0.5, -10.0, 10.0), tnormal_normal(δ, 0.5, -10.0, 10.0),S, n_top, n_bottom, n_permutation, θ,false) # powers per δ for each testing scheme\n",
    "\n",
    "# δs = collect(-1.0:0.1:1.0)\n",
    "# rejection_rates_tnormal_normal = rejection_rates_per_parameter(δs, power_tnormal_normal)\n",
    "# fig_1 = plot(title = \"Power of 4 testing schemes\", xlabel = \"δ\", ylabel = \"Power\", xlims=(-1.0, 1.1), ylims = (-0.1, 1.1))\n",
    "# plot!(fig_1, δs, rejection_rates_tnormal_normal[:,1], label = \"dm\", color = \"red\",marker = (:circle, 4))\n",
    "# plot!(fig_1, δs, rejection_rates_tnormal_normal[:,2], label = \"hipm\", color = \"green\", marker = (:circle, 4))\n",
    "# plot!(fig_1, δs, rejection_rates_tnormal_normal[:,3], label = \"wow\", color = \"brown\", marker = (:circle, 4))\n",
    "# plot!(fig_1, δs, rejection_rates_tnormal_normal[:,4], label = \"Energy\", color = \"blue\", marker = (:circle, 4))\n",
    "# filepath = joinpath(pwd(), \"frechet/figure1\")\n",
    "# savefig(fig_1,joinpath(filepath, \"power_tnormal_normal_varying_mean_n_top=$(n_top)_n_bottom=$(n_bottom)_S=$(S)_npermutation=$(n_permutation).png\"))\n",
    "\n",
    "# # # #minimum_power_dm = minimum(power_function_dm[])\n",
    "# # # #hline!([minimum_power_dm], color=:red, linestyle=:dash, label=\"minimum power for dm\")\n",
    "\n",
    "\n"
   ]
  },
  {
   "cell_type": "markdown",
   "id": "6a4f517c",
   "metadata": {},
   "source": [
    "# Figure 1, Left, of the paper, varying mean, with Boostrap\n"
   ]
  },
  {
   "cell_type": "markdown",
   "id": "35ef5920",
   "metadata": {},
   "source": [
    "To obtain the thresholds for HIPM and WoW when n_boostrap = 100,n_top = 100,n_bottom = 200, we need 1 seconds per each boostrap. So 100 seconds in total\n",
    "\n",
    "\n",
    "Once thresholds are obtained for each generated hierarchical samples we need 1.8 seconds to get decisions from all testing schemes (still, n_boostrap = 100). So 180 seconds in total.\n",
    "\n",
    "Total time for S = 100 for one pair of measures is maximum 4.7 minutes\n",
    "\n",
    "\n",
    "\n",
    "\n",
    "maybe: \n",
    "for n_bottom = 200, we need in total 103 seconds for thresholds for HIPM and WoW\n",
    "Once thresholds are obtained we need 1.7 seconds for only one generated sample.\n",
    "Total time in that case is 5 minutes"
   ]
  },
  {
   "cell_type": "code",
   "execution_count": null,
   "id": "84352f7e",
   "metadata": {},
   "outputs": [],
   "source": [
    "# n_top, n_bottom = 100,200\n",
    "# n_boostrap = 100\n",
    "# S = 100\n",
    "# θ = 0.05\n",
    "\n",
    "# Random.seed!(1234) # for reproducibility\n",
    "\n",
    "# # maybe variance should be sqrt(0.5) instead of 0.5 ???\n",
    "# power_tnormal_normal(δ) = rejection_rate(tnormal_normal(0.0, 0.5, -10.0, 10.0), tnormal_normal(δ, 0.5, -10.0, 10.0),S, n_top, n_bottom, n_boostrap, θ,true) # powers per δ for each testing scheme\n",
    "\n",
    "# δs = collect(-1.0:0.1:1.0)\n",
    "# rejection_rates_tnormal_normal = rejection_rates_per_parameter(δs, power_tnormal_normal)\n",
    "# fig_1 = plot(title = \"Power of 4 testing schemes\", xlabel = \"δ\", ylabel = \"Power\", xlims=(-1.0, 1.1), ylims = (-0.1, 1.1))\n",
    "# plot!(fig_1, δs, rejection_rates_tnormal_normal[:,1], label = \"dm\", color = \"red\",marker = (:circle, 4))\n",
    "# plot!(fig_1, δs, rejection_rates_tnormal_normal[:,2], label = \"hipm\", color = \"green\", marker = (:circle, 4))\n",
    "# plot!(fig_1, δs, rejection_rates_tnormal_normal[:,3], label = \"wow\", color = \"brown\", marker = (:circle, 4))\n",
    "# plot!(fig_1, δs, rejection_rates_tnormal_normal[:,4], label = \"Energy\", color = \"blue\", marker = (:circle, 4))\n",
    "# filepath = joinpath(pwd(), \"frechet/figure1\")\n",
    "# savefig(fig_1,joinpath(filepath, \"power_tnormal_normal_varying_mean_n_top=$(n_top)_n_bottom=$(n_bottom)_S=$(S)_nboostrap=$(n_boostrap).png\"))\n",
    "\n",
    "# # # #minimum_power_dm = minimum(power_function_dm[])\n",
    "# # # #hline!([minimum_power_dm], color=:red, linestyle=:dash, label=\"minimum power for dm\")\n",
    "\n",
    "\n"
   ]
  },
  {
   "cell_type": "code",
   "execution_count": null,
   "id": "44bb171d",
   "metadata": {},
   "outputs": [],
   "source": []
  },
  {
   "cell_type": "markdown",
   "id": "573ea4e0",
   "metadata": {},
   "source": [
    "# Figure 1, Right of the paper, varying variance, with boostrap\n",
    "\n"
   ]
  },
  {
   "cell_type": "code",
   "execution_count": null,
   "id": "adb88a36",
   "metadata": {},
   "outputs": [],
   "source": [
    "# n_top, n_bottom = 100,200\n",
    "# n_boostrap = 100\n",
    "# S = 100\n",
    "# θ = 0.05\n",
    "\n",
    "# Random.seed!(1234) # for reproducibility\n",
    "\n",
    "# # maybe variance should be sqrt(0.5) instead of 0.5 ???\n",
    "# power_tnormal_normal(τ) = rejection_rate(tnormal_normal(0.0, 0.2, -10.0, 10.0), tnormal_normal(0.0, 0.2*τ, -10.0, 10.0),S, n_top, n_bottom, n_boostrap, θ, true) # powers per δ for each testing scheme\n",
    "\n",
    "# τs = collect(0.1:0.1:3.0)\n",
    "# rejection_rates_tnormal_normal = rejection_rates_per_parameter(τs, power_tnormal_normal)\n",
    "# fig_2 = plot(title = \"Power of 4 testing schemes\", xlabel = \"τ\", ylabel = \"Power\", xlims=(0.0, 3.1), ylims = (-0.1, 1.1))\n",
    "# plot!(fig_2, τs, rejection_rates_tnormal_normal[:,1], label = \"dm\", color = \"red\",marker = (:circle, 4))\n",
    "# plot!(fig_2, τs, rejection_rates_tnormal_normal[:,2], label = \"hipm\", color = \"green\", marker = (:circle, 4))\n",
    "# plot!(fig_2, τs, rejection_rates_tnormal_normal[:,3], label = \"wow\", color = \"brown\", marker = (:circle, 4))\n",
    "# plot!(fig_2, τs, rejection_rates_tnormal_normal[:,4], label = \"Energy\", color = \"blue\", marker = (:circle, 4))\n",
    "# filepath = joinpath(pwd(), \"frechet/figure1\")\n",
    "# savefig(fig_2,joinpath(filepath, \"power_tnormal_normal_varying_variance_n_top=$(n_top)_n_bottom=$(n_bottom)_S=$(S)_nboostrap=$(n_boostrap).png\"))\n",
    "\n",
    "# # # # #minimum_power_dm = minimum(power_function_dm[])\n",
    "# # # # #hline!([minimum_power_dm], color=:red, linestyle=:dash, label=\"minimum power for dm\")\n",
    "\n",
    "\n"
   ]
  },
  {
   "cell_type": "markdown",
   "id": "56aed668",
   "metadata": {},
   "source": [
    "# Figure 1, Right of the paper, varying variance, with permutation approach"
   ]
  },
  {
   "cell_type": "code",
   "execution_count": null,
   "id": "77caa110",
   "metadata": {},
   "outputs": [],
   "source": [
    "# n_top, n_bottom = 100,200\n",
    "# n_permutation = 100\n",
    "# S = 100\n",
    "# θ = 0.05\n",
    "\n",
    "# Random.seed!(1234) # for reproducibility\n",
    "\n",
    "# # maybe variance should be sqrt(0.5) instead of 0.5 ???\n",
    "# power_tnormal_normal(τ) = rejection_rate(tnormal_normal(0.0, 0.2, -10.0, 10.0), tnormal_normal(0.0, 0.2*τ, -10.0, 10.0),S, n_top, n_bottom, n_permutation, θ, false) # powers per δ for each testing scheme\n",
    "\n",
    "# τs = collect(0.1:0.1:3.0)\n",
    "# rejection_rates_tnormal_normal = rejection_rates_per_parameter(τs, power_tnormal_normal)\n",
    "# fig_2 = plot(title = \"Power of 4 testing schemes\", xlabel = \"τ\", ylabel = \"Power\", xlims=(0.0, 3.1), ylims = (-0.1, 1.1))\n",
    "# plot!(fig_2, τs, rejection_rates_tnormal_normal[:,1], label = \"dm\", color = \"red\", marker = (:circle, 4))\n",
    "# plot!(fig_2, τs, rejection_rates_tnormal_normal[:,2], label = \"hipm\", color = \"green\", marker = (:circle, 4))\n",
    "# plot!(fig_2, τs, rejection_rates_tnormal_normal[:,3], label = \"wow\", color = \"brown\", marker = (:circle, 4))\n",
    "# plot!(fig_2, τs, rejection_rates_tnormal_normal[:,4], label = \"Energy\", color = \"blue\", marker = (:circle, 4))\n",
    "# filepath = joinpath(pwd(), \"frechet/figure1\")\n",
    "# savefig(fig_2,joinpath(filepath, \"power_tnormal_normal_varying_variance_n_top=$(n_top)_n_bottom=$(n_bottom)_S=$(S)_npermutation=$(n_permutation).png\"))\n",
    "\n",
    "# # # #minimum_power_dm = minimum(power_function_dm[])\n",
    "# # # #hline!([minimum_power_dm], color=:red, linestyle=:dash, label=\"minimum power for dm\")\n",
    "\n",
    "\n"
   ]
  },
  {
   "cell_type": "markdown",
   "id": "5c384996",
   "metadata": {},
   "source": [
    "# Example where DM should fail"
   ]
  },
  {
   "cell_type": "markdown",
   "id": "1bf0cad0",
   "metadata": {},
   "source": [
    "Now let us do same simulations on different law of random probability measure: \n",
    "\n",
    "\n",
    "\n",
    "Define  \n",
    "$$\n",
    "Q^1 = \\mathcal{L}\\left(\\widetilde{P}^1\\right) \\quad \\text{where} \\quad \\widetilde{P}^1 = N\\left( \\widetilde{\\mu}^1, 1\\right), \\quad \\mathcal{L}\\left(\\widetilde{\\mu}^1\\right) =  \\frac{1}{2}\\delta_{-1} + \\frac{1}{2}\\delta_{1},\n",
    "$$\n",
    "$$\n",
    "Q^2 = \\mathcal{L}\\left(\\widetilde{P}^2\\right) \\quad \\text{where} \\quad \\widetilde{P}^2 = N\\left( \\widetilde{\\mu}^2, 1\\right), \\quad \\mathcal{L}\\left(\\widetilde{\\mu}^1\\right) =  \\frac{1}{8}\\delta_{-2} + \\frac{3}{4}\\delta_{0} + \\frac{1}{8}\\delta_{2}.\n",
    "$$\n",
    "Then the laws $Q^1$ and $Q^2$ are different but they induce same Fréchet mean and variance\n",
    "\n",
    "Then for each $\\lambda \\in (0,1)$ we can consider family of pairs \n",
    "$$\n",
    "Q^1 \\quad \\text{and} \\quad Q_{\\lambda} = \\lambda Q^1 + (1 - \\lambda)Q^2.\n",
    "$$\n",
    "We obtain two different laws with same Fréchet mean and variance\n",
    "\n",
    "Below, we plot power functions as we vary $\\lambda$.\n",
    "\n"
   ]
  },
  {
   "cell_type": "markdown",
   "id": "8a7b491c",
   "metadata": {},
   "source": [
    "# With permutation"
   ]
  },
  {
   "cell_type": "code",
   "execution_count": null,
   "id": "4f43c24f",
   "metadata": {},
   "outputs": [],
   "source": [
    "# n_top, n_bottom = 100,200\n",
    "# n_permutations = 100\n",
    "# S = 100\n",
    "# θ = 0.05\n",
    "\n",
    "# Random.seed!(1234) # for reproducibility\n",
    "\n",
    "\n",
    "# mixture(λ) = mixture_ppm(simple_discr_1(), simple_discr_2(), λ) # low lambda means more to second distribution which here is uniform normal\n",
    "# power_simple_discr(λ) = rejection_rate(simple_discr_1(), mixture(λ), S, n_top, n_bottom, n_permutations, θ, false)\n",
    "\n",
    "# λs = collect(0.0:0.1:1.0)\n",
    "# rejection_rates_simple_discr = rejection_rates_per_parameter(λs, power_simple_discr)\n",
    "\n",
    "# fig_counter_example = plot(title = \"Power of 4 testing schemes\", xlabel = \"λ\", ylabel = \"Power\", xlims=(-0.1, 1.1), ylims = (-0.1, 1.1))\n",
    "# plot!(fig_counter_example, λs, rejection_rates_simple_discr[:,1], label = \"dm\", color = \"red\",marker = (:circle, 4))\n",
    "# plot!(fig_counter_example, λs, rejection_rates_simple_discr[:,2], label = \"hipm\", color = \"green\",marker = (:circle, 4))\n",
    "# plot!(fig_counter_example, λs, rejection_rates_simple_discr[:,3], label = \"wow\", color = \"brown\",marker = (:circle, 4))\n",
    "# plot!(fig_counter_example, λs, rejection_rates_simple_discr[:,4], label = \"Energy\", color = \"blue\",marker = (:circle, 4))\n",
    "\n",
    "# filepath = joinpath(pwd(), \"frechet/counterexample\")\n",
    "# savefig(fig_counter_example,joinpath(filepath, \"power_simple_discr_counter_example_n_top=$(n_top)_n_bottom=$(n_bottom)_S=$(S)_npermutations=$(n_permutations).png\"))\n",
    "\n",
    "\n",
    "\n",
    "\n",
    "\n",
    "# # # #minimum_power_dm = minimum(power_function_dm[])\n",
    "# # # #hline!([minimum_power_dm], color=:red, linestyle=:dash, label=\"minimum power for dm\")\n",
    "\n",
    "# # asd \n",
    "\n"
   ]
  },
  {
   "cell_type": "markdown",
   "id": "25dc22de",
   "metadata": {},
   "source": [
    "# With Boostrap"
   ]
  },
  {
   "cell_type": "code",
   "execution_count": null,
   "id": "134e02ec",
   "metadata": {},
   "outputs": [],
   "source": [
    "# n_top, n_bottom = 100,200\n",
    "# n_boostrap = 100\n",
    "# S = 100\n",
    "# θ = 0.05\n",
    "\n",
    "# Random.seed!(1234) # for reproducibility\n",
    "\n",
    "\n",
    "# mixture(λ) = mixture_ppm(simple_discr_1(), simple_discr_2(), λ) # low lambda means more to second distribution which here is uniform normal\n",
    "# power_simple_discr(λ) = rejection_rate(simple_discr_1(), mixture(λ), S, n_top, n_bottom, n_boostrap, θ, true)\n",
    "\n",
    "# λs = collect(0.0:0.2:1.0)\n",
    "# rejection_rates_simple_discr = rejection_rates_per_parameter(λs, power_simple_discr)\n",
    "\n",
    "# fig_counter_example = plot(title = \"Power of 4 testing schemes\", xlabel = \"λ\", ylabel = \"Power\", xlims=(-0.1, 1.1), ylims = (-0.1, 1.1))\n",
    "# plot!(fig_counter_example, λs, rejection_rates_simple_discr[:,1], label = \"dm\", color = \"red\",marker = (:circle, 4))\n",
    "# plot!(fig_counter_example, λs, rejection_rates_simple_discr[:,2], label = \"hipm\", color = \"green\",marker = (:circle, 4))\n",
    "# plot!(fig_counter_example, λs, rejection_rates_simple_discr[:,3], label = \"wow\", color = \"brown\",marker = (:circle, 4))\n",
    "# plot!(fig_counter_example, λs, rejection_rates_simple_discr[:,4], label = \"Energy\", color = \"blue\",marker = (:circle, 4))\n",
    "\n",
    "# filepath = joinpath(pwd(), \"frechet/counterexample\")\n",
    "# savefig(fig_counter_example,joinpath(filepath, \"power_simple_discr_counter_example_n_top=$(n_top)_n_bottom=$(n_bottom)_S=$(S)_nboostrap=$(n_boostrap).png\"))\n",
    "\n",
    "\n",
    "\n",
    "\n",
    "\n",
    "# # # #minimum_power_dm = minimum(power_function_dm[])\n",
    "# # # #hline!([minimum_power_dm], color=:red, linestyle=:dash, label=\"minimum power for dm\")\n",
    "\n",
    "\n",
    "\n"
   ]
  },
  {
   "cell_type": "markdown",
   "id": "66bb45f3",
   "metadata": {},
   "source": [
    "# Older counterexamples"
   ]
  },
  {
   "cell_type": "code",
   "execution_count": null,
   "id": "91362dfe",
   "metadata": {},
   "outputs": [],
   "source": [
    "# n_top, n_bottom = 100,200\n",
    "# n_permutations = 100\n",
    "# S = 100\n",
    "# θ = 0.05\n",
    "\n",
    "# Random.seed!(1234) # for reproducibility\n",
    "\n",
    "# a, b = 0.0, 2.0\n",
    "# μ, σ = 1.0, sqrt(1/3)\n",
    "\n",
    "# mixture(λ) = mixture_ppm(normal_normal(μ,σ), uniform_normal(a,b), λ) # low lambda means more to second distribution which here is uniform normal\n",
    "# power_normal_uniform(λ) = rejection_rate(normal_normal(μ,σ), mixture(λ), S, n_top, n_bottom, n_permutations, θ, false)\n",
    "\n",
    "# λs = collect(0.0:0.1:1.0)\n",
    "# rejection_rates_normal_uniform = rejection_rates_per_parameter(λs, power_normal_uniform)\n",
    "\n",
    "# fig_counter_example = plot(title = \"Power of 4 testing schemes\", xlabel = \"λ\", ylabel = \"Power\", xlims=(-0.1, 1.1), ylims = (-0.1, 1.1))\n",
    "# plot!(fig_counter_example, λs, rejection_rates_normal_uniform[:,1], label = \"dm\", color = \"red\",marker = (:circle, 4))\n",
    "# plot!(fig_counter_example, λs, rejection_rates_normal_uniform[:,2], label = \"hipm\", color = \"green\",marker = (:circle, 4))\n",
    "# plot!(fig_counter_example, λs, rejection_rates_normal_uniform[:,3], label = \"wow\", color = \"brown\",marker = (:circle, 4))\n",
    "# plot!(fig_counter_example, λs, rejection_rates_normal_uniform[:,4], label = \"Energy\", color = \"blue\",marker = (:circle, 4))\n",
    "\n",
    "# filepath = joinpath(pwd(), \"frechet/counterexample\")\n",
    "# savefig(fig_counter_example,joinpath(filepath, \"power_normal_uniform_counter_example_permutation_n_top=$(n_top)_n_bottom=$(n_bottom)_S=$(S)_npermutations=$(n_permutations).png\"))\n",
    "\n",
    "\n",
    "\n",
    "\n",
    "\n"
   ]
  },
  {
   "cell_type": "code",
   "execution_count": null,
   "id": "64d79b68",
   "metadata": {},
   "outputs": [],
   "source": [
    "# n_top, n_bottom = 100,200\n",
    "# n_boostrap = 100\n",
    "# S = 100\n",
    "# θ = 0.05\n",
    "\n",
    "# Random.seed!(1234) # for reproducibility\n",
    "\n",
    "# a, b = 0.0, 2.0\n",
    "# μ, σ = 1.0, sqrt(1/3)\n",
    "\n",
    "# mixture(λ) = mixture_ppm(normal_normal(μ,σ), uniform_normal(a,b), λ) # low lambda means more to second distribution which here is uniform normal\n",
    "# power_normal_uniform(λ) = rejection_rate(normal_normal(μ,σ), mixture(λ), S, n_top, n_bottom, n_boostrap, θ, true) \n",
    "\n",
    "# λs = collect(0.0:0.1:1.0)\n",
    "# rejection_rates_normal_uniform = rejection_rates_per_parameter(λs, power_normal_uniform)\n",
    "\n",
    "# fig_counter_example = plot(title = \"Power of 4 testing schemes\", xlabel = \"λ\", ylabel = \"Power\", xlims=(-0.1, 1.1), ylims = (-0.1, 1.1))\n",
    "# plot!(fig_counter_example, λs, rejection_rates_normal_uniform[:,1], label = \"dm\", color = \"red\",marker = (:circle, 4))\n",
    "# plot!(fig_counter_example, λs, rejection_rates_normal_uniform[:,2], label = \"hipm\", color = \"green\",marker = (:circle, 4))\n",
    "# plot!(fig_counter_example, λs, rejection_rates_normal_uniform[:,3], label = \"wow\", color = \"brown\",marker = (:circle, 4))\n",
    "# plot!(fig_counter_example, λs, rejection_rates_normal_uniform[:,4], label = \"Energy\", color = \"blue\",marker = (:circle, 4))\n",
    "\n",
    "# filepath = joinpath(pwd(), \"frechet/counterexample\")\n",
    "# savefig(fig_counter_example,joinpath(filepath, \"power_normal_uniform_counter_example_boostrap_n_top=$(n_top)_n_bottom=$(n_bottom)_S=$(S)_nboostrap=$(n_boostrap).png\"))\n",
    "\n",
    "\n",
    "\n"
   ]
  },
  {
   "cell_type": "code",
   "execution_count": null,
   "id": "e6c0603b",
   "metadata": {},
   "outputs": [],
   "source": []
  },
  {
   "cell_type": "code",
   "execution_count": null,
   "id": "b5d59ab9",
   "metadata": {},
   "outputs": [],
   "source": []
  },
  {
   "cell_type": "code",
   "execution_count": null,
   "id": "66268ae7",
   "metadata": {},
   "outputs": [],
   "source": []
  },
  {
   "cell_type": "code",
   "execution_count": null,
   "id": "888e16ee",
   "metadata": {},
   "outputs": [],
   "source": []
  },
  {
   "cell_type": "code",
   "execution_count": null,
   "id": "279e9d07",
   "metadata": {},
   "outputs": [],
   "source": []
  }
 ],
 "metadata": {
  "kernelspec": {
   "display_name": "Julia 1.11.6",
   "language": "julia",
   "name": "julia-1.11"
  },
  "language_info": {
   "file_extension": ".jl",
   "mimetype": "application/julia",
   "name": "julia",
   "version": "1.11.6"
  }
 },
 "nbformat": 4,
 "nbformat_minor": 5
}
