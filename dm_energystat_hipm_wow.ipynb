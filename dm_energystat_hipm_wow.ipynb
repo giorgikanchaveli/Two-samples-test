{
 "cells": [
  {
   "cell_type": "markdown",
   "id": "aec880ba",
   "metadata": {},
   "source": [
    "Here we compare 4 testing schemes: Dubey & Muller, Energy statistic (Szekely & Rizzo 2004), HIPM, WoW.\n",
    "\n",
    "In particular we compare power functions on the example of random probability measures from Fig 1 Dubey & Muller."
   ]
  },
  {
   "cell_type": "markdown",
   "id": "f212fa8b",
   "metadata": {},
   "source": [
    "We plot: \n",
    "\n",
    "Figure 1, Left, of the paper, varying mean, with permutation\n",
    "\n",
    "Figure 1, Left, of the paper, varying mean, with Boostrap\n",
    "\n",
    "Figure 1, Right of the paper, varying variance, with boostrap\n",
    "\n",
    "Figure 1, Right of the paper, varying variance, with permutation approach\n",
    "\n",
    "Example with simple discrete measures where DM fails "
   ]
  },
  {
   "cell_type": "code",
   "execution_count": null,
   "id": "d2546c05",
   "metadata": {},
   "outputs": [
    {
     "data": {
      "text/plain": [
       "ww (generic function with 2 methods)"
      ]
     },
     "execution_count": 1,
     "metadata": {},
     "output_type": "execute_result"
    }
   ],
   "source": [
    "\n",
    "\n",
    "include(\"methods_for_simulations.jl\")\n",
    "\n",
    "\n"
   ]
  },
  {
   "cell_type": "markdown",
   "id": "fc1d572a",
   "metadata": {},
   "source": [
    "# Figure 1, Left, of the paper, varying mean, with permutation\n"
   ]
  },
  {
   "cell_type": "markdown",
   "id": "2450df92",
   "metadata": {},
   "source": [
    "Now we plot the power function per $\\delta$ as it is in their paper for Figure 1\n"
   ]
  },
  {
   "cell_type": "code",
   "execution_count": 8,
   "id": "6b924fd7",
   "metadata": {},
   "outputs": [
    {
     "data": {
      "text/plain": [
       "4.3337915900563555"
      ]
     },
     "execution_count": 8,
     "metadata": {},
     "output_type": "execute_result"
    }
   ],
   "source": [
    "n_top, n_bottom = 100,200\n",
    "n_boostrap = 1\n",
    "S = 1\n",
    "θ = 0.05\n",
    "\n",
    "δ = 0.1\n",
    "\n",
    "q_1 = tnormal_normal(0.0, 0.5, -10.0, 10.0)\n",
    "q_2 = tnormal_normal(δ, 0.5, -10.0, 10.0)\n",
    "\n",
    "\n",
    "prob_measures_1 = generate_prob_measures(q_1, n_top)\n",
    "prob_measures_2 = generate_prob_measures(q_2, n_top)\n",
    "\n",
    "\n",
    "q_1_emp = generate_emp(q_1, n_top, n_bottom)\n",
    "q_2_emp = generate_emp(q_2, n_top, n_bottom)\n",
    "\n",
    "a = minimum([q_1_emp.a, q_2_emp.a])\n",
    "b = maximum([q_1_emp.b, q_2_emp.b])\n",
    "q_1_emp.a = a\n",
    "q_2_emp.a = a\n",
    "q_1_emp.b = b\n",
    "q_2_emp.b = b\n",
    "\n",
    "\n",
    "\n"
   ]
  },
  {
   "cell_type": "markdown",
   "id": "d5b758dc",
   "metadata": {},
   "source": [
    "To obtain the thresholds for HIPM and WoW when n_boostrap = 100,n_top = 100,n_bottom = 2000, we need 2.4 seconds per each boostrap. So 240 seconds in total\n",
    "\n",
    "Once thresholds are obtained for each generated hierarchical samples we need 3 seconds to get decisions from all testing schemes (n_boost = 100).\n",
    "\n",
    "Total time for S = 100 for one pair of measures is maximum 9 minutes\n",
    "\n",
    "\n",
    "\n",
    "\n",
    "\n",
    "for n_bottom = 200, we need in total 103 seconds for thresholds for HIPM and WoW\n",
    "Once thresholds are obtained we need 1.7 seconds for only one generated sample.\n",
    "Total time in that case is 5 minutes"
   ]
  },
  {
   "cell_type": "code",
   "execution_count": null,
   "id": "b3266b54",
   "metadata": {},
   "outputs": [],
   "source": [
    "\n"
   ]
  },
  {
   "cell_type": "code",
   "execution_count": 9,
   "id": "f7a46666",
   "metadata": {},
   "outputs": [],
   "source": [
    "#s, n_bottom, δs"
   ]
  },
  {
   "cell_type": "code",
   "execution_count": 10,
   "id": "ec6e8899",
   "metadata": {},
   "outputs": [],
   "source": [
    "# n_top, n_bottom = 100,200\n",
    "# n_permutation = 100\n",
    "# S = 100\n",
    "# θ = 0.05\n",
    "\n",
    "# Random.seed!(1234) # for reproducibility\n",
    "\n",
    "# # maybe variance should be sqrt(0.5) instead of 0.5 ???\n",
    "# power_tnormal_normal(δ) = rejection_rate(tnormal_normal(0.0, 0.5, -10.0, 10.0), tnormal_normal(δ, 0.5, -10.0, 10.0),S, n_top, n_bottom, n_permutation, θ,false) # powers per δ for each testing scheme\n",
    "\n",
    "# δs = collect(-1.0:0.1:1.0)\n",
    "# rejection_rates_tnormal_normal = rejection_rates_per_parameter(δs, power_tnormal_normal)\n",
    "# fig_1 = plot(title = \"Power of 4 testing schemes\", xlabel = \"δ\", ylabel = \"Power\", xlims=(-1.0, 1.1), ylims = (-0.1, 1.1))\n",
    "# plot!(fig_1, δs, rejection_rates_tnormal_normal[:,1], label = \"dm\", color = \"red\",marker = (:circle, 4))\n",
    "# plot!(fig_1, δs, rejection_rates_tnormal_normal[:,2], label = \"hipm\", color = \"green\", marker = (:circle, 4))\n",
    "# plot!(fig_1, δs, rejection_rates_tnormal_normal[:,3], label = \"wow\", color = \"brown\", marker = (:circle, 4))\n",
    "# plot!(fig_1, δs, rejection_rates_tnormal_normal[:,4], label = \"Energy\", color = \"blue\", marker = (:circle, 4))\n",
    "# filepath = joinpath(pwd(), \"frechet/figure1\")\n",
    "# savefig(fig_1,joinpath(filepath, \"power_tnormal_normal_varying_mean_n_top=$(n_top)_n_bottom=$(n_bottom)_S=$(S)_npermutation=$(n_permutation).png\"))\n",
    "\n",
    "# # # #minimum_power_dm = minimum(power_function_dm[])\n",
    "# # # #hline!([minimum_power_dm], color=:red, linestyle=:dash, label=\"minimum power for dm\")\n",
    "\n",
    "\n"
   ]
  },
  {
   "cell_type": "markdown",
   "id": "6a4f517c",
   "metadata": {},
   "source": [
    "# Figure 1, Left, of the paper, varying mean, with Boostrap\n"
   ]
  },
  {
   "cell_type": "markdown",
   "id": "35ef5920",
   "metadata": {},
   "source": [
    "To obtain the thresholds for HIPM and WoW when n_boostrap = 100,n_top = 100,n_bottom = 2000, we need 2.4 seconds per each boostrap. So 240 seconds in total\n",
    "\n",
    "Once thresholds are obtained for each generated hierarchical samples we need 3 seconds to get decisions from all testing schemes (n_boost = 100).\n",
    "\n",
    "Total time for S = 100 for one pair of measures is maximum 9 minutes\n",
    "\n",
    "\n",
    "\n",
    "\n",
    "\n",
    "for n_bottom = 200, we need in total 103 seconds for thresholds for HIPM and WoW\n",
    "Once thresholds are obtained we need 1.7 seconds for only one generated sample.\n",
    "Total time in that case is 5 minutes"
   ]
  },
  {
   "cell_type": "code",
   "execution_count": 11,
   "id": "84352f7e",
   "metadata": {},
   "outputs": [],
   "source": [
    "# n_top, n_bottom = 100,200\n",
    "# n_boostrap = 100\n",
    "# S = 100\n",
    "# θ = 0.05\n",
    "\n",
    "# Random.seed!(1234) # for reproducibility\n",
    "\n",
    "# # maybe variance should be sqrt(0.5) instead of 0.5 ???\n",
    "# power_tnormal_normal(δ) = rejection_rate(tnormal_normal(0.0, 0.5, -10.0, 10.0), tnormal_normal(δ, 0.5, -10.0, 10.0),S, n_top, n_bottom, n_boostrap, θ,true) # powers per δ for each testing scheme\n",
    "\n",
    "# δs = collect(-1.0:0.1:1.0)\n",
    "# rejection_rates_tnormal_normal = rejection_rates_per_parameter(δs, power_tnormal_normal)\n",
    "# fig_1 = plot(title = \"Power of 4 testing schemes\", xlabel = \"δ\", ylabel = \"Power\", xlims=(-1.0, 1.1), ylims = (-0.1, 1.1))\n",
    "# plot!(fig_1, δs, rejection_rates_tnormal_normal[:,1], label = \"dm\", color = \"red\",marker = (:circle, 4))\n",
    "# plot!(fig_1, δs, rejection_rates_tnormal_normal[:,2], label = \"hipm\", color = \"green\", marker = (:circle, 4))\n",
    "# plot!(fig_1, δs, rejection_rates_tnormal_normal[:,3], label = \"wow\", color = \"brown\", marker = (:circle, 4))\n",
    "# plot!(fig_1, δs, rejection_rates_tnormal_normal[:,4], label = \"Energy\", color = \"blue\", marker = (:circle, 4))\n",
    "# filepath = joinpath(pwd(), \"frechet/figure1\")\n",
    "# savefig(fig_1,joinpath(filepath, \"power_tnormal_normal_varying_mean_n_top=$(n_top)_n_bottom=$(n_bottom)_S=$(S)_nboostrap=$(n_boostrap).png\"))\n",
    "\n",
    "# # # #minimum_power_dm = minimum(power_function_dm[])\n",
    "# # # #hline!([minimum_power_dm], color=:red, linestyle=:dash, label=\"minimum power for dm\")\n",
    "\n",
    "\n"
   ]
  },
  {
   "cell_type": "code",
   "execution_count": null,
   "id": "44bb171d",
   "metadata": {},
   "outputs": [],
   "source": []
  },
  {
   "cell_type": "markdown",
   "id": "573ea4e0",
   "metadata": {},
   "source": [
    "# Figure 1, Right of the paper, varying variance, with boostrap\n",
    "\n"
   ]
  },
  {
   "cell_type": "markdown",
   "id": "8f7eb4f6",
   "metadata": {},
   "source": [
    "To obtain the thresholds for HIPM and WoW when n_boostrap = 100,n_top = 100,n_bottom = 2000, we need 2.4 seconds per each boostrap. So 240 seconds in total\n",
    "\n",
    "Once thresholds are obtained for each generated hierarchical samples we need 3 seconds to get decisions from all testing schemes (n_boost = 100).\n",
    "\n",
    "Total time for S = 100 for one pair of measures is maximum 9 minutes\n",
    "\n",
    "\n",
    "\n",
    "\n",
    "\n",
    "for n_bottom = 200, we need in total 103 seconds for thresholds for HIPM and WoW\n",
    "Once thresholds are obtained we need 1.7 seconds for only one generated sample.\n",
    "Total time in that case is 5 minutes"
   ]
  },
  {
   "cell_type": "code",
   "execution_count": 12,
   "id": "adb88a36",
   "metadata": {},
   "outputs": [],
   "source": [
    "# n_top, n_bottom = 100,200\n",
    "# n_boostrap = 100\n",
    "# S = 100\n",
    "# θ = 0.05\n",
    "\n",
    "# Random.seed!(1234) # for reproducibility\n",
    "\n",
    "# # maybe variance should be sqrt(0.5) instead of 0.5 ???\n",
    "# power_tnormal_normal(τ) = rejection_rate(tnormal_normal(0.0, 0.2, -10.0, 10.0), tnormal_normal(0.0, 0.2*τ, -10.0, 10.0),S, n_top, n_bottom, n_boostrap, θ, true) # powers per δ for each testing scheme\n",
    "\n",
    "# τs = collect(0.1:0.1:3.0)\n",
    "# rejection_rates_tnormal_normal = rejection_rates_per_parameter(τs, power_tnormal_normal)\n",
    "# fig_2 = plot(title = \"Power of 4 testing schemes\", xlabel = \"τ\", ylabel = \"Power\", xlims=(0.0, 3.1), ylims = (-0.1, 1.1))\n",
    "# plot!(fig_2, τs, rejection_rates_tnormal_normal[:,1], label = \"dm\", color = \"red\",marker = (:circle, 4))\n",
    "# plot!(fig_2, τs, rejection_rates_tnormal_normal[:,2], label = \"hipm\", color = \"green\", marker = (:circle, 4))\n",
    "# plot!(fig_2, τs, rejection_rates_tnormal_normal[:,3], label = \"wow\", color = \"brown\", marker = (:circle, 4))\n",
    "# plot!(fig_2, τs, rejection_rates_tnormal_normal[:,4], label = \"Energy\", color = \"blue\", marker = (:circle, 4))\n",
    "# filepath = joinpath(pwd(), \"frechet/figure1\")\n",
    "# savefig(fig_2,joinpath(filepath, \"power_tnormal_normal_varying_variance_n_top=$(n_top)_n_bottom=$(n_bottom)_S=$(S)_nboostrap=$(n_boostrap).png\"))\n",
    "\n",
    "# # # # #minimum_power_dm = minimum(power_function_dm[])\n",
    "# # # # #hline!([minimum_power_dm], color=:red, linestyle=:dash, label=\"minimum power for dm\")\n",
    "\n",
    "\n"
   ]
  },
  {
   "cell_type": "markdown",
   "id": "56aed668",
   "metadata": {},
   "source": [
    "# Figure 1, Right of the paper, varying variance, with permutation approach"
   ]
  },
  {
   "cell_type": "markdown",
   "id": "bb10e8d0",
   "metadata": {},
   "source": [
    "To obtain the thresholds for HIPM and WoW when n_boostrap = 100,n_top = 100,n_bottom = 2000, we need 2.4 seconds per each boostrap. So 240 seconds in total\n",
    "\n",
    "Once thresholds are obtained for each generated hierarchical samples we need 3 seconds to get decisions from all testing schemes (n_boost = 100).\n",
    "\n",
    "Total time for S = 100 for one pair of measures is maximum 9 minutes\n",
    "\n",
    "\n",
    "\n",
    "\n",
    "\n",
    "for n_bottom = 200, we need in total 103 seconds for thresholds for HIPM and WoW\n",
    "Once thresholds are obtained we need 1.7 seconds for only one generated sample.\n",
    "Total time in that case is 5 minutes"
   ]
  },
  {
   "cell_type": "code",
   "execution_count": 13,
   "id": "77caa110",
   "metadata": {},
   "outputs": [],
   "source": [
    "# n_top, n_bottom = 100,200\n",
    "# n_permutation = 100\n",
    "# S = 100\n",
    "# θ = 0.05\n",
    "\n",
    "# Random.seed!(1234) # for reproducibility\n",
    "\n",
    "# # maybe variance should be sqrt(0.5) instead of 0.5 ???\n",
    "# power_tnormal_normal(τ) = rejection_rate(tnormal_normal(0.0, 0.2, -10.0, 10.0), tnormal_normal(0.0, 0.2*τ, -10.0, 10.0),S, n_top, n_bottom, n_permutation, θ, false) # powers per δ for each testing scheme\n",
    "\n",
    "# τs = collect(0.1:0.1:3.0)\n",
    "# rejection_rates_tnormal_normal = rejection_rates_per_parameter(τs, power_tnormal_normal)\n",
    "# fig_2 = plot(title = \"Power of 4 testing schemes\", xlabel = \"τ\", ylabel = \"Power\", xlims=(0.0, 3.1), ylims = (-0.1, 1.1))\n",
    "# plot!(fig_2, τs, rejection_rates_tnormal_normal[:,1], label = \"dm\", color = \"red\", marker = (:circle, 4))\n",
    "# plot!(fig_2, τs, rejection_rates_tnormal_normal[:,2], label = \"hipm\", color = \"green\", marker = (:circle, 4))\n",
    "# plot!(fig_2, τs, rejection_rates_tnormal_normal[:,3], label = \"wow\", color = \"brown\", marker = (:circle, 4))\n",
    "# plot!(fig_2, τs, rejection_rates_tnormal_normal[:,4], label = \"Energy\", color = \"blue\", marker = (:circle, 4))\n",
    "# filepath = joinpath(pwd(), \"frechet/figure1\")\n",
    "# savefig(fig_2,joinpath(filepath, \"power_tnormal_normal_varying_variance_n_top=$(n_top)_n_bottom=$(n_bottom)_S=$(S)_npermutation=$(n_permutation).png\"))\n",
    "\n",
    "# # # #minimum_power_dm = minimum(power_function_dm[])\n",
    "# # # #hline!([minimum_power_dm], color=:red, linestyle=:dash, label=\"minimum power for dm\")\n",
    "\n",
    "\n"
   ]
  },
  {
   "cell_type": "markdown",
   "id": "5c384996",
   "metadata": {},
   "source": [
    "# Example where DM should fail"
   ]
  },
  {
   "cell_type": "markdown",
   "id": "1bf0cad0",
   "metadata": {},
   "source": [
    "Now let us do same simulations on different law of random probability measure: \n",
    "\n",
    "\n",
    "\n",
    "Define  \n",
    "$$\n",
    "Q^1 = \\mathcal{L}\\left(\\widetilde{P}^1\\right) \\quad \\text{where} \\quad \\widetilde{P}^1 = N\\left( \\widetilde{\\mu}^1, 1\\right), \\quad \\mathcal{L}\\left(\\widetilde{\\mu}^1\\right) =  \\frac{1}{2}\\delta_{-1} + \\frac{1}{2}\\delta_{1},\n",
    "$$\n",
    "$$\n",
    "Q^2 = \\mathcal{L}\\left(\\widetilde{P}^2\\right) \\quad \\text{where} \\quad \\widetilde{P}^2 = N\\left( \\widetilde{\\mu}^2, 1\\right), \\quad \\mathcal{L}\\left(\\widetilde{\\mu}^1\\right) =  \\frac{1}{8}\\delta_{-2} + \\frac{3}{4}\\delta_{0} + \\frac{1}{8}\\delta_{2}.\n",
    "$$\n",
    "Then the laws $Q^1$ and $Q^2$ are different but they induce same Fréchet mean and variance\n",
    "\n",
    "Then for each $\\lambda \\in (0,1)$ we can consider family of pairs \n",
    "$$\n",
    "Q^! \\quad \\text{and} \\quad Q_{\\lambda} = \\lambda Q^1 + (1 - \\lambda)Q^2.\n",
    "$$\n",
    "We obtain two different laws with same Fréchet mean and variance\n",
    "\n",
    "Below, we plot power functions as we vary $\\lambda$.\n",
    "\n"
   ]
  },
  {
   "cell_type": "markdown",
   "id": "dce3c62a",
   "metadata": {},
   "source": []
  },
  {
   "cell_type": "markdown",
   "id": "25dc22de",
   "metadata": {},
   "source": [
    "# With Boostrap"
   ]
  },
  {
   "cell_type": "markdown",
   "id": "d3815f65",
   "metadata": {},
   "source": [
    "To obtain the thresholds for HIPM and WoW when n_boostrap = 100,n_top = 100,n_bottom = 2000, we need 2.4 seconds per each boostrap. So 240 seconds in total\n",
    "\n",
    "Once thresholds are obtained for each generated hierarchical samples we need 3 seconds to get decisions from all testing schemes (n_boost = 100).\n",
    "\n",
    "Total time for S = 100 for one pair of measures is maximum 9 minutes\n",
    "\n",
    "\n",
    "\n",
    "\n",
    "\n",
    "for n_bottom = 200, we need in total 103 seconds for thresholds for HIPM and WoW\n",
    "Once thresholds are obtained we need 1.7 seconds for only one generated sample.\n",
    "Total time in that case is 5 minutes"
   ]
  },
  {
   "cell_type": "code",
   "execution_count": null,
   "id": "64d79b68",
   "metadata": {},
   "outputs": [],
   "source": [
    "# n_top, n_bottom = 100,200\n",
    "# n_boostrap = 100\n",
    "# S = 100\n",
    "# θ = 0.05\n",
    "\n",
    "# Random.seed!(1234) # for reproducibility\n",
    "\n",
    "# a, b = 0.0, 2.0\n",
    "# μ, σ = 1.0, sqrt(1/3)\n",
    "\n",
    "# mixture(λ) = mixture_ppm(normal_normal(μ,σ), uniform_normal(a,b), λ) # low lambda means more to second distribution which here is uniform normal\n",
    "# power_normal_uniform(λ) = rejection_rate(normal_normal(μ,σ), mixture(λ), S, n_top, n_bottom, n_boostrap, θ, true) \n",
    "\n",
    "# λs = collect(0.0:0.1:1.0)\n",
    "# rejection_rates_normal_uniform = rejection_rates_per_parameter(λs, power_normal_uniform)\n",
    "\n",
    "# fig_counter_example = plot(title = \"Power of 4 testing schemes\", xlabel = \"λ\", ylabel = \"Power\", xlims=(-0.1, 1.1), ylims = (-0.1, 1.1))\n",
    "# plot!(fig_counter_example, λs, rejection_rates_normal_uniform[:,1], label = \"dm\", color = \"red\",marker = (:circle, 4))\n",
    "# plot!(fig_counter_example, λs, rejection_rates_normal_uniform[:,2], label = \"hipm\", color = \"green\",marker = (:circle, 4))\n",
    "# plot!(fig_counter_example, λs, rejection_rates_normal_uniform[:,3], label = \"wow\", color = \"brown\",marker = (:circle, 4))\n",
    "# plot!(fig_counter_example, λs, rejection_rates_normal_uniform[:,4], label = \"Energy\", color = \"blue\",marker = (:circle, 4))\n",
    "\n",
    "# filepath = joinpath(pwd(), \"frechet/counterexample\")\n",
    "# savefig(fig_counter_example,joinpath(filepath, \"power_normal_uniform_counter_example_boostrap_n_top=$(n_top)_n_bottom=$(n_bottom)_S=$(S)_nboostrap=$(n_boostrap).png\"))\n",
    "\n",
    "\n",
    "\n"
   ]
  },
  {
   "cell_type": "markdown",
   "id": "8a7b491c",
   "metadata": {},
   "source": [
    "# With permutation"
   ]
  },
  {
   "cell_type": "code",
   "execution_count": null,
   "id": "91362dfe",
   "metadata": {},
   "outputs": [],
   "source": [
    "# n_top, n_bottom = 100,200\n",
    "# n_permutations = 100\n",
    "# S = 100\n",
    "# θ = 0.05\n",
    "\n",
    "# Random.seed!(1234) # for reproducibility\n",
    "\n",
    "# a, b = 0.0, 2.0\n",
    "# μ, σ = 1.0, sqrt(1/3)\n",
    "\n",
    "# mixture(λ) = mixture_ppm(normal_normal(μ,σ), uniform_normal(a,b), λ) # low lambda means more to second distribution which here is uniform normal\n",
    "# power_normal_uniform(λ) = rejection_rate(normal_normal(μ,σ), mixture(λ), S, n_top, n_bottom, n_permutations, θ, false)\n",
    "\n",
    "# λs = collect(0.0:0.1:1.0)\n",
    "# rejection_rates_normal_uniform = rejection_rates_per_parameter(λs, power_normal_uniform)\n",
    "\n",
    "# fig_counter_example = plot(title = \"Power of 4 testing schemes\", xlabel = \"λ\", ylabel = \"Power\", xlims=(-0.1, 1.1), ylims = (-0.1, 1.1))\n",
    "# plot!(fig_counter_example, λs, rejection_rates_normal_uniform[:,1], label = \"dm\", color = \"red\",marker = (:circle, 4))\n",
    "# plot!(fig_counter_example, λs, rejection_rates_normal_uniform[:,2], label = \"hipm\", color = \"green\",marker = (:circle, 4))\n",
    "# plot!(fig_counter_example, λs, rejection_rates_normal_uniform[:,3], label = \"wow\", color = \"brown\",marker = (:circle, 4))\n",
    "# plot!(fig_counter_example, λs, rejection_rates_normal_uniform[:,4], label = \"Energy\", color = \"blue\",marker = (:circle, 4))\n",
    "\n",
    "# filepath = joinpath(pwd(), \"frechet/counterexample\")\n",
    "# savefig(fig_counter_example,joinpath(filepath, \"power_normal_uniform_counter_example_permutation_n_top=$(n_top)_n_bottom=$(n_bottom)_S=$(S)_npermutations=$(n_permutations).png\"))\n",
    "\n",
    "\n",
    "\n",
    "\n",
    "\n"
   ]
  },
  {
   "cell_type": "markdown",
   "id": "f0abe719",
   "metadata": {},
   "source": [
    "# Counter example with simple discrete measures"
   ]
  },
  {
   "cell_type": "markdown",
   "id": "13e68ba4",
   "metadata": {},
   "source": [
    "With permutations\n"
   ]
  },
  {
   "cell_type": "code",
   "execution_count": null,
   "id": "4f43c24f",
   "metadata": {},
   "outputs": [
    {
     "name": "stdout",
     "output_type": "stream",
     "text": [
      "parameter is 0.0\n",
      "parameter is 0.1\n",
      "parameter is 0.2\n",
      "parameter is 0.3\n",
      "parameter is 0.4\n",
      "parameter is 0.5\n",
      "parameter is 0.6\n",
      "parameter is 0.7\n",
      "parameter is 0.8\n",
      "parameter is 0.9\n",
      "parameter is 1.0\n"
     ]
    },
    {
     "data": {
      "text/plain": [
       "\"/Users/giorgikanchaveli/Desktop/Two-samples-test/frechet/counterexample/power_rademachers_counter_example_permutation_n_top=100_n_bottom=200_S=100_npermutations=100.png\""
      ]
     },
     "execution_count": 22,
     "metadata": {},
     "output_type": "execute_result"
    }
   ],
   "source": [
    "n_top, n_bottom = 100,200\n",
    "n_permutations = 100\n",
    "S = 100\n",
    "θ = 0.05\n",
    "\n",
    "Random.seed!(1234) # for reproducibility\n",
    "\n",
    "\n",
    "mixture(λ) = mixture_ppm(simple_discr_1(), simple_discr_2(), λ) # low lambda means more to second distribution which here is uniform normal\n",
    "power_simple_discr(λ) = rejection_rate(simple_discr_1(), mixture(λ), S, n_top, n_bottom, n_permutations, θ, false)\n",
    "\n",
    "λs = collect(0.0:0.1:1.0)\n",
    "rejection_rates_simple_discr = rejection_rates_per_parameter(λs, power_simple_discr)\n",
    "\n",
    "fig_counter_example = plot(title = \"Power of 4 testing schemes\", xlabel = \"λ\", ylabel = \"Power\", xlims=(-0.1, 1.1), ylims = (-0.1, 1.1))\n",
    "plot!(fig_counter_example, λs, rejection_rates_simple_discr[:,1], label = \"dm\", color = \"red\",marker = (:circle, 4))\n",
    "plot!(fig_counter_example, λs, rejection_rates_simple_discr[:,2], label = \"hipm\", color = \"green\",marker = (:circle, 4))\n",
    "plot!(fig_counter_example, λs, rejection_rates_simple_discr[:,3], label = \"wow\", color = \"brown\",marker = (:circle, 4))\n",
    "plot!(fig_counter_example, λs, rejection_rates_simple_discr[:,4], label = \"Energy\", color = \"blue\",marker = (:circle, 4))\n",
    "\n",
    "filepath = joinpath(pwd(), \"frechet/counterexample\")\n",
    "savefig(fig_counter_example,joinpath(filepath, \"power_simple_discr_counter_example_permutation_n_top=$(n_top)_n_bottom=$(n_bottom)_S=$(S)_npermutations=$(n_permutations).png\"))\n",
    "\n",
    "\n",
    "\n",
    "\n",
    "\n",
    "# # #minimum_power_dm = minimum(power_function_dm[])\n",
    "# # #hline!([minimum_power_dm], color=:red, linestyle=:dash, label=\"minimum power for dm\")\n",
    "\n",
    "# asd \n",
    "\n"
   ]
  },
  {
   "cell_type": "code",
   "execution_count": null,
   "id": "e6c0603b",
   "metadata": {},
   "outputs": [],
   "source": []
  },
  {
   "cell_type": "markdown",
   "id": "431d8378",
   "metadata": {},
   "source": [
    "\n",
    "\n",
    "26 minute for one pair."
   ]
  },
  {
   "cell_type": "code",
   "execution_count": null,
   "id": "b5d59ab9",
   "metadata": {},
   "outputs": [
    {
     "name": "stdout",
     "output_type": "stream",
     "text": [
      "gio\n"
     ]
    }
   ],
   "source": []
  },
  {
   "cell_type": "code",
   "execution_count": null,
   "id": "134e02ec",
   "metadata": {},
   "outputs": [
    {
     "name": "stdout",
     "output_type": "stream",
     "text": [
      "parameter is 0.0\n",
      "parameter is 0.2\n",
      "parameter is 0.4\n",
      "parameter is 0.6\n",
      "parameter is 0.8\n",
      "parameter is 1.0\n"
     ]
    },
    {
     "data": {
      "text/plain": [
       "\"/Users/giorgikanchaveli/Desktop/Two-samples-test/frechet/counterexample/power_rademachers_counter_example_permutation_n_top=300_n_bottom=200_S=100_npermutations=100.png\""
      ]
     },
     "execution_count": 23,
     "metadata": {},
     "output_type": "execute_result"
    }
   ],
   "source": [
    "n_top, n_bottom = 300,200\n",
    "n_permutations = 100\n",
    "S = 100\n",
    "θ = 0.05\n",
    "\n",
    "Random.seed!(1234) # for reproducibility\n",
    "\n",
    "\n",
    "mixture(λ) = mixture_ppm(simple_discr_1(), simple_discr_2(), λ) # low lambda means more to second distribution which here is uniform normal\n",
    "power_simple_discr(λ) = rejection_rate(simple_discr_1(), mixture(λ), S, n_top, n_bottom, n_permutations, θ, false)\n",
    "\n",
    "λs = collect(0.0:0.2:1.0)\n",
    "rejection_rates_simple_discr = rejection_rates_per_parameter(λs, power_simple_discr)\n",
    "\n",
    "fig_counter_example = plot(title = \"Power of 4 testing schemes\", xlabel = \"λ\", ylabel = \"Power\", xlims=(-0.1, 1.1), ylims = (-0.1, 1.1))\n",
    "plot!(fig_counter_example, λs, rejection_rates_simple_discr[:,1], label = \"dm\", color = \"red\",marker = (:circle, 4))\n",
    "plot!(fig_counter_example, λs, rejection_rates_simple_discr[:,2], label = \"hipm\", color = \"green\",marker = (:circle, 4))\n",
    "plot!(fig_counter_example, λs, rejection_rates_simple_discr[:,3], label = \"wow\", color = \"brown\",marker = (:circle, 4))\n",
    "plot!(fig_counter_example, λs, rejection_rates_simple_discr[:,4], label = \"Energy\", color = \"blue\",marker = (:circle, 4))\n",
    "\n",
    "filepath = joinpath(pwd(), \"frechet/counterexample\")\n",
    "savefig(fig_counter_example,joinpath(filepath, \"power_simple_discr_counter_example_permutation_n_top=$(n_top)_n_bottom=$(n_bottom)_S=$(S)_npermutations=$(n_permutations).png\"))\n",
    "\n",
    "\n",
    "\n",
    "\n",
    "\n",
    "# # #minimum_power_dm = minimum(power_function_dm[])\n",
    "# # #hline!([minimum_power_dm], color=:red, linestyle=:dash, label=\"minimum power for dm\")\n",
    "\n",
    "\n",
    "\n"
   ]
  },
  {
   "cell_type": "markdown",
   "id": "e6072935",
   "metadata": {},
   "source": [
    "# Does it matter if n_permutations = 100 or 1000?\n"
   ]
  },
  {
   "cell_type": "code",
   "execution_count": 35,
   "id": "be660e69",
   "metadata": {},
   "outputs": [
    {
     "data": {
      "text/plain": [
       "6×4 Matrix{Float64}:\n",
       " 0.12  1.0   1.0   1.0\n",
       " 0.14  1.0   1.0   1.0\n",
       " 0.04  1.0   1.0   1.0\n",
       " 0.07  1.0   1.0   1.0\n",
       " 0.12  1.0   1.0   0.8\n",
       " 0.05  0.07  0.07  0.06"
      ]
     },
     "execution_count": 35,
     "metadata": {},
     "output_type": "execute_result"
    }
   ],
   "source": [
    "rejection_rates_rademachers"
   ]
  },
  {
   "cell_type": "code",
   "execution_count": 24,
   "id": "85293252",
   "metadata": {},
   "outputs": [],
   "source": [
    "# function rej_rates_denanova(q_1::PPM, q_2::PPM, S::Int, n_top::Int, n_boostrap::Int, θ::Float64)\n",
    "#     # obtain rejection rates of denanova with boostrap\n",
    "#     # for given laws of RPMs q_1 and q_2\n",
    "#     # S : number of times we simulate two samples from given laws of RPM\n",
    "#     # n_top : number of probability measures we simulate from each q\n",
    "#     # n_boostrap : number of times we repeat bootstrap procedure to estimate the quantile of the test statistic.\n",
    "    \n",
    "#     rej_rate_denanova = 0.0\n",
    "\n",
    "#     println(\"law of RPMS are: $(q_1)\")\n",
    "#     println(\"$(q_2)\")\n",
    "\n",
    "#     for s in 1:S\n",
    "#         mu_1, mu_2 = [pm_1.μ for pm_1 in generate_prob_measures(q_1, n_top)], [pm_2.μ for pm_2 in generate_prob_measures(q_2, n_top)]\n",
    "#         println(\"s is $(s)\")\n",
    "#         rej_rate_denanova += denanova_from_r(mu_1, mu_2; n_boostrap=100, θ = θ)\n",
    "#     end\n",
    "#     rej_rate_denanova /= S\n",
    "#     return rej_rate_denanova\n",
    "# end"
   ]
  },
  {
   "cell_type": "code",
   "execution_count": 25,
   "id": "f88c37b4",
   "metadata": {},
   "outputs": [],
   "source": [
    "# function rejections_anova_permutation_opt(δs::Vector{Float64})\n",
    "#     rej_rate_denanova_1 = zeros(length(δs))\n",
    "#     rej_rate_denanova_2 = zeros(length(δs))\n",
    "#     for (i,δ) in enumerate(δs)\n",
    "#         q_1, q_2 = tnormal_normal(0.0, 0.5, -10.0, 10.0), tnormal_normal(δ, 0.5, -10.0, 10.0)\n",
    "#         rej_rate_denanova_1[i] = rej_rates_denanova(q_1, q_2, 1000, 100, 100, 0.05)\n",
    "#         rej_rate_denanova_2[i] = rej_rates_denanova(q_1, q_2, 1000, 100, 1000, 0.05)\n",
    "#     end\n",
    "#     return rej_rate_denanova_1, rej_rate_denanova_2\n",
    "# end\n"
   ]
  },
  {
   "cell_type": "code",
   "execution_count": 26,
   "id": "ef2a1978",
   "metadata": {},
   "outputs": [],
   "source": [
    "# n_top, n_bottom = 100,2000\n",
    "# n_boostrap_1 = 100\n",
    "# n_boostrap_2 = 1000\n",
    "# S_1 = 1000\n",
    "# S_2 = 1000\n",
    "# θ = 0.05\n",
    "\n",
    "\n",
    "\n",
    "# Random.seed!(1234) # for reproducibility\n",
    "# δs = collect(-1.0:0.1:1.0)\n",
    "\n",
    "# rej_rate_denanova_1, rej_rate_denanova_2 = rejections_anova_permutation_opt(δs)\n",
    "\n"
   ]
  },
  {
   "cell_type": "code",
   "execution_count": 27,
   "id": "193f824b",
   "metadata": {},
   "outputs": [],
   "source": [
    "# println(\"rejection rate 1 : $rej_rate_denanova_1\")\n",
    "# println(\"rejection rate 2 : $rej_rate_denanova_2\")"
   ]
  },
  {
   "cell_type": "code",
   "execution_count": 28,
   "id": "0208e380",
   "metadata": {},
   "outputs": [],
   "source": [
    "# fig_denanova = plot(title = \"Power of DenANOVA per diff n_boost\", xlabel = \"δ\", ylabel = \"Power\", xlims=(-1.1, 1.1), ylims = (-0.1, 1.1))\n",
    "# plot!(fig_denanova, δs, rej_rate_denanova_1, label = \"n_boost = 100\", color = \"red\")\n",
    "# plot!(fig_denanova, δs, rej_rate_denanova_2, label = \"n_boost = 1000\", color = \"blue\")\n",
    "\n"
   ]
  },
  {
   "cell_type": "code",
   "execution_count": 29,
   "id": "49289259",
   "metadata": {},
   "outputs": [],
   "source": [
    "# println(\"diff = \",rej_rate_denanova_2 - rej_rate_denanova_1)"
   ]
  },
  {
   "cell_type": "code",
   "execution_count": 30,
   "id": "141da71f",
   "metadata": {},
   "outputs": [],
   "source": [
    "\n",
    "\n",
    "\n",
    "\n",
    "\n",
    "# n_top, n_bottom = 100,2000\n",
    "# n_boostrap = 100\n",
    "# S = 100\n",
    "# θ = 0.05\n",
    "\n",
    "# Random.seed!(1234) # for reproducibility\n",
    "# δs = collect(-1.0:0.1:1.0)\n",
    "# rej_rate_denanova_per_delta, rej_rate_my_per_delta = zeros(length(δs)), zeros(length(δs))\n",
    "# for (i, δ) in enumerate(δs)\n",
    "#     q_1, q_2 = tnormal_normal(0.0, 0.5, -10.0, 10.0), tnormal_normal(δ, 0.5, -10.0, 10.0)\n",
    "\n",
    "#     rej_rate_denanova, rej_rate_my = rej_rates_denanova_my(q_1, q_2, S, n_top, n_boostrap, θ)\n",
    "#     rej_rate_denanova_per_delta[i] = rej_rate_denanova\n",
    "#     rej_rate_my_per_delta[i] = rej_rate_my\n",
    "# end\n",
    "# fig_denanova_vs_my = plot(title = \"Power of DenANOVA vs my implementation of DM\", xlabel = \"δ\", ylabel = \"Power\", xlims=(-1.1, 1.1), ylims = (-0.1, 1.1))\n",
    "# plot!(fig_denanova_vs_my, δs, rej_rate_denanova_per_delta, label = \"DenANOVA\", color = \"red\")\n",
    "# plot!(fig_denanova_vs_my, δs, rej_rate_my_per_delta, label = \"My DM\", color = \"blue\")\n",
    "\n",
    "\n",
    "\n",
    "\n",
    "\n",
    "\n"
   ]
  },
  {
   "cell_type": "code",
   "execution_count": 31,
   "id": "6c19fdea",
   "metadata": {},
   "outputs": [],
   "source": [
    "# rej_rate_denanova_per_delta"
   ]
  },
  {
   "cell_type": "code",
   "execution_count": 32,
   "id": "72c284d0",
   "metadata": {},
   "outputs": [],
   "source": [
    "# differences = abs.(rej_rate_my_per_delta .- rej_rate_denanova_per_delta)"
   ]
  },
  {
   "cell_type": "code",
   "execution_count": 33,
   "id": "06d7bc43",
   "metadata": {},
   "outputs": [],
   "source": [
    "# plot(δs, differences, title = \"Difference between DenANOVA and my implementation of DM\", xlabel = \"δ\",ylabel = \"Absolute difference in power\", xlims=(-1.1, 1.1), ylims = (-0.05, 0.2), label = \"Absolute difference\", color = \"purple\")"
   ]
  },
  {
   "cell_type": "code",
   "execution_count": 34,
   "id": "8c4fbe7a",
   "metadata": {},
   "outputs": [],
   "source": [
    "# function rej_rates_denanova_my(q_1::PPM, q_2::PPM, n_top::Int, n_bottom::Int, S::Int, n_boostrap::Int, θ::Float64)\n",
    "#     # This function computes the rejection using DenANOVA from R package \"frechet\" and my implementation of Dubey & Muller test\n",
    "\n",
    "#     # Inputs:\n",
    "#         # q_1, q_2 : laws of two RPMs\n",
    "#         # n_top : number of atoms in hierarchical samples generated from RPMs\n",
    "#         # n_bottom : number of observations generated from each atom in hierarchical samples\n",
    "#         # S : number of simulations to approximate the rejection rates\n",
    "#         # n_boostrap: number of times we repeat bootstrap procedure to estimate the quantile of the test statistic\n",
    "#         # θ : significance level, default value is 0.05\n",
    "    \n",
    "#     rej_rate_denanova, rej_rate_my = 0.0, 0.0\n",
    "#     for s in 1:S\n",
    "#         prob_measures_1 = generate_prob_measures(q_1, n_top) # generate n_top probability measures from law q_1\n",
    "#         prob_measures_2 = generate_prob_measures(q_2, n_top) # generate n_top probability measures from law q_2\n",
    "#         mu_1 = [pm.μ for pm in prob_measures_1] # collect means of probability measures from first sample\n",
    "#         mu_2 = [pm.μ for pm in prob_measures_2] # collect means of probability measures from second sample\n",
    "\n",
    "#         rej_rate_denanova += decide_denanova_from_r(mu_1, mu_2; n_boostrap=n_boostrap, θ = θ)\n",
    "#         rej_rate_my += decide_dm_boostrap(mu_1, mu_2, n_boostrap, θ)\n",
    "#     end\n",
    "#     return rej_rate_denanova / S, rej_rate_my / S\n",
    "# end \n",
    "\n",
    "\n"
   ]
  },
  {
   "cell_type": "code",
   "execution_count": null,
   "id": "0a8d9373",
   "metadata": {},
   "outputs": [],
   "source": []
  }
 ],
 "metadata": {
  "kernelspec": {
   "display_name": "Julia 1.11.6",
   "language": "julia",
   "name": "julia-1.11"
  },
  "language_info": {
   "file_extension": ".jl",
   "mimetype": "application/julia",
   "name": "julia",
   "version": "1.11.6"
  }
 },
 "nbformat": 4,
 "nbformat_minor": 5
}
