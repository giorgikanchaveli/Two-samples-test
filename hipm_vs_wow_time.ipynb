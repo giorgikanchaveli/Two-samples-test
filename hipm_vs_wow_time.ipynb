{
 "cells": [
  {
   "cell_type": "markdown",
   "id": "439c2475",
   "metadata": {},
   "source": [
    "# Compare times to compute distances w.r.t HIPM and WoW"
   ]
  },
  {
   "cell_type": "code",
   "execution_count": 1,
   "id": "d2546c05",
   "metadata": {},
   "outputs": [],
   "source": [
    "using Plots\n",
    "\n",
    "\n",
    "include(\"distributions.jl\")\n",
    "\n",
    "include(\"distances/new_distance.jl\")\n",
    "include(\"distances/distance_Wasserstein.jl\")\n",
    "using DataFrames\n",
    "using CSV\n",
    "\n"
   ]
  },
  {
   "cell_type": "code",
   "execution_count": 2,
   "id": "6e1d7370",
   "metadata": {},
   "outputs": [],
   "source": [
    "# # Firstly we define two Dirichlet Processes with different concentration parameters and the same base distribution.\n",
    "\n",
    "\n",
    "\n",
    "# α_1, α_2 = 1.0, 2.0\n",
    "# P_0_1 = ()->probability(\"same\")\n",
    "# P_0_2 = ()->probability(\"splitting\")\n",
    "\n",
    "# a, b = -1.0, 1.0\n",
    "\n",
    "# q_1 = DP(α_1, P_0_2, a, b)\n",
    "# q_2 = DP(α_2, P_0_2, a, b)\n"
   ]
  },
  {
   "cell_type": "code",
   "execution_count": 3,
   "id": "f206fdfa",
   "metadata": {},
   "outputs": [],
   "source": [
    "# q_1_emp = generate_emp(q_1, 20, 20)\n",
    "# q_2_emp = generate_emp(q_2, 20, 20)\n",
    "# time_wass = @elapsed ww(q_1_emp, q_2_emp)\n",
    "# time_hipm = @elapsed dlip(q_1_emp, q_2_emp)"
   ]
  },
  {
   "cell_type": "code",
   "execution_count": 4,
   "id": "55234067",
   "metadata": {},
   "outputs": [],
   "source": [
    "# println(\"Wasserstein time: \", time_wass)\n",
    "# println(\"HIPM time: \", time_hipm)"
   ]
  },
  {
   "cell_type": "markdown",
   "id": "89d54249",
   "metadata": {},
   "source": [
    "We consider values $100,200,300,...,1000$ for both $n$ and $m$\n"
   ]
  },
  {
   "cell_type": "code",
   "execution_count": 5,
   "id": "e9bab988",
   "metadata": {},
   "outputs": [],
   "source": [
    "# n_tops, n_bottoms = collect(100:100:1000), collect(100:100:1000) # number of top and bottom level samples\n",
    "# S = 3 # number of times we compute distance for each (n_top, n_bottom) pair. We will average the times over S runs.\n",
    "\n",
    "\n",
    "\n",
    "\n",
    "# times_hipm = zeros(length(n_tops), length(n_bottoms)) # matrix to store average times for HIPM\n",
    "# times_wow = zeros(length(n_tops), length(n_bottoms)) # matrix to store average times for WoW\n",
    "\n",
    "# for (i, n_top) in enumerate(n_tops)\n",
    "#     for (j, n_bottom) in enumerate(n_bottoms)\n",
    "#         println(\"n_top = $(n_top), n_bottom = $(n_bottom)\")\n",
    "#         for s in 1:S\n",
    "#             hier_sample_1 = generate_emp(q_1, n_top, n_bottom)\n",
    "#             hier_sample_2 = generate_emp(q_2, n_top, n_bottom)\n",
    "\n",
    "#             t_hipm = @elapsed dlip(hier_sample_1, hier_sample_2) # time HIPM\n",
    "#             t_wow = @elapsed ww(hier_sample_1, hier_sample_2) # time WoW\n",
    "\n",
    "#             times_hipm[i,j] += t_hipm\n",
    "#             times_wow[i,j] += t_wow\n",
    "#         end\n",
    "#         times_hipm[i,j] /= S\n",
    "#         times_wow[i,j] /= S\n",
    "#     end\n",
    "# end"
   ]
  },
  {
   "cell_type": "code",
   "execution_count": null,
   "id": "7802e6ef",
   "metadata": {},
   "outputs": [],
   "source": []
  },
  {
   "cell_type": "code",
   "execution_count": 6,
   "id": "b31d852f",
   "metadata": {},
   "outputs": [],
   "source": [
    "# # Round times to 3 decimal places for better readability\n",
    "# times_wow = Integer.(times_wow)\n",
    "# times_hipm = Integer.(times_hipm)\n",
    "# #times_wow = round.(times_wow, digits = 0)\n",
    "# #times_hipm = round.(times_hipm, digits = 0)\n",
    "\n",
    "\n",
    "# # Build the DataFrame\n",
    "# #df_hipm = DataFrame(times_hipm, Symbol.(string.(\"m = \", n_bottoms)))\n",
    "# df_hipm = DataFrame(times_hipm, Symbol.(string.(\"\", n_bottoms)))\n",
    "\n",
    "# df_hipm.n_tops = n_tops                  # add n_tops as a column\n",
    "# rename!(df_hipm, :n_tops => :n)\n",
    "# select!(df_hipm, :n, :)             # move n_tops to the first column\n",
    "\n",
    "# #df_wow = DataFrame(times_wow, Symbol.(string.(\"m = \", n_bottoms)))\n",
    "# df_wow = DataFrame(times_wow, Symbol.(string.(\"\", n_bottoms)))\n",
    "# df_wow.n_tops = n_tops                  # add n_tops as a column\n",
    "# rename!(df_wow, :n_tops => :n)\n",
    "# select!(df_wow, :n, :)             # move n_tops to the first column\n"
   ]
  },
  {
   "cell_type": "code",
   "execution_count": 7,
   "id": "5503db52",
   "metadata": {},
   "outputs": [],
   "source": [
    "# df_hipm"
   ]
  },
  {
   "cell_type": "code",
   "execution_count": 8,
   "id": "0a50c68f",
   "metadata": {},
   "outputs": [],
   "source": [
    "# df_wow"
   ]
  },
  {
   "cell_type": "code",
   "execution_count": 9,
   "id": "56d700a6",
   "metadata": {},
   "outputs": [],
   "source": [
    "\n",
    "\n",
    "# filepath = joinpath(pwd(), \"time_wow_hipm/\")\n",
    "# CSV.write(filepath*\"times_hipm.csv\", df_hipm)\n",
    "# CSV.write(filepath*\"times_wow.csv\", df_wow)    "
   ]
  },
  {
   "cell_type": "code",
   "execution_count": null,
   "id": "824a9d16",
   "metadata": {},
   "outputs": [],
   "source": []
  },
  {
   "cell_type": "code",
   "execution_count": 10,
   "id": "6779159b",
   "metadata": {},
   "outputs": [],
   "source": [
    "# n_tops, n_bottoms = [300], [300]\n",
    "# S = 2 # number of times we compute distance for each (n_top, n_bottom) pair. We will average the times over S runs.\n",
    "\n",
    "\n",
    "\n",
    "\n",
    "# times_hipm = zeros(length(n_tops), length(n_bottoms)) # matrix to store average times for HIPM\n",
    "# times_wow = zeros(length(n_tops), length(n_bottoms)) # matrix to store average times for WoW\n",
    "\n",
    "# for (i, n_top) in enumerate(n_tops)\n",
    "#     for (j, n_bottom) in enumerate(n_bottoms)\n",
    "#         println(\"n_top = $(n_top), n_bottom = $(n_bottom)\")\n",
    "#         for s in 1:S\n",
    "#             hier_sample_1 = generate_emp(q_1, n_top, n_bottom)\n",
    "#             hier_sample_2 = generate_emp(q_2, n_top, n_bottom)\n",
    "\n",
    "#             t_hipm = @elapsed dlip(hier_sample_1, hier_sample_2) # time HIPM\n",
    "#             t_wow = @elapsed ww(hier_sample_1, hier_sample_2) # time WoW\n",
    "\n",
    "#             times_hipm[i,j] += t_hipm\n",
    "#             times_wow[i,j] += t_wow\n",
    "#         end\n",
    "#         times_hipm[i,j] /= S\n",
    "#         times_wow[i,j] /= S\n",
    "#     end\n",
    "# end"
   ]
  },
  {
   "cell_type": "code",
   "execution_count": 11,
   "id": "ecf86452",
   "metadata": {},
   "outputs": [],
   "source": [
    "# times_hipm"
   ]
  },
  {
   "cell_type": "code",
   "execution_count": 12,
   "id": "87c739cc",
   "metadata": {},
   "outputs": [],
   "source": [
    "# times_wow"
   ]
  },
  {
   "cell_type": "code",
   "execution_count": 13,
   "id": "f18b186a",
   "metadata": {},
   "outputs": [],
   "source": [
    "# # read csv\n",
    "\n",
    "# times_hipm, times_wow = CSV.read(\"time_wow_hipm/times_hipm.csv\", DataFrame), CSV.read(\"time_wow_hipm/times_wow.csv\", DataFrame)\n"
   ]
  },
  {
   "cell_type": "code",
   "execution_count": 14,
   "id": "92f7289a",
   "metadata": {},
   "outputs": [],
   "source": [
    "# times_wow_total = 0.0\n",
    "# times_hipm_total = 0.0\n",
    "\n",
    "# for i in 1:3\n",
    "#     for j in 2:4\n",
    "#         times_hipm_total += times_hipm[i,j] * 100 * 2 / 3600\n",
    "#         times_wow_total += times_wow[i,j] * 100 * 2 / 3600\n",
    "#     end\n",
    "# end\n",
    "\n"
   ]
  },
  {
   "cell_type": "code",
   "execution_count": 15,
   "id": "6a0b0a58",
   "metadata": {},
   "outputs": [],
   "source": [
    "# times_total = times_wow_total + times_hipm_total\n"
   ]
  },
  {
   "cell_type": "markdown",
   "id": "2babab66",
   "metadata": {},
   "source": [
    "# Power n vs m"
   ]
  },
  {
   "cell_type": "code",
   "execution_count": 16,
   "id": "d4bc05ff",
   "metadata": {},
   "outputs": [
    {
     "data": {
      "text/plain": [
       "rejection_rate (generic function with 2 methods)"
      ]
     },
     "execution_count": 16,
     "metadata": {},
     "output_type": "execute_result"
    }
   ],
   "source": [
    "function get_thresholds_permutation_hipm_wow(q_1::PPM, q_2::PPM, n_top::Int, n_bottom::Int, n_permutations::Int, θ::Float64)\n",
    "    # This function gets the thresholds for HIPM and WoW distances using permutation approach. It obtains hierarchical samples \n",
    "    # from two given RPMs and use them for permutation procedure.\n",
    "\n",
    "    # Inputs:\n",
    "        # q_1, q_2 : laws of two RPMs\n",
    "        # n_top : number of atoms in hierarchical samples generated from RPMs\n",
    "        # n_bottom : number of observations generated from each atom in hierarchical samples\n",
    "        # n_permutations : number of permutations to approximate the quantile of the distance\n",
    "        # θ : significance level, default value is 0.05\n",
    "    \n",
    " \n",
    "    permuted_samples_dlip = zeros(n_permutations) # store samples of distances\n",
    "    permuted_samples_ww = zeros(n_permutations) # store samples of distances\n",
    "\n",
    "    hier_sample_1, hier_sample_2 = generate_emp(q_1, n_top, n_bottom), generate_emp(q_2, n_top, n_bottom) \n",
    "    a = hier_sample_1.a\n",
    "    b = hier_sample_1.b\n",
    "    for k in 1:n_permutations\n",
    "        total_rows = vcat(hier_sample_1.atoms, hier_sample_2.atoms) # collect all rows\n",
    "        random_indices = randperm(2*n_top) # indices to distribute rows to new hierarchical meausures\n",
    "\n",
    "        atoms_1 = total_rows[random_indices[1:n_top],:] # first rows indexed by n_top random indices to the atoms_1\n",
    "        atoms_2 = total_rows[random_indices[n_top+1:end],:] # first rows indexed by n_top random indices to the atoms_2\n",
    "\n",
    "        hier_sample_1_permuted = emp_ppm(atoms_1, n_top, n_bottom, a, b)\n",
    "        hier_sample_2_permuted = emp_ppm(atoms_2, n_top, n_bottom, a, b)\n",
    "\n",
    "        \n",
    "        permuted_samples_dlip[k] = dlip(hier_sample_1_permuted, hier_sample_2_permuted)\n",
    "        permuted_samples_ww[k] = ww(hier_sample_1_permuted, hier_sample_2_permuted)\n",
    "    end\n",
    "\n",
    "    threshold_hipm = quantile(permuted_samples_dlip, 1 - θ)\n",
    "    threshold_wow = quantile(permuted_samples_ww, 1 - θ)\n",
    "\n",
    "    return threshold_hipm, threshold_wow\n",
    "end\n",
    "    \n",
    "\n",
    "\n",
    "\n",
    "\n",
    "\n",
    "function get_thresholds_boostrap_hipm_wow(q_1::PPM, q_2::PPM, n_top::Int, n_bottom::Int, n_boostrap::Int, θ::Float64)\n",
    "    # This function gets the thresholds for HIPM and WoW distances using boostrap approach. It obtains hierarchical samples \n",
    "    # from two given RPMs and use them for boostrap procedure.\n",
    "\n",
    "    # Inputs:\n",
    "        # q_1, q_2 : laws of two RPMs\n",
    "        # n_top : number of atoms in hierarchical samples generated from RPMs\n",
    "        # n_bottom : number of observations generated from each atom in hierarchical samples\n",
    "        # n_boostrap : number of boostrap samples to approximate the quantile of the distance\n",
    "        # θ : significance level, default value is 0.05\n",
    "    \n",
    " \n",
    "    boostrap_samples_dlip = zeros(n_boostrap) # store samples of distances\n",
    "    boostrap_samples_ww = zeros(n_boostrap) # store samples of distances\n",
    "\n",
    "    hier_sample_1, hier_sample_2 = generate_emp(q_1, n_top, n_bottom), generate_emp(q_2, n_top, n_bottom)\n",
    "    a = minimum([hier_sample_1.a, hier_sample_2.a])\n",
    "    b = maximum([hier_sample_1.b, hier_sample_2.b])\n",
    "    for k in 1:n_boostrap\n",
    "        total_rows = vcat(hier_sample_1.atoms, hier_sample_2.atoms) # collect all rows\n",
    "        \n",
    "        indices_1 = sample(1:2*n_top, n_top; replace = true)\n",
    "        indices_2 = sample(1:2*n_top, n_top; replace = true)\n",
    "        atoms_1 = total_rows[indices_1,:]  # resample from pooled hierarchical sample\n",
    "        atoms_2 = total_rows[indices_2,:]  # resample from pooled hierarchical sample\n",
    "        \n",
    "    \n",
    "        hier_sample_1_boostrap = emp_ppm(atoms_1, n_top, n_bottom, a, b)\n",
    "        hier_sample_2_boostrap = emp_ppm(atoms_2, n_top, n_bottom, a, b)\n",
    "\n",
    "        boostrap_samples_dlip[k] = dlip(hier_sample_1_boostrap, hier_sample_2_boostrap)\n",
    "        boostrap_samples_ww[k] = ww(hier_sample_1_boostrap, hier_sample_2_boostrap)\n",
    "    end\n",
    "\n",
    "    threshold_hipm = quantile(boostrap_samples_dlip, 1 - θ)\n",
    "    threshold_wow = quantile(boostrap_samples_ww, 1 - θ)\n",
    "\n",
    "    return threshold_hipm, threshold_wow\n",
    "end\n",
    "    \n",
    "\n",
    "\n",
    "\n",
    "function rejection_rate(q_1::PPM, q_2::PPM, S::Int, n_top::Int, n_bottom::Int, n_boostrap::Int, θ::Float64, boostrap::Bool=true)\n",
    "    # This function computes the rejection rates for given two laws of RPM, q_1 and q_2, for 2 testing schemes:\n",
    "    # HIPM, WoW\n",
    "\n",
    "    # Input: \n",
    "        # q_1, q_2 : laws of two RPMs\n",
    "        # S : number of times we simulate two samples from given laws of RPM\n",
    "        # n_top : number of probability measures we simulate from each q\n",
    "        # n_bottom : number of random variables we simulate from each of the probability measure from q\n",
    "        # n_boostrap : number of times we repeat bootstrap procedure to estimate the quantile of the test statistic. Note that this can\n",
    "        #              be number of permutations, depending whether boostrap variable is true or false but only for HIPM and WoW. \n",
    "        # θ : significance level, default value is 0.05\n",
    "        # boostrap : if true, then thresholds for HIPM and WoW are obtained via boostrap approach, otherwise via permutation approach.\n",
    "\n",
    "    # Output:\n",
    "        # rej_rate_hipm : rejection rate for HIPM test\n",
    "        # rej_rate_wow : rejection rate for WoW test\n",
    "     \n",
    "\n",
    "  \n",
    "    rej_rate_hipm, rej_rate_wow = 0.0, 0.0\n",
    "    #time_perm = time()\n",
    "\n",
    "    # Instead of getting the threshold for HIPM and WoW based on hierarchical sample everytime, for fixed q_1 and q_2, we obtain\n",
    "    # threshold once from some generated hierarchical samples and then use it for other hierarchical samples.\n",
    "    if boostrap\n",
    "        threshold_hipm, threshold_wow = get_thresholds_boostrap_hipm_wow(q_1, q_2, n_top, n_bottom, n_boostrap, θ) \n",
    "    else\n",
    "        threshold_hipm, threshold_wow = get_thresholds_permutation_hipm_wow(q_1, q_2, n_top, n_bottom, n_boostrap, θ) \n",
    "    end\n",
    "    #println(\"time taken to get thresholds is $(time() - time_perm) seconds\")\n",
    "    \n",
    "    #time_S = time()\n",
    "    for s in 1:S\n",
    "\n",
    "        hier_sample_1, hier_sample_2 = generate_emp(q_1, n_top, n_bottom), generate_emp(q_2, n_top, n_bottom) \n",
    "       \n",
    "\n",
    "        # record if testing schemes reject\n",
    "        rej_rate_hipm += 1*(dlip(hier_sample_1, hier_sample_2) > threshold_hipm)\n",
    "        rej_rate_wow += 1*(ww(hier_sample_1, hier_sample_2) > threshold_wow)\n",
    "    end\n",
    "    #println(\"time taken for S=$(S) is $(time() - time_S) seconds\")\n",
    "    rej_rate_hipm /= S\n",
    "    rej_rate_wow /= S\n",
    "    return rej_rate_hipm, rej_rate_wow\n",
    "end\n"
   ]
  },
  {
   "cell_type": "code",
   "execution_count": null,
   "id": "b686928c",
   "metadata": {},
   "outputs": [],
   "source": []
  },
  {
   "cell_type": "code",
   "execution_count": 17,
   "id": "7ffd0986",
   "metadata": {},
   "outputs": [
    {
     "data": {
      "text/plain": [
       "([10, 50, 100, 200, 300], [2, 5, 10, 50, 100, 200, 300])"
      ]
     },
     "execution_count": 17,
     "metadata": {},
     "output_type": "execute_result"
    }
   ],
   "source": [
    "n_tops, n_bottoms = [10, 50, 100, 200, 300], [2, 5, 10, 50, 100, 200, 300]\n",
    "\n"
   ]
  },
  {
   "cell_type": "code",
   "execution_count": null,
   "id": "32c51aa8",
   "metadata": {},
   "outputs": [],
   "source": []
  },
  {
   "cell_type": "code",
   "execution_count": 18,
   "id": "cb68838a",
   "metadata": {},
   "outputs": [
    {
     "data": {
      "text/plain": [
       "100"
      ]
     },
     "execution_count": 18,
     "metadata": {},
     "output_type": "execute_result"
    }
   ],
   "source": [
    "\n",
    "\n",
    "# simulations for Dirichlet\n",
    "\n",
    "Random.seed!(123456)\n",
    "\n",
    "\n",
    "α_1 = 1.0\n",
    "α_2 = 1.5\n",
    "P_0_1 = ()->rand()\n",
    "P_0_2 = ()->rand(Beta(1, 5))\n",
    "\n",
    "a, b = 0.0, 1.0\n",
    "\n",
    "q_dp_1 = DP(α_1, P_0_1, a, b)\n",
    "q_dp_2 = DP(α_2, P_0_2, a, b)\n",
    "θ = 0.05\n",
    "\n",
    "\n",
    "S = 100\n",
    "n_permutations = 100\n",
    "\n"
   ]
  },
  {
   "cell_type": "code",
   "execution_count": 19,
   "id": "66075c5f",
   "metadata": {},
   "outputs": [
    {
     "data": {
      "text/plain": [
       "savefig (generic function with 3 methods)"
      ]
     },
     "execution_count": 19,
     "metadata": {},
     "output_type": "execute_result"
    }
   ],
   "source": [
    "function savefig(q_1::PPM, q_2::PPM, n_tops::Vector{Int}, n_bottoms::Vector{Int}, S::Int, n_permutations::Int, θ::Float64, boostrap::Bool=true, name::String=\"dirichlet\")\n",
    "    rejections_hipm, rejections_wow = zeros(length(n_tops), length(n_bottoms)), zeros(length(n_tops), length(n_bottoms))\n",
    "\n",
    "    for (i,n_top) in enumerate(n_tops)\n",
    "        for (j,n_bottom) in enumerate(n_bottoms)\n",
    "            println(\"n_top = $(n_top), n_bottom = $(n_bottom)\")\n",
    "            rej_rate_hipm, rej_rate_wow = rejection_rate(q_1, q_2, S, n_top, n_bottom, n_permutations, θ, boostrap)\n",
    "            rejections_hipm[i,j] = rej_rate_hipm\n",
    "            rejections_wow[i,j] = rej_rate_wow\n",
    "        end\n",
    "    end\n",
    "\n",
    "    rejections_wow = round.(rejections_wow, digits = 2)\n",
    "    rejections_hipm = round.(rejections_hipm, digits = 2)\n",
    "\n",
    "\n",
    "    # Build the DataFrame\n",
    "    df_rejections_hipm = DataFrame(rejections_hipm, Symbol.(string.(\"\", n_bottoms)))\n",
    "    df_rejections_hipm.n_tops = n_tops                  # add n_tops as a column\n",
    "    rename!(df_rejections_hipm, :n_tops => :n)\n",
    "    select!(df_rejections_hipm, :n, :)             # move n_tops to the first column\n",
    "\n",
    "    df_rejections_wow = DataFrame(rejections_wow, Symbol.(string.(\"\", n_bottoms)))\n",
    "    df_rejections_wow.n_tops = n_tops                  # add n_tops as a column\n",
    "    rename!(df_rejections_wow, :n_tops => :n)\n",
    "    select!(df_rejections_wow, :n, :)             # move n_tops to the first column\n",
    "\n",
    "\n",
    "    filepath = joinpath(pwd(), \"rejections_n_vs_m_wow_hipm/\")\n",
    "    CSV.write(filepath*\"df_rejections_wow_$(name).csv\", df_rejections_wow)\n",
    "    CSV.write(filepath*\"df_rejections_hipm_$(name).csv\", df_rejections_hipm)\n",
    "\n",
    "\n",
    "    return df_rejections_hipm, df_rejections_wow\n",
    "end"
   ]
  },
  {
   "cell_type": "code",
   "execution_count": null,
   "id": "c66d51a5",
   "metadata": {},
   "outputs": [],
   "source": []
  },
  {
   "cell_type": "code",
   "execution_count": 20,
   "id": "74ec02fa",
   "metadata": {},
   "outputs": [],
   "source": [
    "# Random.seed!(123456)\n",
    "\n",
    "\n",
    "# α_1 = 1.0\n",
    "# α_2 = 1.0\n",
    "# P_0_1 = ()->rand()\n",
    "# P_0_2 = ()->rand(Beta(1, 5))\n",
    "# P_0_3 = ()->rand(Beta(1,1.5))\n",
    "\n",
    "# a, b = 0.0, 1.0\n",
    "\n",
    "# q_dp_1 = DP(α_1, P_0_1, a, b)\n",
    "# q_dp_2 = DP(α_2, P_0_2, a, b)\n",
    "# q_dp_3 = DP(α_2, P_0_3, a, b)\n",
    "# q_dp_4 = DP(10.0, P_0_1, a, b)\n",
    "# q_dp_5 = DP(10.0, P_0_2, a, b)\n",
    "# θ = 0.05\n",
    "\n",
    "\n",
    "# S = 100\n",
    "# n_permutations = 100\n",
    "\n",
    "\n",
    "\n",
    "# savefig(q_dp_1, q_dp_2, n_tops, n_bottoms, S, n_permutations, θ, true, \"dpalpha_1_beta_1_5\")\n",
    "# savefig(q_dp_1, q_dp_3, n_tops, n_bottoms, S, n_permutations, θ, true, \"dpalpha_1_beta_1_1_5\")\n",
    "# savefig(q_dp_4, q_dp_5, n_tops, n_bottoms, S, n_permutations, θ, true, \"dpalpha_10_beta_1_5\")\n"
   ]
  },
  {
   "cell_type": "code",
   "execution_count": 21,
   "id": "552279b5",
   "metadata": {},
   "outputs": [],
   "source": [
    "# savefig(q_dp_1, q_dp_1, n_tops, n_bottoms, S, n_permutations, θ, true, \"same_dpalpha_1\")\n"
   ]
  },
  {
   "cell_type": "code",
   "execution_count": 22,
   "id": "2e049fdf",
   "metadata": {},
   "outputs": [
    {
     "name": "stdout",
     "output_type": "stream",
     "text": [
      "n_top = 10, n_bottom = 2\n",
      "n_top = 10, n_bottom = 5\n",
      "n_top = 10, n_bottom = 10\n",
      "n_top = 10, n_bottom = 50\n",
      "n_top = 10, n_bottom = 100\n",
      "n_top = 10, n_bottom = 200\n",
      "n_top = 10, n_bottom = 300\n",
      "n_top = 50, n_bottom = 2\n",
      "n_top = 50, n_bottom = 5\n",
      "n_top = 50, n_bottom = 10\n",
      "n_top = 50, n_bottom = 50\n",
      "n_top = 50, n_bottom = 100\n",
      "n_top = 50, n_bottom = 200\n",
      "n_top = 50, n_bottom = 300\n",
      "n_top = 100, n_bottom = 2\n",
      "n_top = 100, n_bottom = 5\n",
      "n_top = 100, n_bottom = 10\n",
      "n_top = 100, n_bottom = 50\n",
      "n_top = 100, n_bottom = 100\n",
      "n_top = 100, n_bottom = 200\n",
      "n_top = 100, n_bottom = 300\n",
      "n_top = 200, n_bottom = 2\n",
      "n_top = 200, n_bottom = 5\n",
      "n_top = 200, n_bottom = 10\n",
      "n_top = 200, n_bottom = 50\n",
      "n_top = 200, n_bottom = 100\n",
      "n_top = 200, n_bottom = 200\n",
      "n_top = 200, n_bottom = 300\n",
      "n_top = 300, n_bottom = 2\n",
      "n_top = 300, n_bottom = 5\n",
      "n_top = 300, n_bottom = 10\n",
      "n_top = 300, n_bottom = 50\n",
      "n_top = 300, n_bottom = 100\n",
      "n_top = 300, n_bottom = 200\n",
      "n_top = 300, n_bottom = 300\n",
      "n_top = 10, n_bottom = 2\n",
      "n_top = 10, n_bottom = 5\n",
      "n_top = 10, n_bottom = 10\n",
      "n_top = 10, n_bottom = 50\n",
      "n_top = 10, n_bottom = 100\n",
      "n_top = 10, n_bottom = 200\n",
      "n_top = 10, n_bottom = 300\n",
      "n_top = 50, n_bottom = 2\n",
      "n_top = 50, n_bottom = 5\n",
      "n_top = 50, n_bottom = 10\n",
      "n_top = 50, n_bottom = 50\n",
      "n_top = 50, n_bottom = 100\n",
      "n_top = 50, n_bottom = 200\n",
      "n_top = 50, n_bottom = 300\n",
      "n_top = 100, n_bottom = 2\n",
      "n_top = 100, n_bottom = 5\n",
      "n_top = 100, n_bottom = 10\n",
      "n_top = 100, n_bottom = 50\n",
      "n_top = 100, n_bottom = 100\n",
      "n_top = 100, n_bottom = 200\n",
      "n_top = 100, n_bottom = 300\n",
      "n_top = 200, n_bottom = 2\n",
      "n_top = 200, n_bottom = 5\n",
      "n_top = 200, n_bottom = 10\n",
      "n_top = 200, n_bottom = 50\n",
      "n_top = 200, n_bottom = 100\n",
      "n_top = 200, n_bottom = 200\n",
      "n_top = 200, n_bottom = 300\n",
      "n_top = 300, n_bottom = 2\n",
      "n_top = 300, n_bottom = 5\n",
      "n_top = 300, n_bottom = 10\n",
      "n_top = 300, n_bottom = 50\n",
      "n_top = 300, n_bottom = 100\n",
      "n_top = 300, n_bottom = 200\n",
      "n_top = 300, n_bottom = 300\n",
      "n_top = 10, n_bottom = 2\n",
      "n_top = 10, n_bottom = 5\n",
      "n_top = 10, n_bottom = 10\n",
      "n_top = 10, n_bottom = 50\n",
      "n_top = 10, n_bottom = 100\n",
      "n_top = 10, n_bottom = 200\n",
      "n_top = 10, n_bottom = 300\n",
      "n_top = 50, n_bottom = 2\n",
      "n_top = 50, n_bottom = 5\n",
      "n_top = 50, n_bottom = 10\n",
      "n_top = 50, n_bottom = 50\n",
      "n_top = 50, n_bottom = 100\n",
      "n_top = 50, n_bottom = 200\n",
      "n_top = 50, n_bottom = 300\n",
      "n_top = 100, n_bottom = 2\n",
      "n_top = 100, n_bottom = 5\n",
      "n_top = 100, n_bottom = 10\n",
      "n_top = 100, n_bottom = 50\n",
      "n_top = 100, n_bottom = 100\n",
      "n_top = 100, n_bottom = 200\n",
      "n_top = 100, n_bottom = 300\n",
      "n_top = 200, n_bottom = 2\n",
      "n_top = 200, n_bottom = 5\n",
      "n_top = 200, n_bottom = 10\n",
      "n_top = 200, n_bottom = 50\n",
      "n_top = 200, n_bottom = 100\n",
      "n_top = 200, n_bottom = 200\n",
      "n_top = 200, n_bottom = 300\n",
      "n_top = 300, n_bottom = 2\n",
      "n_top = 300, n_bottom = 5\n",
      "n_top = 300, n_bottom = 10\n",
      "n_top = 300, n_bottom = 50\n",
      "n_top = 300, n_bottom = 100\n",
      "n_top = 300, n_bottom = 200\n",
      "n_top = 300, n_bottom = 300\n"
     ]
    },
    {
     "data": {
      "text/plain": [
       "(\u001b[1m5×8 DataFrame\u001b[0m\n",
       "\u001b[1m Row \u001b[0m│\u001b[1m n     \u001b[0m\u001b[1m 2       \u001b[0m\u001b[1m 5       \u001b[0m\u001b[1m 10      \u001b[0m\u001b[1m 50      \u001b[0m\u001b[1m 100     \u001b[0m\u001b[1m 200     \u001b[0m\u001b[1m 300     \u001b[0m\n",
       "\u001b[1m     \u001b[0m│\u001b[90m Int64 \u001b[0m\u001b[90m Float64 \u001b[0m\u001b[90m Float64 \u001b[0m\u001b[90m Float64 \u001b[0m\u001b[90m Float64 \u001b[0m\u001b[90m Float64 \u001b[0m\u001b[90m Float64 \u001b[0m\u001b[90m Float64 \u001b[0m\n",
       "─────┼──────────────────────────────────────────────────────────────────────\n",
       "   1 │    10     0.19     0.06     0.02     0.28     0.18     0.06     0.09\n",
       "   2 │    50     0.07     0.17     0.03     0.16     0.21     0.06     0.13\n",
       "   3 │   100     0.02     0.02     0.14     0.02     0.05     0.09     0.03\n",
       "   4 │   200     0.05     0.05     0.04     0.01     0.13     0.06     0.07\n",
       "   5 │   300     0.04     0.01     0.0      0.06     0.1      0.04     0.06, \u001b[1m5×8 DataFrame\u001b[0m\n",
       "\u001b[1m Row \u001b[0m│\u001b[1m n     \u001b[0m\u001b[1m 2       \u001b[0m\u001b[1m 5       \u001b[0m\u001b[1m 10      \u001b[0m\u001b[1m 50      \u001b[0m\u001b[1m 100     \u001b[0m\u001b[1m 200     \u001b[0m\u001b[1m 300     \u001b[0m\n",
       "\u001b[1m     \u001b[0m│\u001b[90m Int64 \u001b[0m\u001b[90m Float64 \u001b[0m\u001b[90m Float64 \u001b[0m\u001b[90m Float64 \u001b[0m\u001b[90m Float64 \u001b[0m\u001b[90m Float64 \u001b[0m\u001b[90m Float64 \u001b[0m\u001b[90m Float64 \u001b[0m\n",
       "─────┼──────────────────────────────────────────────────────────────────────\n",
       "   1 │    10     0.15     0.11     0.01     0.61     0.46     0.18     0.34\n",
       "   2 │    50     0.06     0.84     0.53     0.98     1.0      0.99     1.0\n",
       "   3 │   100     0.04     0.36     1.0      1.0      1.0      1.0      1.0\n",
       "   4 │   200     0.09     0.82     1.0      1.0      1.0      1.0      1.0\n",
       "   5 │   300     0.02     0.74     1.0      1.0      1.0      1.0      1.0)"
      ]
     },
     "execution_count": 22,
     "metadata": {},
     "output_type": "execute_result"
    }
   ],
   "source": [
    "Random.seed!(123456)\n",
    "\n",
    "\n",
    "α_1 = 10.0\n",
    "α_2 = 10.0\n",
    "P_0_1 = ()->rand()\n",
    "P_0_2 = ()->rand(Beta(1, 1.1))\n",
    "P_0_3 = ()->rand(Beta(1,1.2))\n",
    "\n",
    "a, b = 0.0, 1.0\n",
    "\n",
    "q_dp_1 = DP(α_1, P_0_1, a, b)\n",
    "q_dp_2 = DP(α_2, P_0_2, a, b)\n",
    "q_dp_3 = DP(α_2, P_0_3, a, b)\n",
    "q_dp_4 = DP(10.0, P_0_1, a, b)\n",
    "q_dp_5 = DP(10.0, P_0_2, a, b)\n",
    "θ = 0.05\n",
    "\n",
    "\n",
    "S = 100\n",
    "n_permutations = 100\n",
    "\n",
    "\n",
    "\n",
    "savefig(q_dp_1, q_dp_2, n_tops, n_bottoms, S, n_permutations, θ, true, \"dpalpha_1_beta_1_1\")\n",
    "savefig(q_dp_1, q_dp_3, n_tops, n_bottoms, S, n_permutations, θ, true, \"dpalpha_1_beta_1_2\")\n",
    "savefig(q_dp_1, q_dp_1, n_tops, n_bottoms, S, n_permutations, θ, true, \"dpalpha_10_beta_1\")\n"
   ]
  },
  {
   "cell_type": "code",
   "execution_count": 23,
   "id": "1b4d8eb7",
   "metadata": {},
   "outputs": [],
   "source": [
    "# rejections_hipm, rejections_wow = zeros(length(n_tops), length(n_bottoms)), zeros(length(n_tops), length(n_bottoms))\n",
    "\n",
    "# for (i,n_top) in enumerate(n_tops)\n",
    "#     for (j,n_bottom) in enumerate(n_bottoms)\n",
    "\n",
    "#         println(\"n_top = $(n_top), n_bottom = $(n_bottom)\")\n",
    "#         rej = rejection_rate(q_dp_1, q_dp_2, S, n_top, n_bottom, n_permutations, θ, false)\n",
    "#         rejections_hipm[i,j] = rej[1]\n",
    "#         rejections_wow[i,j] = rej[2]\n",
    "\n",
    "#     end\n",
    "# end"
   ]
  },
  {
   "cell_type": "code",
   "execution_count": null,
   "id": "c47f48fb",
   "metadata": {},
   "outputs": [],
   "source": []
  },
  {
   "cell_type": "code",
   "execution_count": 24,
   "id": "c888afde",
   "metadata": {},
   "outputs": [],
   "source": [
    "# rejections_wow = round.(rejections_wow, digits = 2)\n",
    "# rejections_hipm = round.(rejections_hipm, digits = 2)\n",
    "\n",
    "\n",
    "# # Build the DataFrame\n",
    "# #df_hipm = DataFrame(times_hipm, Symbol.(string.(\"m = \", n_bottoms)))\n",
    "# df_rejections_hipm = DataFrame(rejections_hipm, Symbol.(string.(\"\", n_bottoms)))\n",
    "\n",
    "# df_rejections_hipm.n_tops = n_tops                  # add n_tops as a column\n",
    "# rename!(df_rejections_hipm, :n_tops => :n)\n",
    "# select!(df_rejections_hipm, :n, :)             # move n_tops to the first column\n",
    "\n",
    "# #df_wow = DataFrame(times_wow, Symbol.(string.(\"m = \", n_bottoms)))\n",
    "# df_rejections_wow = DataFrame(rejections_wow, Symbol.(string.(\"\", n_bottoms)))\n",
    "# df_rejections_wow.n_tops = n_tops                  # add n_tops as a column\n",
    "# rename!(df_rejections_wow, :n_tops => :n)\n",
    "# select!(df_rejections_wow, :n, :)             # move n_tops to the first column\n"
   ]
  },
  {
   "cell_type": "code",
   "execution_count": 25,
   "id": "9ce215b6",
   "metadata": {},
   "outputs": [],
   "source": [
    "\n",
    "# filepath = joinpath(pwd(), \"rejections_n_vs_m_wow_hipm/\")\n",
    "# CSV.write(filepath*\"df_rejections_wow.csv\", df_rejections_wow)\n",
    "# CSV.write(filepath*\"df_rejections_hipm.csv\", df_rejections_hipm)"
   ]
  },
  {
   "cell_type": "code",
   "execution_count": null,
   "id": "43ace60f",
   "metadata": {},
   "outputs": [],
   "source": []
  },
  {
   "cell_type": "code",
   "execution_count": null,
   "id": "ea0e1a8e",
   "metadata": {},
   "outputs": [],
   "source": []
  }
 ],
 "metadata": {
  "kernelspec": {
   "display_name": "Julia 1.11.6",
   "language": "julia",
   "name": "julia-1.11"
  },
  "language_info": {
   "file_extension": ".jl",
   "mimetype": "application/julia",
   "name": "julia",
   "version": "1.11.6"
  }
 },
 "nbformat": 4,
 "nbformat_minor": 5
}
