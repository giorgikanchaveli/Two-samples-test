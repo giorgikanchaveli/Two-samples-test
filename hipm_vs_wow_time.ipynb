{
 "cells": [
  {
   "cell_type": "markdown",
   "id": "439c2475",
   "metadata": {},
   "source": [
    "# Compare times to compute distances w.r.t HIPM and WoW"
   ]
  },
  {
   "cell_type": "code",
   "execution_count": null,
   "id": "d2546c05",
   "metadata": {},
   "outputs": [],
   "source": [
    "using Plots\n",
    "\n",
    "\n",
    "include(\"distributions.jl\")\n",
    "\n",
    "include(\"distances/new_distance.jl\")\n",
    "include(\"distances/distance_Wasserstein.jl\")\n",
    "using DataFrames\n",
    "using CSV\n",
    "\n"
   ]
  },
  {
   "cell_type": "code",
   "execution_count": null,
   "id": "6e1d7370",
   "metadata": {},
   "outputs": [],
   "source": [
    "# Firstly we define two Dirichlet Processes with different concentration parameters and the same base distribution.\n",
    "\n",
    "\n",
    "\n",
    "α_1, α_2 = 1.0, 2.0\n",
    "P_0_1 = ()->probability(\"same\")\n",
    "P_0_2 = ()->probability(\"splitting\")\n",
    "\n",
    "a, b = -1.0, 1.0\n",
    "\n",
    "q_1 = DP(α_1, P_0_2, a, b)\n",
    "q_2 = DP(α_2, P_0_2, a, b)\n"
   ]
  },
  {
   "cell_type": "code",
   "execution_count": null,
   "id": "e9bab988",
   "metadata": {},
   "outputs": [],
   "source": [
    "n_tops, n_bottoms = collect(10:100:100), collect(10:100:100) # number of top and bottom level samples\n",
    "S = 5 # number of times we compute distance for each (n_top, n_bottom) pair. We will average the times over S runs.\n",
    "\n",
    "times_hipm = zeros(length(n_tops), length(n_bottoms)) # matrix to store average times for HIPM\n",
    "times_wow = zeros(length(n_tops), length(n_bottoms)) # matrix to store average times for WoW\n",
    "\n",
    "for (i, n_top) in enumerate(n_tops)\n",
    "    for (j, n_bottom) in enumerate(n_bottoms)\n",
    "        println(\"n_top = $(n_top), n_bottom = $(n_bottom)\")\n",
    "        for s in 1:S\n",
    "            hier_sample_1 = generate_emp(q_1, n_top, n_bottom)\n",
    "            hier_sample_2 = generate_emp(q_2, n_top, n_bottom)\n",
    "\n",
    "            t_hipm = @elapsed dlip(hier_sample_1, hier_sample_2) # time HIPM\n",
    "            t_wow = @elapsed ww(hier_sample_1, hier_sample_2) # time WoW\n",
    "\n",
    "            times_hipm[i,j] += t_hipm\n",
    "            times_wow[i,j] += t_wow\n",
    "        end\n",
    "        times_hipm[i,j] /= S\n",
    "        times_wow[i,j] /= S\n",
    "    end\n",
    "end"
   ]
  },
  {
   "cell_type": "code",
   "execution_count": null,
   "id": "5db4e3c5",
   "metadata": {},
   "outputs": [],
   "source": [
    "times_hipm"
   ]
  },
  {
   "cell_type": "code",
   "execution_count": null,
   "id": "6152619e",
   "metadata": {},
   "outputs": [],
   "source": [
    "times_wow"
   ]
  },
  {
   "cell_type": "code",
   "execution_count": null,
   "id": "b31d852f",
   "metadata": {},
   "outputs": [],
   "source": [
    "# Round times to 3 decimal places for better readability\n",
    "times_wow = round.(times_wow, digits = 3)\n",
    "times_hipm = round.(times_hipm, digits = 3)\n",
    "\n",
    "\n",
    "# Build the DataFrame\n",
    "df_hipm = DataFrame(times_hipm, Symbol.(string.(\"n_bottom_\", n_bottoms)))\n",
    "df_hipm.n_tops = n_tops                  # add n_tops as a column\n",
    "select!(df_hipm, :n_tops, :)             # move n_tops to the first column\n",
    "\n",
    "df_wow = DataFrame(times_wow, Symbol.(string.(\"n_bottom_\", n_bottoms)))\n",
    "df_wow.n_tops = n_tops                  # add n_tops as a column\n",
    "select!(df_wow, :n_tops, :)             # move n_tops to the first column\n"
   ]
  },
  {
   "cell_type": "code",
   "execution_count": null,
   "id": "5503db52",
   "metadata": {},
   "outputs": [],
   "source": [
    "df_hipm"
   ]
  },
  {
   "cell_type": "code",
   "execution_count": null,
   "id": "0a50c68f",
   "metadata": {},
   "outputs": [],
   "source": [
    "df_wow"
   ]
  },
  {
   "cell_type": "code",
   "execution_count": null,
   "id": "56d700a6",
   "metadata": {},
   "outputs": [],
   "source": [
    "\n",
    "\n",
    "filepath = joinpath(pwd(), \"time_wow_hipm/\")\n",
    "CSV.write(filepath*\"times_hipm.csv\", df_hipm)\n",
    "CSV.write(filepath*\"times_wow.csv\", df_wow)    "
   ]
  },
  {
   "cell_type": "code",
   "execution_count": null,
   "id": "ea122a20",
   "metadata": {},
   "outputs": [],
   "source": []
  }
 ],
 "metadata": {
  "kernelspec": {
   "display_name": "Julia 1.11.6",
   "language": "julia",
   "name": "julia-1.11"
  },
  "language_info": {
   "file_extension": ".jl",
   "mimetype": "application/julia",
   "name": "julia",
   "version": "1.11.6"
  }
 },
 "nbformat": 4,
 "nbformat_minor": 5
}
