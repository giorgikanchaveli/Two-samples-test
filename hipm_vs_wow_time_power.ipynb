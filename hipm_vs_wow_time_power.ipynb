{
 "cells": [
  {
   "cell_type": "markdown",
   "id": "2ae4c3c6",
   "metadata": {},
   "source": [
    "In this file we compare times for computing distance using HIPM and WoW and also compare rejection rates per different $n$ and $m$"
   ]
  },
  {
   "cell_type": "markdown",
   "id": "77b1af19",
   "metadata": {},
   "source": [
    "### Plots\n",
    "\n",
    "\n",
    "1. **Time for computing WoW and HIPM distances**  \n",
    "   \n",
    "   We fix two laws of RPM. We record number of seconds needed to compute distance between hierarchical samples per each pair $(n,m).$ The final output is saved in csv file.\n",
    "\n",
    "2. **Rejection rates under $H_0$s** \n",
    " \n",
    "   For fixed pair of laws of RPM, we record rejection rates (False Positive rates) per each pair $(n,m).$\n",
    "\n",
    "3. **Rejection rates under $H_1**  \n",
    "   \n",
    "   For fixed pair of laws of RPM, we record rejection rates (True Positive rates) per each pair $(n,m).$\n",
    "\n"
   ]
  },
  {
   "cell_type": "markdown",
   "id": "439c2475",
   "metadata": {},
   "source": [
    "# Computing times"
   ]
  },
  {
   "cell_type": "code",
   "execution_count": null,
   "id": "d2546c05",
   "metadata": {},
   "outputs": [],
   "source": [
    "\n",
    "\n",
    "include(\"methods_for_simulations.jl\")\n",
    "\n",
    "\n",
    "\n"
   ]
  },
  {
   "cell_type": "code",
   "execution_count": 2,
   "id": "6e1d7370",
   "metadata": {},
   "outputs": [],
   "source": [
    "# # Firstly we define two Dirichlet Processes with different concentration parameters and the same base distribution.\n",
    "\n",
    "\n",
    "\n",
    "# α_1, α_2 = 1.0, 2.0\n",
    "# P_0_1 = ()->probability(\"same\")\n",
    "# P_0_2 = ()->probability(\"splitting\")\n",
    "\n",
    "# a, b = -1.0, 1.0\n",
    "\n",
    "# q_1 = DP(α_1, P_0_2, a, b)\n",
    "# q_2 = DP(α_2, P_0_2, a, b)\n"
   ]
  },
  {
   "cell_type": "code",
   "execution_count": 3,
   "id": "f206fdfa",
   "metadata": {},
   "outputs": [],
   "source": [
    "# q_1_emp = generate_emp(q_1, 20, 20)\n",
    "# q_2_emp = generate_emp(q_2, 20, 20)\n",
    "# time_wass = @elapsed ww(q_1_emp, q_2_emp)\n",
    "# time_hipm = @elapsed dlip(q_1_emp, q_2_emp)"
   ]
  },
  {
   "cell_type": "code",
   "execution_count": 4,
   "id": "55234067",
   "metadata": {},
   "outputs": [],
   "source": [
    "# println(\"Wasserstein time: \", time_wass)\n",
    "# println(\"HIPM time: \", time_hipm)"
   ]
  },
  {
   "cell_type": "markdown",
   "id": "89d54249",
   "metadata": {},
   "source": [
    "We consider values $100,200,300,...,1000$ for both $n$ and $m$\n"
   ]
  },
  {
   "cell_type": "code",
   "execution_count": null,
   "id": "e9bab988",
   "metadata": {},
   "outputs": [],
   "source": [
    "# n_tops, n_bottoms = collect(100:100:1000), collect(100:100:1000) # number of top and bottom level samples\n",
    "# n_comps = 3 # number of times we compute distance for each (n_top, n_bottom) pair. We will average the times over S runs.\n",
    "\n",
    "# times_hipm, times_wow = save_times(n_tops, n_bottoms, n_comps)\n"
   ]
  },
  {
   "cell_type": "code",
   "execution_count": null,
   "id": "7802e6ef",
   "metadata": {},
   "outputs": [],
   "source": [
    "# # read csv\n",
    "\n",
    "# times_hipm, times_wow = CSV.read(\"time_wow_hipm/times_hipm.csv\", DataFrame), CSV.read(\"time_wow_hipm/times_wow.csv\", DataFrame)\n"
   ]
  },
  {
   "cell_type": "code",
   "execution_count": null,
   "id": "8d68f65d",
   "metadata": {},
   "outputs": [],
   "source": []
  },
  {
   "cell_type": "markdown",
   "id": "2babab66",
   "metadata": {},
   "source": [
    "# Rejection rates"
   ]
  },
  {
   "cell_type": "code",
   "execution_count": null,
   "id": "b686928c",
   "metadata": {},
   "outputs": [],
   "source": [
    "\n",
    "\n",
    "# Firstly we define several Dirichlet processes\n",
    "\n",
    "Random.seed!(123456)\n",
    "\n",
    "\n",
    "α_1 = 1.0\n",
    "α_2 = 1.5\n",
    "P_0_1 = ()->rand()\n",
    "P_0_2 = ()->rand(Beta(1, 5))\n",
    "\n",
    "a, b = 0.0, 1.0\n",
    "\n",
    "q_dp_1 = DP(α_1, P_0_1, a, b)\n",
    "q_dp_2 = DP(α_2, P_0_2, a, b)\n",
    "θ = 0.05\n",
    "\n",
    "\n",
    "S = 100\n",
    "n_permutations = 100\n",
    "\n"
   ]
  },
  {
   "cell_type": "code",
   "execution_count": 17,
   "id": "7ffd0986",
   "metadata": {},
   "outputs": [
    {
     "data": {
      "text/plain": [
       "([10, 50, 100, 200, 300], [2, 5, 10, 50, 100, 200, 300])"
      ]
     },
     "execution_count": 17,
     "metadata": {},
     "output_type": "execute_result"
    }
   ],
   "source": [
    "n_tops, n_bottoms = [10, 50, 100, 200, 300], [2, 5, 10, 50, 100, 200, 300]\n",
    "\n"
   ]
  },
  {
   "cell_type": "code",
   "execution_count": null,
   "id": "43ace60f",
   "metadata": {},
   "outputs": [],
   "source": [
    "# Random.seed!(123456)\n",
    "\n",
    "\n",
    "# α_1 = 1.0\n",
    "# α_2 = 1.0\n",
    "# P_0_1 = ()->rand()\n",
    "# P_0_2 = ()->rand(Beta(1, 5))\n",
    "# P_0_3 = ()->rand(Beta(1,1.5))\n",
    "\n",
    "# a, b = 0.0, 1.0\n",
    "\n",
    "# q_dp_1 = DP(α_1, P_0_1, a, b)\n",
    "# q_dp_2 = DP(α_2, P_0_2, a, b)\n",
    "# q_dp_3 = DP(α_2, P_0_3, a, b)\n",
    "# q_dp_4 = DP(10.0, P_0_1, a, b)\n",
    "# q_dp_5 = DP(10.0, P_0_2, a, b)\n",
    "# θ = 0.05\n",
    "\n",
    "\n",
    "# S = 100\n",
    "# n_permutations = 100\n",
    "\n",
    "\n",
    "\n",
    "# savefig_for_rejections_hipm_wow(q_dp_1, q_dp_2, n_tops, n_bottoms, S, n_permutations, θ, true, \"dpalpha_1_beta_1_5\")\n",
    "# savefig_for_rejections_hipm_wow(q_dp_1, q_dp_3, n_tops, n_bottoms, S, n_permutations, θ, true, \"dpalpha_1_beta_1_1_5\")\n",
    "# savefig_for_rejections_hipm_wow(q_dp_4, q_dp_5, n_tops, n_bottoms, S, n_permutations, θ, true, \"dpalpha_10_beta_1_5\")\n"
   ]
  },
  {
   "cell_type": "code",
   "execution_count": null,
   "id": "ea0e1a8e",
   "metadata": {},
   "outputs": [],
   "source": [
    "# savefig_for_rejections_hipm_wow(q_dp_1, q_dp_1, n_tops, n_bottoms, S, n_permutations, θ, true, \"same_dpalpha_1\")\n"
   ]
  },
  {
   "cell_type": "code",
   "execution_count": null,
   "id": "fd01ffb4",
   "metadata": {},
   "outputs": [],
   "source": [
    "Random.seed!(123456)\n",
    "\n",
    "\n",
    "α_1 = 10.0\n",
    "α_2 = 10.0\n",
    "P_0_1 = ()->rand()\n",
    "P_0_2 = ()->rand(Beta(1, 1.1))\n",
    "P_0_3 = ()->rand(Beta(1,1.2))\n",
    "\n",
    "a, b = 0.0, 1.0\n",
    "\n",
    "q_dp_1 = DP(α_1, P_0_1, a, b)\n",
    "q_dp_2 = DP(α_2, P_0_2, a, b)\n",
    "q_dp_3 = DP(α_2, P_0_3, a, b)\n",
    "q_dp_4 = DP(10.0, P_0_1, a, b)\n",
    "q_dp_5 = DP(10.0, P_0_2, a, b)\n",
    "θ = 0.05\n",
    "\n",
    "\n",
    "S = 100\n",
    "n_permutations = 100\n",
    "\n",
    "\n",
    "\n",
    "savefig_for_rejections_hipm_wow(q_dp_1, q_dp_2, n_tops, n_bottoms, S, n_permutations, θ, true, \"dpalpha_1_beta_1_1\")\n",
    "savefig_for_rejections_hipm_wow(q_dp_1, q_dp_3, n_tops, n_bottoms, S, n_permutations, θ, true, \"dpalpha_1_beta_1_2\")\n",
    "savefig_for_rejections_hipm_wow(q_dp_1, q_dp_1, n_tops, n_bottoms, S, n_permutations, θ, true, \"dpalpha_10_beta_1\")\n"
   ]
  },
  {
   "cell_type": "code",
   "execution_count": null,
   "id": "f84e5bdd",
   "metadata": {},
   "outputs": [],
   "source": []
  }
 ],
 "metadata": {
  "kernelspec": {
   "display_name": "Julia 1.11.6",
   "language": "julia",
   "name": "julia-1.11"
  },
  "language_info": {
   "file_extension": ".jl",
   "mimetype": "application/julia",
   "name": "julia",
   "version": "1.11.6"
  }
 },
 "nbformat": 4,
 "nbformat_minor": 5
}
