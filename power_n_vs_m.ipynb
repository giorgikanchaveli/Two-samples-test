{
 "cells": [
  {
   "cell_type": "code",
   "execution_count": null,
   "id": "a712af26",
   "metadata": {},
   "outputs": [],
   "source": [
    "using Plots\n",
    "\n",
    "include(\"distributions.jl\")\n",
    "\n",
    "include(\"distances/new_distance.jl\")\n",
    "include(\"distances/distance_Wasserstein.jl\")\n"
   ]
  },
  {
   "cell_type": "markdown",
   "id": "38891715",
   "metadata": {},
   "source": [
    "We want to get the effects of $n$ and $m$ for getting high true positive rate. In particular, we have have to choose between high $n$ low $m$ or high $m$ low $n$, which one should we choose? \n",
    "\n",
    "For that we work on two different laws of RPM\n",
    "$$\n",
    "\\text{DP}(1.0, P_0) \\quad \\text{and} \\quad \\text{DP}(2.0, P_0),\n",
    "$$\n",
    "\n",
    "where $P_0 = \\text{Uniform}(-1,1)$"
   ]
  },
  {
   "cell_type": "markdown",
   "id": "48c818a8",
   "metadata": {},
   "source": [
    "Suppose that the budget is $1000$, i.e. $n + m = 1000.$ How should we choose $n, m$?\n",
    "\n",
    "We can try $ n = d , m = 1000 = d $ for $d = 10, 100, 200, 300, 400, 500, 600, 700, 800, 900, 1000$"
   ]
  },
  {
   "cell_type": "code",
   "execution_count": null,
   "id": "3d16cf17",
   "metadata": {},
   "outputs": [],
   "source": [
    "function sample_distances_thresholds(q_1::PPM, q_2::PPM, n::Int, m::Int, s::Int, θ::Float64, n_permutations::Int)\n",
    "    # This functions samples distances between hierarchical empirical measures and also gets thresholds for each of the distance using permutatoin approach\n",
    "    \n",
    "    # q_1 :: Law of random probabiity measure Q^1\n",
    "    # q_2 :: Law of random probabiity measure Q^2\n",
    "    # n :: Number of rows in hierarchical sample\n",
    "    # m :: Number of columns in hierarchical sample\n",
    "    # s :: Number of distances sampled\n",
    "    # θ :: Probability level for threshold\n",
    "    # n_permutations :: Number of permutations for permutation approach\n",
    "\n",
    "    d_wws = Vector{Float64}(undef, s)\n",
    "    d_lips = Vector{Float64}(undef, s)\n",
    "\n",
    "    perm_thresholds = zeros(s, 2) # First dimension - generated empirical measure, second one - distance function(WoW or HIPM)\n",
    "\n",
    "    for i in 1:s\n",
    "        println(\"s = $i\")\n",
    "        emp_1, emp_2 = generate_emp(q_1, n, m), generate_emp(q_2, n, m) # Q^1_{n,m}, Q^2_{n,m}\n",
    "        d_wws[i] = ww(emp_1, emp_2)\n",
    "        d_lips[i] = dlip(emp_1, emp_2)\n",
    "        \n",
    "        # now we get threshold for each distance per each probability level θ. This is different from threshold via Rademacher complexity because here threshold\n",
    "        # depends on the generated empirical measures.\n",
    "\n",
    "        # To get threshold we first obtain approximate samples of d(Q^1_{n,m}, Q^2_{n,m}) that we call permuted_samples\n",
    "        permuted_samples_ww = zeros(n_permutations)\n",
    "        permuted_samples_dlip = zeros(n_permutations)\n",
    "        total_rows = vcat(emp_1.atoms, emp_2.atoms)\n",
    "\n",
    "        for k in 1:n_permutations\n",
    "            random_indices = randperm(2n) # indices to distribute rows to new hierarchical meausures\n",
    "\n",
    "            emp_1_permuted = emp_ppm(total_rows[random_indices[1:n],:], n, m, emp_1.a, emp_1.b)\n",
    "            emp_2_permuted = emp_ppm(total_rows[random_indices[n+1:end],:], n, m, emp_2.a, emp_2.b)\n",
    "\n",
    "            permuted_samples_ww[k] = ww(emp_1_permuted, emp_2_permuted)\n",
    "            permuted_samples_dlip[k] = dlip(emp_1_permuted, emp_2_permuted)\n",
    "        end\n",
    "\n",
    "        # Now we compute thresholds for each distance function and probability level θ. Actually they are not exactly same thresholds as in theory because we do not rescale by √(n/2)\n",
    "        perm_thresholds[i, 1] = quantile(permuted_samples_ww, 1 - θ) # thresholds for WoW \n",
    "        perm_thresholds[i, 2] = quantile(permuted_samples_dlip, 1 - θ) # thresholds for HIPM\n",
    "    end\n",
    "\n",
    "    return d_wws, d_lips, perm_thresholds\n",
    "end\n",
    "\n",
    "\n",
    "\n",
    "\n",
    "function rejection_rate(d_wws::Vector{Float64}, d_lips::Vector{Float64}, perm_thresholds::Array{Float64, 2}, θ::Float64)\n",
    "    # Given sampled distances and thresholds we compute rejection rates for each distance function and probability level θ\n",
    "\n",
    "    n = length(d_wws)\n",
    "    rej_rates = zeros(2) # rejection rates for WoW and HIPM\n",
    "\n",
    "    rej_rates[1] = sum(d_wws .> perm_thresholds[1]) / n # how often does d_wws exceed the threshold using wow\n",
    "    rej_rates[2] = sum(d_lips .> perm_thresholds[2]) / n # how often does d_lips exceed the threshold using hipm\n",
    "\n",
    "    return rej_rates\n",
    "end\n",
    "\n"
   ]
  },
  {
   "cell_type": "code",
   "execution_count": null,
   "id": "5ebf6c2b",
   "metadata": {},
   "outputs": [],
   "source": [
    "function rejection_rates(q_1::PPM, q_2::PPM, n::Int, m::Int, s::Int, θ::Float64, n_permutations::Int)\n",
    "    # q_1 : Law of random probabiity measure Q^1\n",
    "    # q_2 : Law of random probabiity measure Q^2\n",
    "    # n : Number of rows in hierarchical sample\n",
    "    # m : Number of columns in hierarchical sample\n",
    "    # s : Number of distances sampled\n",
    "    # θ : Probability level for threshold\n",
    "    \n",
    "    # n_permutations : Number of permutations for permutation approach\n",
    "\n",
    "    d_wws, d_lips, perm_thresholds = sample_distances_thresholds(q_1, q_2, n, m, s, θ, n_permutations)\n",
    "\n",
    "\n",
    "    # Now get the rejection rates and rejection rate plots per each probability level\n",
    "\n",
    "    rej_rates = rejection_rate(d_wws, d_lips, perm_thresholds, θ)\n",
    "\n",
    "    return rej_rates\n",
    "end"
   ]
  },
  {
   "cell_type": "code",
   "execution_count": null,
   "id": "9140d4b6",
   "metadata": {},
   "outputs": [],
   "source": [
    "# define two laws of random probability measures\n",
    "α_1, α_2 = 1.0, 2.0\n",
    "P_0 = ()->probability(\"same\") # uniform measure\n",
    "a,b = -1.0, 1.0\n",
    "q_1 = DP(α_1, P_0, a, b)\n",
    "q_2 = DP(α_2, P_0, a, b)\n",
    "n, m = 5, 5 # number of rows and columns in hierarchical sample\n",
    "\n",
    "\n",
    "S = 1\n",
    "n_permutations = 1 # number of permutations for permutation approach\n",
    "\n",
    "θ = 0.05\n",
    "rej_rates(n, m) = rejection_rates(q_1, q_2, n, m, S, θ, n_permutations)\n",
    "println(\"Rejection rates for WoW and HIPM are $(rej_rates(n, m))\")"
   ]
  },
  {
   "cell_type": "code",
   "execution_count": null,
   "id": "844f1889",
   "metadata": {},
   "outputs": [],
   "source": [
    "d = vcat([10],collect(100:100:1000))\n",
    "powers = [rej_rates(d, 1000 - d) for d in d]"
   ]
  },
  {
   "cell_type": "code",
   "execution_count": null,
   "id": "3d016a6c",
   "metadata": {},
   "outputs": [],
   "source": [
    "powers"
   ]
  },
  {
   "cell_type": "code",
   "execution_count": null,
   "id": "55431fe1",
   "metadata": {},
   "outputs": [],
   "source": [
    "plot(d, getindex.(powers, 1), label=\"WoW\", xlabel=\"n\", ylabel=\"Power\", title=\"Power vs n (m = 1000 - n)\", legend=:bottomright)\n",
    "plot!(d, getindex.(powers, 2), label=\"HIPM\", linestyle=:dash)\n"
   ]
  },
  {
   "cell_type": "code",
   "execution_count": null,
   "id": "0daaaae3",
   "metadata": {},
   "outputs": [],
   "source": []
  }
 ],
 "metadata": {
  "kernelspec": {
   "display_name": "Julia 1.11.6",
   "language": "julia",
   "name": "julia-1.11"
  },
  "language_info": {
   "file_extension": ".jl",
   "mimetype": "application/julia",
   "name": "julia",
   "version": "1.11.6"
  }
 },
 "nbformat": 4,
 "nbformat_minor": 5
}
