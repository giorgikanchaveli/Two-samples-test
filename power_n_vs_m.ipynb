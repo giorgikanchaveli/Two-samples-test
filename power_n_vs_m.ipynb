{
 "cells": [
  {
   "cell_type": "code",
   "execution_count": 15,
   "id": "a712af26",
   "metadata": {},
   "outputs": [
    {
     "data": {
      "text/plain": [
       "ww (generic function with 2 methods)"
      ]
     },
     "execution_count": 15,
     "metadata": {},
     "output_type": "execute_result"
    }
   ],
   "source": [
    "using Plots\n",
    "\n",
    "include(\"distributions.jl\")\n",
    "\n",
    "include(\"distances/new_distance.jl\")\n",
    "include(\"distances/distance_Wasserstein.jl\")\n"
   ]
  },
  {
   "cell_type": "markdown",
   "id": "38891715",
   "metadata": {},
   "source": [
    "We want to get the effects of $n$ and $m$ for getting high true positive rate. In particular, If the choice is between high $n$ low $m$ or high $m$ low $n$, which one should we choose? \n",
    "\n",
    "For that we work on laws of RPM defined as\n",
    "$$\n",
    "\\text{DP}(1.0, P_0) \\quad \\text{and} \\quad \\text{DP}(2.0, P_0),\n",
    "$$\n",
    "\n",
    "where $P_0 = \\text{Uniform}(-1,1)$"
   ]
  },
  {
   "cell_type": "markdown",
   "id": "f29a1162",
   "metadata": {},
   "source": [
    "# Rejection rate function"
   ]
  },
  {
   "cell_type": "markdown",
   "id": "03382302",
   "metadata": {},
   "source": [
    "Firstly we need to have rejection rate function which receives as an argument laws of RPMS' and pair $(n, m)$, and outputes the rejection rate."
   ]
  },
  {
   "cell_type": "code",
   "execution_count": 16,
   "id": "3d1f90f1",
   "metadata": {},
   "outputs": [
    {
     "data": {
      "text/plain": [
       "distances_vs_thresholds (generic function with 1 method)"
      ]
     },
     "execution_count": 16,
     "metadata": {},
     "output_type": "execute_result"
    }
   ],
   "source": [
    "function sample_distances_thresholds(q_1::PPM, q_2::PPM, n::Int, m::Int, s::Int, θ::Float64, n_permutations::Int, \n",
    "    methods)\n",
    "    # This functions samples distances between hierarchical empirical measures and also gets thresholds for each of the distance using permutatoin approach\n",
    "    \n",
    "    # Inputs:\n",
    "        # q_1 :: Law of random probabiity measure Q^1\n",
    "        # q_2 :: Law of random probabiity measure Q^2\n",
    "        # n :: Number of rows in hierarchical sample\n",
    "        # m :: Number of columns in hierarchical sample\n",
    "        # s :: Number of distances sampled\n",
    "        # θ :: Probability level for threshold\n",
    "        # n_permutations :: Number of permutations for permutation approach\n",
    "        # methods :: Vector of distance functions to be used. For example, [ww, dlip]\n",
    "    \n",
    "    n_methods = length(methods)\n",
    "    distances = Array{Float64, 2}(undef, s, n_methods) # First dimension - generated empirical measure, second one - distance function\n",
    "\n",
    "\n",
    "    perm_thresholds = zeros(s, n_methods) # First dimension - generated empirical measure, second one - distance function(WoW or HIPM)\n",
    "\n",
    "    for i in 1:s\n",
    "        println(\"s = $i\")\n",
    "        emp_1, emp_2 = generate_emp(q_1, n, m), generate_emp(q_2, n, m) # Q^1_{n,m}, Q^2_{n,m}\n",
    "        for j in 1:n_methods\n",
    "            distances[i, j] = methods[j](emp_1, emp_2) # sample distance between generated empirical measures using j-th distance function\n",
    "        end\n",
    "        \n",
    "        # now we get threshold for each distance per each probability level θ. This is different from threshold via Rademacher complexity because here threshold\n",
    "        # depends on the generated empirical measures.\n",
    "\n",
    "        # To get threshold we first obtain approximate samples of d(Q^1_{n,m}, Q^2_{n,m}) that we call permuted_samples\n",
    "        permuted_samples = zeros(n_permutations, n_methods) # First dimension - permutation sample, second one - distance function\n",
    "        total_rows = vcat(emp_1.atoms, emp_2.atoms)\n",
    "\n",
    "        for k in 1:n_permutations\n",
    "            random_indices = randperm(2n) # indices to distribute rows to new hierarchical meausures\n",
    "\n",
    "            emp_1_permuted = emp_ppm(total_rows[random_indices[1:n],:], n, m, emp_1.a, emp_1.b) # first n random rows go to first empirical measure\n",
    "            emp_2_permuted = emp_ppm(total_rows[random_indices[n+1:end],:], n, m, emp_2.a, emp_2.b) # remaining n rows go to second empirical measure\n",
    " \n",
    "            for j in 1:n_methods\n",
    "                permuted_samples[k, j] = methods[j](emp_1_permuted, emp_2_permuted) # sample distance between permuted empirical measures using j-th distance function\n",
    "            end\n",
    "        end\n",
    "\n",
    "        # Now we compute thresholds for each distance function at fixed significance/probability level θ. Actually they are not exactly same thresholds as in theory because we do not rescale by √(n/2). \n",
    "        # But this is ok because we only need to compare distances to thresholds and rescaling does not change the comparison.\n",
    "        for j in 1:n_methods\n",
    "            perm_thresholds[i, j] = quantile(permuted_samples[:, j], 1 - θ) # thresholds for each distance function\n",
    "        end\n",
    "    end\n",
    "    \n",
    "    return distances, perm_thresholds\n",
    "end\n",
    "\n",
    "\n",
    "function distances_vs_thresholds(distances::Array{Float64, 2}, perm_thresholds::Array{Float64, 2}, θ::Float64)\n",
    "    # Given sampled distances and thresholds we compare them and get rejection rates for each distance function\n",
    "    n = size(distances, 1) # number of sampled distances\n",
    "    n_methods = size(distances, 2) # number of distance functions\n",
    "    rej_rates = zeros(n_methods) # rejection rates for each distance function\n",
    "\n",
    "    for j in 1:n_methods\n",
    "        rej_rates[j] = sum(distances[:, j] .> perm_thresholds[:, j]) / n # how often does distance exceed the threshold\n",
    "    end\n",
    "\n",
    "    return rej_rates\n",
    "end\n",
    "\n"
   ]
  },
  {
   "cell_type": "code",
   "execution_count": null,
   "id": "baa25320",
   "metadata": {},
   "outputs": [],
   "source": []
  },
  {
   "cell_type": "code",
   "execution_count": 17,
   "id": "8cf19f9c",
   "metadata": {},
   "outputs": [
    {
     "data": {
      "text/plain": [
       "rejection_rates (generic function with 1 method)"
      ]
     },
     "execution_count": 17,
     "metadata": {},
     "output_type": "execute_result"
    }
   ],
   "source": [
    "function rejection_rates(q_1::PPM, q_2::PPM, n::Int, m::Int, s::Int, θ::Float64, \n",
    "            n_permutations::Int, methods)\n",
    "    # This function computes rejection rates for each distance function (WoW and HIPM) in list methods at fixed probability level θ\n",
    "\n",
    "    # Inputs:\n",
    "        # q_1 : Law of random probabiity measure Q^1\n",
    "        # q_2 : Law of random probabiity measure Q^2\n",
    "        # n : Number of rows in hierarchical sample\n",
    "        # m : Number of columns in hierarchical sample\n",
    "        # s : Number of distances sampled\n",
    "        # θ : Probability level for threshold\n",
    "        # n_permutations : Number of permutations for permutation approach\n",
    "        # methods : Vector of distance functions to be used. For example, [ww, dlip]\n",
    "\n",
    "    println(\"Computing rejection rates for n = $n, m = $m\")\n",
    "    # First we sample distances and thresholds\n",
    "    distances, perm_thresholds = sample_distances_thresholds(q_1, q_2, n, m, s, θ, n_permutations, methods)\n",
    "\n",
    "    # Now get the rejection rates by comparing distances to thresholds\n",
    "    rej_rates = distances_vs_thresholds(distances, perm_thresholds, θ)\n",
    "\n",
    "    return rej_rates\n",
    "end"
   ]
  },
  {
   "cell_type": "markdown",
   "id": "b636b45c",
   "metadata": {},
   "source": [
    "# Convergence rates of power per n for fixed m's"
   ]
  },
  {
   "cell_type": "markdown",
   "id": "24db2c49",
   "metadata": {},
   "source": [
    "Dirichlet processes as defined above will generate hierarchical samples with different distributions as long as $m$ is larger than $2.$ If we plot power functions per $n$ for different levels of $m$, we should expect these power functions to converge to $1$ faster for higher levels of $m$. But at the same time, this faster rates of convergence also should diminish."
   ]
  },
  {
   "cell_type": "code",
   "execution_count": 18,
   "id": "4d380bee",
   "metadata": {},
   "outputs": [],
   "source": [
    "# # define two laws of random probability measures\n",
    "# α_1, α_2 = 1.0, 2.0\n",
    "# P_0 = ()->probability(\"same\") # uniform measure\n",
    "# a,b = -1.0, 1.0\n",
    "# q_1 = DP(α_1, P_0, a, b)\n",
    "# q_2 = DP(α_2, P_0, a, b)\n",
    "\n",
    "# S = 1\n",
    "# n_permutations = 1 # number of permutations for permutation approach\n",
    "\n",
    "# θ = 0.05\n",
    "# methods = [ww, dlip] # list of distance functions to be used\n",
    "# method_names = [\"WoW\", \"HIPM\"]\n",
    "\n",
    "# power(n::Int, m::Int) = rejection_rates(q_1, q_2, n, m, S, θ, n_permutations, methods) # function to compute power for fixed n and m\n"
   ]
  },
  {
   "cell_type": "code",
   "execution_count": 19,
   "id": "f5115801",
   "metadata": {},
   "outputs": [
    {
     "data": {
      "text/plain": [
       "dlip (generic function with 10 methods)"
      ]
     },
     "execution_count": 19,
     "metadata": {},
     "output_type": "execute_result"
    }
   ],
   "source": [
    "dlip"
   ]
  },
  {
   "cell_type": "code",
   "execution_count": 20,
   "id": "32ad28f9",
   "metadata": {},
   "outputs": [],
   "source": [
    "# ms = collect(2:10:22) # different m's\n",
    "# ns = vcat(5, collect(10:10:70)) # different n's\n",
    "# powers = [power(n_i, m_i) for n_i in ns, m_i in ms] # powers is a matrix where rows correspond to different n's and columns to different m's.\n",
    "#                                                   # Each entry is a vector of length(menthods) where elements correspond to power for associated method\n",
    "\n",
    "# plot_powers = [] # to store plots of per method\n",
    "# for i in 1:length(methods)\n",
    "#     plot_per_method = plot(title = \"powers for $(method_names[i]) for fixed m's \", xlabel = \"n\", ylabel = \"power\", legend = :bottomright)# This \n",
    "#                             # will store plots of powers per n per each m for i-th method\n",
    "#     for (j, m_j) in enumerate(ms)\n",
    "#         powers_per_n = [powers[k, j][i] for k in 1:length(ns)]\n",
    "#         plot!(plot_per_method, ns, powers_per_n, label = \"m = $m_j\", lw = 2, marker = :diamond)\n",
    "#     end\n",
    "#     push!(plot_powers, plot_per_method)\n",
    "# end\n",
    "\n",
    "\n",
    "# if length(methods) == 2\n",
    "#     plot(plot_powers[1], plot_powers[2], layout = (2,1))\n",
    "# else\n",
    "#     plot_powers[1]\n",
    "# end "
   ]
  },
  {
   "cell_type": "code",
   "execution_count": null,
   "id": "8149b7eb",
   "metadata": {},
   "outputs": [],
   "source": []
  },
  {
   "cell_type": "code",
   "execution_count": 21,
   "id": "ee0bb61c",
   "metadata": {},
   "outputs": [],
   "source": [
    "# plot_powers = plot(title = \"powers for fixed m = $m\", xlabel = \"n\", ylabel = \"power\", legend = :bottomright)\n",
    "# plot!(plot_powers, n, powers_hipm, label = \"HIPM\", lw = 2, marker = :circle)\n",
    "# plot!(plot_powers, n, powers_wow, label = \"WoW\", lw = 2, marker = :diamond)\n",
    "# hline!([0.05], label = \"significance level\", ls = :dash, color = :black)\n",
    "# display(plot_powers)"
   ]
  },
  {
   "cell_type": "markdown",
   "id": "545c6d96",
   "metadata": {},
   "source": [
    "# Threshold at $m$ after which convergence of power function changes (from significance level to 1)\n"
   ]
  },
  {
   "cell_type": "markdown",
   "id": "1df470a2",
   "metadata": {},
   "source": [
    "We know that if $m$ is not sufficiently large, hierarchical samples are generated from same probability measures. This will imply rejection rate to converge to chosen significance level as $n$ goes to $\\infty.$ However, as long as $m$ is sufficiently large, hierarchical samples will have different probability distributions. This will imply that power function converge to $1.$ Let us fix large $n$ and vary $m$, to detect where jump in the convergence happens.\n"
   ]
  },
  {
   "cell_type": "code",
   "execution_count": 22,
   "id": "052f1335",
   "metadata": {},
   "outputs": [
    {
     "name": "stdout",
     "output_type": "stream",
     "text": [
      "Computing rejection rates for n = 100, m = 1\n",
      "s = 1\n",
      "Computing rejection rates for n = 100, m = 2\n",
      "s = 1\n",
      "Computing rejection rates for n = 100, m = 3\n",
      "s = 1\n",
      "Computing rejection rates for n = 100, m = 4\n",
      "s = 1\n",
      "Computing rejection rates for n = 100, m = 5\n",
      "s = 1\n",
      "Computing rejection rates for n = 100, m = 6\n",
      "s = 1\n",
      "Computing rejection rates for n = 100, m = 7\n",
      "s = 1\n",
      "Computing rejection rates for n = 100, m = 8\n",
      "s = 1\n",
      "Computing rejection rates for n = 100, m = 9\n",
      "s = 1\n",
      "Computing rejection rates for n = 100, m = 10\n",
      "s = 1\n"
     ]
    },
    {
     "data": {
      "text/plain": [
       "10-element Vector{Vector{Float64}}:\n",
       " [1.0, 1.0]\n",
       " [0.0, 0.0]\n",
       " [1.0, 0.0]\n",
       " [1.0, 1.0]\n",
       " [1.0, 0.0]\n",
       " [1.0, 1.0]\n",
       " [0.0, 0.0]\n",
       " [1.0, 0.0]\n",
       " [1.0, 1.0]\n",
       " [1.0, 1.0]"
      ]
     },
     "execution_count": 22,
     "metadata": {},
     "output_type": "execute_result"
    }
   ],
   "source": [
    "# define two laws of random probability measures\n",
    "α_1, α_2 = 1.0, 2.0\n",
    "P_0 = ()->probability(\"same\") # uniform measure\n",
    "a,b = -1.0, 1.0\n",
    "q_1 = DP(α_1, P_0, a, b)\n",
    "q_2 = DP(α_2, P_0, a, b)\n",
    "\n",
    "S = 1\n",
    "n_permutations = 1 # number of permutations for permutation approach\n",
    "\n",
    "θ = 0.05\n",
    "methods = [ww, dlip] # list of distance functions to be used\n",
    "method_names = [\"WoW\", \"HIPM\"]\n",
    "\n",
    "power(n::Int, m::Int) = rejection_rates(q_1, q_2, n, m, S, θ, n_permutations, methods) # function to compute power for fixed n and m\n",
    "\n",
    "\n",
    "n = 100\n",
    "ms = collect(1:1:10)\n",
    "\n",
    "\n",
    "powers = [power(n, m_i) for m_i in ms]\n",
    "\n",
    "\n",
    "\n",
    "# powers_hipm = [p[2] for p in powers]\n",
    "# powers_wow = [p[1] for p in powers]\n",
    "# plot_powers_m = plot(title = \"powers for fixed n = $n\", xlabel = \"m\", ylabel = \"power\", legend = :bottomright)\n",
    "# plot!(plot_powers_m, m, powers_hipm, label = \"HIPM\", lw = 2, marker = :circle)\n",
    "# plot!(plot_powers_m, m, powers_wow, label = \"WoW\", lw = 2, marker = :diamond)\n",
    "# display(plot_powers_m)"
   ]
  },
  {
   "cell_type": "markdown",
   "id": "9abaed68",
   "metadata": {},
   "source": [
    "# Fixed budget"
   ]
  },
  {
   "cell_type": "markdown",
   "id": "48c818a8",
   "metadata": {},
   "source": [
    "Suppose that the budget is $1000$, i.e. $n + m = 1000.$ How should we choose $n, m$?\n",
    "\n",
    "We can try $ n = d , m = 1000 = d $ for $d = 10, 100, 200, 300, 400, 500, 600, 700, 800, 900, 1000$"
   ]
  },
  {
   "cell_type": "code",
   "execution_count": 23,
   "id": "9140d4b6",
   "metadata": {},
   "outputs": [
    {
     "data": {
      "text/plain": [
       "rej_rates (generic function with 1 method)"
      ]
     },
     "execution_count": 23,
     "metadata": {},
     "output_type": "execute_result"
    }
   ],
   "source": [
    "# define two laws of random probability measures\n",
    "α_1, α_2 = 1.0, 2.0\n",
    "P_0 = ()->probability(\"same\") # uniform measure\n",
    "a,b = -1.0, 1.0\n",
    "q_1 = DP(α_1, P_0, a, b)\n",
    "q_2 = DP(α_2, P_0, a, b)\n",
    "n, m = 5, 5 # number of rows and columns in hierarchical sample\n",
    "\n",
    "\n",
    "S = 30\n",
    "n_permutations = 30 # number of permutations for permutation approach\n",
    "\n",
    "θ = 0.05\n",
    "\n",
    "methods = [ww, dlip] # list of distance functions to be used\n",
    "method_names = [\"WoW\", \"HIPM\"]\n",
    "\n",
    "rej_rates(n, m) = rejection_rates(q_1, q_2, n, m, S, θ, n_permutations, methods)\n",
    "#println(\"Rejection rates for WoW and HIPM are $(rej_rates(n, m))\")"
   ]
  },
  {
   "cell_type": "code",
   "execution_count": 24,
   "id": "844f1889",
   "metadata": {},
   "outputs": [
    {
     "name": "stdout",
     "output_type": "stream",
     "text": [
      "Computing rejection rates for n = 10, m = 190\n",
      "s = 1\n",
      "s = 2\n",
      "s = 3\n",
      "s = 4\n",
      "s = 5\n",
      "s = 6\n",
      "s = 7\n",
      "s = 8\n",
      "s = 9\n",
      "s = 10\n",
      "s = 11\n",
      "s = 12\n",
      "s = 13\n",
      "s = 14\n",
      "s = 15\n",
      "s = 16\n",
      "s = 17\n",
      "s = 18\n",
      "s = 19\n",
      "s = 20\n",
      "s = 21\n",
      "s = 22\n",
      "s = 23\n",
      "s = 24\n",
      "s = 25\n",
      "s = 26\n",
      "s = 27\n",
      "s = 28\n",
      "s = 29\n",
      "s = 30\n",
      "Computing rejection rates for n = 25, m = 175\n",
      "s = 1\n",
      "s = 2\n",
      "s = 3\n",
      "s = 4\n",
      "s = 5\n",
      "s = 6\n",
      "s = 7\n",
      "s = 8\n",
      "s = 9\n",
      "s = 10\n",
      "s = 11\n",
      "s = 12\n",
      "s = 13\n",
      "s = 14\n",
      "s = 15\n",
      "s = 16\n",
      "s = 17\n",
      "s = 18\n",
      "s = 19\n",
      "s = 20\n",
      "s = 21\n",
      "s = 22\n",
      "s = 23\n",
      "s = 24\n",
      "s = 25\n",
      "s = 26\n",
      "s = 27\n",
      "s = 28\n",
      "s = 29\n",
      "s = 30\n",
      "Computing rejection rates for n = 75, m = 125\n",
      "s = 1\n",
      "s = 2\n",
      "s = 3\n",
      "s = 4\n",
      "s = 5\n",
      "s = 6\n",
      "s = 7\n",
      "s = 8\n",
      "s = 9\n",
      "s = 10\n",
      "s = 11\n",
      "s = 12\n",
      "s = 13\n",
      "s = 14\n",
      "s = 15\n",
      "s = 16\n",
      "s = 17\n",
      "s = 18\n",
      "s = 19\n",
      "s = 20\n",
      "s = 21\n",
      "s = 22\n",
      "s = 23\n",
      "s = 24\n",
      "s = 25\n",
      "s = 26\n",
      "s = 27\n",
      "s = 28\n",
      "s = 29\n",
      "s = 30\n",
      "Computing rejection rates for n = 125, m = 75\n",
      "s = 1\n",
      "s = 2\n",
      "s = 3\n",
      "s = 4\n",
      "s = 5\n",
      "s = 6\n",
      "s = 7\n",
      "s = 8\n",
      "s = 9\n",
      "s = 10\n",
      "s = 11\n",
      "s = 12\n",
      "s = 13\n",
      "s = 14\n",
      "s = 15\n",
      "s = 16\n",
      "s = 17\n",
      "s = 18\n",
      "s = 19\n",
      "s = 20\n",
      "s = 21\n",
      "s = 22\n",
      "s = 23\n",
      "s = 24\n",
      "s = 25\n",
      "s = 26\n",
      "s = 27\n",
      "s = 28\n",
      "s = 29\n",
      "s = 30\n",
      "Computing rejection rates for n = 175, m = 25\n",
      "s = 1\n",
      "s = 2\n",
      "s = 3\n",
      "s = 4\n",
      "s = 5\n",
      "s = 6\n",
      "s = 7\n",
      "s = 8\n",
      "s = 9\n",
      "s = 10\n",
      "s = 11\n",
      "s = 12\n",
      "s = 13\n",
      "s = 14\n",
      "s = 15\n",
      "s = 16\n",
      "s = 17\n",
      "s = 18\n",
      "s = 19\n",
      "s = 20\n",
      "s = 21\n",
      "s = 22\n",
      "s = 23\n",
      "s = 24\n",
      "s = 25\n",
      "s = 26\n",
      "s = 27\n",
      "s = 28\n",
      "s = 29\n",
      "s = 30\n"
     ]
    },
    {
     "data": {
      "text/plain": [
       "5-element Vector{Vector{Float64}}:\n",
       " [0.06666666666666667, 0.06666666666666667]\n",
       " [0.13333333333333333, 0.13333333333333333]\n",
       " [0.5333333333333333, 0.23333333333333334]\n",
       " [0.7, 0.3]\n",
       " [0.7333333333333333, 0.3333333333333333]"
      ]
     },
     "execution_count": 24,
     "metadata": {},
     "output_type": "execute_result"
    }
   ],
   "source": [
    "max_budget = 200\n",
    "d = vcat([10],collect(25:50:max_budget))\n",
    "powers = [rej_rates(d, max_budget - d) for d in d]"
   ]
  },
  {
   "cell_type": "code",
   "execution_count": 25,
   "id": "3d016a6c",
   "metadata": {},
   "outputs": [],
   "source": [
    "# powers"
   ]
  },
  {
   "cell_type": "code",
   "execution_count": 26,
   "id": "55431fe1",
   "metadata": {},
   "outputs": [
    {
     "data": {
      "image/png": "[encoded data removed]",
      "image/svg+xml": [
       "<?xml version=\"1.0\" encoding=\"utf-8\"?>\n",
       "<svg xmlns=\"http://www.w3.org/2000/svg\" xmlns:xlink=\"http://www.w3.org/1999/xlink\" width=\"600\" height=\"400\" viewBox=\"0 0 2400 1600\">\n",
       "<defs>\n",
       "  <clipPath id=\"clip590\">\n",
       "    <rect x=\"0\" y=\"0\" width=\"2400\" height=\"1600\"/>\n",
       "  </clipPath>\n",
       "</defs>\n",
       "<path clip-path=\"url(#clip590)\" d=\"M0 1600 L2400 1600 L2400 0 L0 0  Z\" fill=\"#ffffff\" fill-rule=\"evenodd\" fill-opacity=\"1\"/>\n",
       "<defs>\n",
       "  <clipPath id=\"clip591\">\n",
       "    <rect x=\"480\" y=\"0\" width=\"1681\" height=\"1600\"/>\n",
       "  </clipPath>\n",
       "</defs>\n",
       "<path clip-path=\"url(#clip590)\" d=\"M219.866 1423.18 L2352.76 1423.18 L2352.76 123.472 L219.866 123.472  Z\" fill=\"#ffffff\" fill-rule=\"evenodd\" fill-opacity=\"1\"/>\n",
       "<defs>\n",
       "  <clipPath id=\"clip592\">\n",
       "    <rect x=\"219\" y=\"123\" width=\"2134\" height=\"1301\"/>\n",
       "  </clipPath>\n",
       "</defs>\n",
       "<polyline clip-path=\"url(#clip592)\" style=\"stroke:#000000; stroke-linecap:round; stroke-linejoin:round; stroke-width:2; stroke-opacity:0.1; fill:none\" points=\"524.129,1423.18 524.129,123.472 \"/>\n",
       "<polyline clip-path=\"url(#clip592)\" style=\"stroke:#000000; stroke-linecap:round; stroke-linejoin:round; stroke-width:2; stroke-opacity:0.1; fill:none\" points=\"889.977,1423.18 889.977,123.472 \"/>\n",
       "<polyline clip-path=\"url(#clip592)\" style=\"stroke:#000000; stroke-linecap:round; stroke-linejoin:round; stroke-width:2; stroke-opacity:0.1; fill:none\" points=\"1255.82,1423.18 1255.82,123.472 \"/>\n",
       "<polyline clip-path=\"url(#clip592)\" style=\"stroke:#000000; stroke-linecap:round; stroke-linejoin:round; stroke-width:2; stroke-opacity:0.1; fill:none\" points=\"1621.67,1423.18 1621.67,123.472 \"/>\n",
       "<polyline clip-path=\"url(#clip592)\" style=\"stroke:#000000; stroke-linecap:round; stroke-linejoin:round; stroke-width:2; stroke-opacity:0.1; fill:none\" points=\"1987.52,1423.18 1987.52,123.472 \"/>\n",
       "<polyline clip-path=\"url(#clip592)\" style=\"stroke:#000000; stroke-linecap:round; stroke-linejoin:round; stroke-width:2; stroke-opacity:0.1; fill:none\" points=\"219.866,1325.09 2352.76,1325.09 \"/>\n",
       "<polyline clip-path=\"url(#clip592)\" style=\"stroke:#000000; stroke-linecap:round; stroke-linejoin:round; stroke-width:2; stroke-opacity:0.1; fill:none\" points=\"219.866,1141.17 2352.76,1141.17 \"/>\n",
       "<polyline clip-path=\"url(#clip592)\" style=\"stroke:#000000; stroke-linecap:round; stroke-linejoin:round; stroke-width:2; stroke-opacity:0.1; fill:none\" points=\"219.866,957.247 2352.76,957.247 \"/>\n",
       "<polyline clip-path=\"url(#clip592)\" style=\"stroke:#000000; stroke-linecap:round; stroke-linejoin:round; stroke-width:2; stroke-opacity:0.1; fill:none\" points=\"219.866,773.326 2352.76,773.326 \"/>\n",
       "<polyline clip-path=\"url(#clip592)\" style=\"stroke:#000000; stroke-linecap:round; stroke-linejoin:round; stroke-width:2; stroke-opacity:0.1; fill:none\" points=\"219.866,589.405 2352.76,589.405 \"/>\n",
       "<polyline clip-path=\"url(#clip592)\" style=\"stroke:#000000; stroke-linecap:round; stroke-linejoin:round; stroke-width:2; stroke-opacity:0.1; fill:none\" points=\"219.866,405.484 2352.76,405.484 \"/>\n",
       "<polyline clip-path=\"url(#clip592)\" style=\"stroke:#000000; stroke-linecap:round; stroke-linejoin:round; stroke-width:2; stroke-opacity:0.1; fill:none\" points=\"219.866,221.563 2352.76,221.563 \"/>\n",
       "<polyline clip-path=\"url(#clip590)\" style=\"stroke:#000000; stroke-linecap:round; stroke-linejoin:round; stroke-width:4; stroke-opacity:1; fill:none\" points=\"219.866,1423.18 2352.76,1423.18 \"/>\n",
       "<polyline clip-path=\"url(#clip590)\" style=\"stroke:#000000; stroke-linecap:round; stroke-linejoin:round; stroke-width:4; stroke-opacity:1; fill:none\" points=\"524.129,1423.18 524.129,1404.28 \"/>\n",
       "<polyline clip-path=\"url(#clip590)\" style=\"stroke:#000000; stroke-linecap:round; stroke-linejoin:round; stroke-width:4; stroke-opacity:1; fill:none\" points=\"889.977,1423.18 889.977,1404.28 \"/>\n",
       "<polyline clip-path=\"url(#clip590)\" style=\"stroke:#000000; stroke-linecap:round; stroke-linejoin:round; stroke-width:4; stroke-opacity:1; fill:none\" points=\"1255.82,1423.18 1255.82,1404.28 \"/>\n",
       "<polyline clip-path=\"url(#clip590)\" style=\"stroke:#000000; stroke-linecap:round; stroke-linejoin:round; stroke-width:4; stroke-opacity:1; fill:none\" points=\"1621.67,1423.18 1621.67,1404.28 \"/>\n",
       "<polyline clip-path=\"url(#clip590)\" style=\"stroke:#000000; stroke-linecap:round; stroke-linejoin:round; stroke-width:4; stroke-opacity:1; fill:none\" points=\"1987.52,1423.18 1987.52,1404.28 \"/>\n",
       "<path clip-path=\"url(#clip590)\" d=\"M512.972 1466.95 Q516.328 1467.66 518.203 1469.93 Q520.101 1472.2 520.101 1475.53 Q520.101 1480.65 516.583 1483.45 Q513.064 1486.25 506.583 1486.25 Q504.407 1486.25 502.092 1485.81 Q499.801 1485.39 497.347 1484.54 L497.347 1480.02 Q499.291 1481.16 501.606 1481.74 Q503.921 1482.32 506.444 1482.32 Q510.842 1482.32 513.134 1480.58 Q515.449 1478.84 515.449 1475.53 Q515.449 1472.48 513.296 1470.77 Q511.166 1469.03 507.347 1469.03 L503.319 1469.03 L503.319 1465.19 L507.532 1465.19 Q510.981 1465.19 512.81 1463.82 Q514.639 1462.43 514.639 1459.84 Q514.639 1457.18 512.74 1455.77 Q510.865 1454.33 507.347 1454.33 Q505.426 1454.33 503.227 1454.75 Q501.028 1455.16 498.389 1456.04 L498.389 1451.88 Q501.051 1451.14 503.365 1450.77 Q505.703 1450.39 507.764 1450.39 Q513.088 1450.39 516.189 1452.83 Q519.291 1455.23 519.291 1459.35 Q519.291 1462.22 517.648 1464.21 Q516.004 1466.18 512.972 1466.95 Z\" fill=\"#000000\" fill-rule=\"nonzero\" fill-opacity=\"1\" /><path clip-path=\"url(#clip590)\" d=\"M538.967 1454.1 Q535.356 1454.1 533.527 1457.66 Q531.722 1461.2 531.722 1468.33 Q531.722 1475.44 533.527 1479.01 Q535.356 1482.55 538.967 1482.55 Q542.601 1482.55 544.407 1479.01 Q546.236 1475.44 546.236 1468.33 Q546.236 1461.2 544.407 1457.66 Q542.601 1454.1 538.967 1454.1 M538.967 1450.39 Q544.777 1450.39 547.833 1455 Q550.912 1459.58 550.912 1468.33 Q550.912 1477.06 547.833 1481.67 Q544.777 1486.25 538.967 1486.25 Q533.157 1486.25 530.078 1481.67 Q527.023 1477.06 527.023 1468.33 Q527.023 1459.58 530.078 1455 Q533.157 1450.39 538.967 1450.39 Z\" fill=\"#000000\" fill-rule=\"nonzero\" fill-opacity=\"1\" /><path clip-path=\"url(#clip590)\" d=\"M875.382 1466.44 Q872.234 1466.44 870.382 1468.59 Q868.553 1470.74 868.553 1474.49 Q868.553 1478.22 870.382 1480.39 Q872.234 1482.55 875.382 1482.55 Q878.53 1482.55 880.359 1480.39 Q882.21 1478.22 882.21 1474.49 Q882.21 1470.74 880.359 1468.59 Q878.53 1466.44 875.382 1466.44 M884.664 1451.78 L884.664 1456.04 Q882.905 1455.21 881.099 1454.77 Q879.317 1454.33 877.558 1454.33 Q872.928 1454.33 870.474 1457.45 Q868.044 1460.58 867.697 1466.9 Q869.062 1464.89 871.122 1463.82 Q873.183 1462.73 875.659 1462.73 Q880.868 1462.73 883.877 1465.9 Q886.909 1469.05 886.909 1474.49 Q886.909 1479.82 883.761 1483.03 Q880.613 1486.25 875.382 1486.25 Q869.386 1486.25 866.215 1481.67 Q863.044 1477.06 863.044 1468.33 Q863.044 1460.14 866.933 1455.28 Q870.822 1450.39 877.372 1450.39 Q879.132 1450.39 880.914 1450.74 Q882.72 1451.09 884.664 1451.78 Z\" fill=\"#000000\" fill-rule=\"nonzero\" fill-opacity=\"1\" /><path clip-path=\"url(#clip590)\" d=\"M904.965 1454.1 Q901.354 1454.1 899.525 1457.66 Q897.72 1461.2 897.72 1468.33 Q897.72 1475.44 899.525 1479.01 Q901.354 1482.55 904.965 1482.55 Q908.599 1482.55 910.405 1479.01 Q912.233 1475.44 912.233 1468.33 Q912.233 1461.2 910.405 1457.66 Q908.599 1454.1 904.965 1454.1 M904.965 1450.39 Q910.775 1450.39 913.831 1455 Q916.909 1459.58 916.909 1468.33 Q916.909 1477.06 913.831 1481.67 Q910.775 1486.25 904.965 1486.25 Q899.155 1486.25 896.076 1481.67 Q893.02 1477.06 893.02 1468.33 Q893.02 1459.58 896.076 1455 Q899.155 1450.39 904.965 1450.39 Z\" fill=\"#000000\" fill-rule=\"nonzero\" fill-opacity=\"1\" /><path clip-path=\"url(#clip590)\" d=\"M1230.95 1484.86 L1230.95 1480.6 Q1232.71 1481.44 1234.52 1481.88 Q1236.32 1482.32 1238.06 1482.32 Q1242.69 1482.32 1245.12 1479.21 Q1247.57 1476.09 1247.92 1469.75 Q1246.58 1471.74 1244.52 1472.8 Q1242.46 1473.87 1239.96 1473.87 Q1234.77 1473.87 1231.74 1470.74 Q1228.73 1467.59 1228.73 1462.15 Q1228.73 1456.83 1231.88 1453.61 Q1235.03 1450.39 1240.26 1450.39 Q1246.25 1450.39 1249.4 1455 Q1252.57 1459.58 1252.57 1468.33 Q1252.57 1476.51 1248.68 1481.39 Q1244.82 1486.25 1238.27 1486.25 Q1236.51 1486.25 1234.7 1485.9 Q1232.9 1485.56 1230.95 1484.86 M1240.26 1470.21 Q1243.4 1470.21 1245.23 1468.06 Q1247.09 1465.9 1247.09 1462.15 Q1247.09 1458.43 1245.23 1456.27 Q1243.4 1454.1 1240.26 1454.1 Q1237.11 1454.1 1235.26 1456.27 Q1233.43 1458.43 1233.43 1462.15 Q1233.43 1465.9 1235.26 1468.06 Q1237.11 1470.21 1240.26 1470.21 Z\" fill=\"#000000\" fill-rule=\"nonzero\" fill-opacity=\"1\" /><path clip-path=\"url(#clip590)\" d=\"M1270.97 1454.1 Q1267.36 1454.1 1265.53 1457.66 Q1263.73 1461.2 1263.73 1468.33 Q1263.73 1475.44 1265.53 1479.01 Q1267.36 1482.55 1270.97 1482.55 Q1274.61 1482.55 1276.41 1479.01 Q1278.24 1475.44 1278.24 1468.33 Q1278.24 1461.2 1276.41 1457.66 Q1274.61 1454.1 1270.97 1454.1 M1270.97 1450.39 Q1276.78 1450.39 1279.84 1455 Q1282.92 1459.58 1282.92 1468.33 Q1282.92 1477.06 1279.84 1481.67 Q1276.78 1486.25 1270.97 1486.25 Q1265.16 1486.25 1262.09 1481.67 Q1259.03 1477.06 1259.03 1468.33 Q1259.03 1459.58 1262.09 1455 Q1265.16 1450.39 1270.97 1450.39 Z\" fill=\"#000000\" fill-rule=\"nonzero\" fill-opacity=\"1\" /><path clip-path=\"url(#clip590)\" d=\"M1581.28 1481.64 L1588.92 1481.64 L1588.92 1455.28 L1580.61 1456.95 L1580.61 1452.69 L1588.87 1451.02 L1593.55 1451.02 L1593.55 1481.64 L1601.19 1481.64 L1601.19 1485.58 L1581.28 1485.58 L1581.28 1481.64 Z\" fill=\"#000000\" fill-rule=\"nonzero\" fill-opacity=\"1\" /><path clip-path=\"url(#clip590)\" d=\"M1614.66 1481.64 L1630.98 1481.64 L1630.98 1485.58 L1609.03 1485.58 L1609.03 1481.64 Q1611.69 1478.89 1616.28 1474.26 Q1620.88 1469.61 1622.06 1468.27 Q1624.31 1465.74 1625.19 1464.01 Q1626.09 1462.25 1626.09 1460.56 Q1626.09 1457.8 1624.15 1456.07 Q1622.23 1454.33 1619.12 1454.33 Q1616.93 1454.33 1614.47 1455.09 Q1612.04 1455.86 1609.26 1457.41 L1609.26 1452.69 Q1612.09 1451.55 1614.54 1450.97 Q1617 1450.39 1619.03 1450.39 Q1624.4 1450.39 1627.6 1453.08 Q1630.79 1455.77 1630.79 1460.26 Q1630.79 1462.39 1629.98 1464.31 Q1629.19 1466.2 1627.09 1468.8 Q1626.51 1469.47 1623.41 1472.69 Q1620.31 1475.88 1614.66 1481.64 Z\" fill=\"#000000\" fill-rule=\"nonzero\" fill-opacity=\"1\" /><path clip-path=\"url(#clip590)\" d=\"M1650.79 1454.1 Q1647.18 1454.1 1645.35 1457.66 Q1643.55 1461.2 1643.55 1468.33 Q1643.55 1475.44 1645.35 1479.01 Q1647.18 1482.55 1650.79 1482.55 Q1654.43 1482.55 1656.23 1479.01 Q1658.06 1475.44 1658.06 1468.33 Q1658.06 1461.2 1656.23 1457.66 Q1654.43 1454.1 1650.79 1454.1 M1650.79 1450.39 Q1656.6 1450.39 1659.66 1455 Q1662.74 1459.58 1662.74 1468.33 Q1662.74 1477.06 1659.66 1481.67 Q1656.6 1486.25 1650.79 1486.25 Q1644.98 1486.25 1641.9 1481.67 Q1638.85 1477.06 1638.85 1468.33 Q1638.85 1459.58 1641.9 1455 Q1644.98 1450.39 1650.79 1450.39 Z\" fill=\"#000000\" fill-rule=\"nonzero\" fill-opacity=\"1\" /><path clip-path=\"url(#clip590)\" d=\"M1947.13 1481.64 L1954.76 1481.64 L1954.76 1455.28 L1946.45 1456.95 L1946.45 1452.69 L1954.72 1451.02 L1959.39 1451.02 L1959.39 1481.64 L1967.03 1481.64 L1967.03 1485.58 L1947.13 1485.58 L1947.13 1481.64 Z\" fill=\"#000000\" fill-rule=\"nonzero\" fill-opacity=\"1\" /><path clip-path=\"url(#clip590)\" d=\"M1976.52 1451.02 L1994.88 1451.02 L1994.88 1454.96 L1980.81 1454.96 L1980.81 1463.43 Q1981.82 1463.08 1982.84 1462.92 Q1983.86 1462.73 1984.88 1462.73 Q1990.67 1462.73 1994.05 1465.9 Q1997.43 1469.08 1997.43 1474.49 Q1997.43 1480.07 1993.95 1483.17 Q1990.48 1486.25 1984.16 1486.25 Q1981.99 1486.25 1979.72 1485.88 Q1977.47 1485.51 1975.06 1484.77 L1975.06 1480.07 Q1977.15 1481.2 1979.37 1481.76 Q1981.59 1482.32 1984.07 1482.32 Q1988.07 1482.32 1990.41 1480.21 Q1992.75 1478.1 1992.75 1474.49 Q1992.75 1470.88 1990.41 1468.77 Q1988.07 1466.67 1984.07 1466.67 Q1982.19 1466.67 1980.32 1467.08 Q1978.47 1467.5 1976.52 1468.38 L1976.52 1451.02 Z\" fill=\"#000000\" fill-rule=\"nonzero\" fill-opacity=\"1\" /><path clip-path=\"url(#clip590)\" d=\"M2016.64 1454.1 Q2013.03 1454.1 2011.2 1457.66 Q2009.39 1461.2 2009.39 1468.33 Q2009.39 1475.44 2011.2 1479.01 Q2013.03 1482.55 2016.64 1482.55 Q2020.27 1482.55 2022.08 1479.01 Q2023.91 1475.44 2023.91 1468.33 Q2023.91 1461.2 2022.08 1457.66 Q2020.27 1454.1 2016.64 1454.1 M2016.64 1450.39 Q2022.45 1450.39 2025.5 1455 Q2028.58 1459.58 2028.58 1468.33 Q2028.58 1477.06 2025.5 1481.67 Q2022.45 1486.25 2016.64 1486.25 Q2010.83 1486.25 2007.75 1481.67 Q2004.69 1477.06 2004.69 1468.33 Q2004.69 1459.58 2007.75 1455 Q2010.83 1450.39 2016.64 1450.39 Z\" fill=\"#000000\" fill-rule=\"nonzero\" fill-opacity=\"1\" /><path clip-path=\"url(#clip590)\" d=\"M1301.24 1546.53 L1301.24 1568.04 L1295.38 1568.04 L1295.38 1546.72 Q1295.38 1541.66 1293.41 1539.14 Q1291.44 1536.63 1287.49 1536.63 Q1282.75 1536.63 1280.01 1539.65 Q1277.27 1542.68 1277.27 1547.9 L1277.27 1568.04 L1271.38 1568.04 L1271.38 1532.4 L1277.27 1532.4 L1277.27 1537.93 Q1279.37 1534.72 1282.21 1533.13 Q1285.07 1531.54 1288.79 1531.54 Q1294.94 1531.54 1298.09 1535.36 Q1301.24 1539.14 1301.24 1546.53 Z\" fill=\"#000000\" fill-rule=\"nonzero\" fill-opacity=\"1\" /><polyline clip-path=\"url(#clip590)\" style=\"stroke:#000000; stroke-linecap:round; stroke-linejoin:round; stroke-width:4; stroke-opacity:1; fill:none\" points=\"219.866,1423.18 219.866,123.472 \"/>\n",
       "<polyline clip-path=\"url(#clip590)\" style=\"stroke:#000000; stroke-linecap:round; stroke-linejoin:round; stroke-width:4; stroke-opacity:1; fill:none\" points=\"219.866,1325.09 238.764,1325.09 \"/>\n",
       "<polyline clip-path=\"url(#clip590)\" style=\"stroke:#000000; stroke-linecap:round; stroke-linejoin:round; stroke-width:4; stroke-opacity:1; fill:none\" points=\"219.866,1141.17 238.764,1141.17 \"/>\n",
       "<polyline clip-path=\"url(#clip590)\" style=\"stroke:#000000; stroke-linecap:round; stroke-linejoin:round; stroke-width:4; stroke-opacity:1; fill:none\" points=\"219.866,957.247 238.764,957.247 \"/>\n",
       "<polyline clip-path=\"url(#clip590)\" style=\"stroke:#000000; stroke-linecap:round; stroke-linejoin:round; stroke-width:4; stroke-opacity:1; fill:none\" points=\"219.866,773.326 238.764,773.326 \"/>\n",
       "<polyline clip-path=\"url(#clip590)\" style=\"stroke:#000000; stroke-linecap:round; stroke-linejoin:round; stroke-width:4; stroke-opacity:1; fill:none\" points=\"219.866,589.405 238.764,589.405 \"/>\n",
       "<polyline clip-path=\"url(#clip590)\" style=\"stroke:#000000; stroke-linecap:round; stroke-linejoin:round; stroke-width:4; stroke-opacity:1; fill:none\" points=\"219.866,405.484 238.764,405.484 \"/>\n",
       "<polyline clip-path=\"url(#clip590)\" style=\"stroke:#000000; stroke-linecap:round; stroke-linejoin:round; stroke-width:4; stroke-opacity:1; fill:none\" points=\"219.866,221.563 238.764,221.563 \"/>\n",
       "<path clip-path=\"url(#clip590)\" d=\"M127.917 1310.89 Q124.306 1310.89 122.478 1314.45 Q120.672 1317.99 120.672 1325.12 Q120.672 1332.23 122.478 1335.79 Q124.306 1339.34 127.917 1339.34 Q131.552 1339.34 133.357 1335.79 Q135.186 1332.23 135.186 1325.12 Q135.186 1317.99 133.357 1314.45 Q131.552 1310.89 127.917 1310.89 M127.917 1307.18 Q133.728 1307.18 136.783 1311.79 Q139.862 1316.37 139.862 1325.12 Q139.862 1333.85 136.783 1338.46 Q133.728 1343.04 127.917 1343.04 Q122.107 1343.04 119.029 1338.46 Q115.973 1333.85 115.973 1325.12 Q115.973 1316.37 119.029 1311.79 Q122.107 1307.18 127.917 1307.18 Z\" fill=\"#000000\" fill-rule=\"nonzero\" fill-opacity=\"1\" /><path clip-path=\"url(#clip590)\" d=\"M148.079 1336.49 L152.964 1336.49 L152.964 1342.37 L148.079 1342.37 L148.079 1336.49 Z\" fill=\"#000000\" fill-rule=\"nonzero\" fill-opacity=\"1\" /><path clip-path=\"url(#clip590)\" d=\"M163.959 1338.43 L171.598 1338.43 L171.598 1312.07 L163.288 1313.73 L163.288 1309.48 L171.552 1307.81 L176.227 1307.81 L176.227 1338.43 L183.866 1338.43 L183.866 1342.37 L163.959 1342.37 L163.959 1338.43 Z\" fill=\"#000000\" fill-rule=\"nonzero\" fill-opacity=\"1\" /><path clip-path=\"url(#clip590)\" d=\"M128.288 1126.97 Q124.677 1126.97 122.848 1130.53 Q121.043 1134.07 121.043 1141.2 Q121.043 1148.31 122.848 1151.87 Q124.677 1155.42 128.288 1155.42 Q131.922 1155.42 133.728 1151.87 Q135.556 1148.31 135.556 1141.2 Q135.556 1134.07 133.728 1130.53 Q131.922 1126.97 128.288 1126.97 M128.288 1123.26 Q134.098 1123.26 137.154 1127.87 Q140.232 1132.45 140.232 1141.2 Q140.232 1149.93 137.154 1154.54 Q134.098 1159.12 128.288 1159.12 Q122.478 1159.12 119.399 1154.54 Q116.343 1149.93 116.343 1141.2 Q116.343 1132.45 119.399 1127.87 Q122.478 1123.26 128.288 1123.26 Z\" fill=\"#000000\" fill-rule=\"nonzero\" fill-opacity=\"1\" /><path clip-path=\"url(#clip590)\" d=\"M148.45 1152.57 L153.334 1152.57 L153.334 1158.45 L148.45 1158.45 L148.45 1152.57 Z\" fill=\"#000000\" fill-rule=\"nonzero\" fill-opacity=\"1\" /><path clip-path=\"url(#clip590)\" d=\"M167.547 1154.51 L183.866 1154.51 L183.866 1158.45 L161.922 1158.45 L161.922 1154.51 Q164.584 1151.76 169.167 1147.13 Q173.774 1142.48 174.954 1141.13 Q177.2 1138.61 178.079 1136.87 Q178.982 1135.11 178.982 1133.42 Q178.982 1130.67 177.038 1128.93 Q175.116 1127.2 172.014 1127.2 Q169.815 1127.2 167.362 1127.96 Q164.931 1128.73 162.153 1130.28 L162.153 1125.55 Q164.977 1124.42 167.431 1123.84 Q169.885 1123.26 171.922 1123.26 Q177.292 1123.26 180.487 1125.95 Q183.681 1128.63 183.681 1133.12 Q183.681 1135.25 182.871 1137.17 Q182.084 1139.07 179.977 1141.67 Q179.399 1142.34 176.297 1145.55 Q173.195 1148.75 167.547 1154.51 Z\" fill=\"#000000\" fill-rule=\"nonzero\" fill-opacity=\"1\" /><path clip-path=\"url(#clip590)\" d=\"M127.339 943.046 Q123.728 943.046 121.899 946.61 Q120.093 950.152 120.093 957.282 Q120.093 964.388 121.899 967.953 Q123.728 971.494 127.339 971.494 Q130.973 971.494 132.779 967.953 Q134.607 964.388 134.607 957.282 Q134.607 950.152 132.779 946.61 Q130.973 943.046 127.339 943.046 M127.339 939.342 Q133.149 939.342 136.204 943.948 Q139.283 948.532 139.283 957.282 Q139.283 966.008 136.204 970.615 Q133.149 975.198 127.339 975.198 Q121.529 975.198 118.45 970.615 Q115.394 966.008 115.394 957.282 Q115.394 948.532 118.45 943.948 Q121.529 939.342 127.339 939.342 Z\" fill=\"#000000\" fill-rule=\"nonzero\" fill-opacity=\"1\" /><path clip-path=\"url(#clip590)\" d=\"M147.501 968.647 L152.385 968.647 L152.385 974.527 L147.501 974.527 L147.501 968.647 Z\" fill=\"#000000\" fill-rule=\"nonzero\" fill-opacity=\"1\" /><path clip-path=\"url(#clip590)\" d=\"M176.737 955.893 Q180.093 956.61 181.968 958.879 Q183.866 961.147 183.866 964.481 Q183.866 969.596 180.348 972.397 Q176.829 975.198 170.348 975.198 Q168.172 975.198 165.857 974.758 Q163.565 974.342 161.112 973.485 L161.112 968.971 Q163.056 970.106 165.371 970.684 Q167.686 971.263 170.209 971.263 Q174.607 971.263 176.899 969.527 Q179.214 967.791 179.214 964.481 Q179.214 961.425 177.061 959.712 Q174.931 957.976 171.112 957.976 L167.084 957.976 L167.084 954.133 L171.297 954.133 Q174.746 954.133 176.575 952.768 Q178.403 951.379 178.403 948.786 Q178.403 946.124 176.505 944.712 Q174.63 943.277 171.112 943.277 Q169.19 943.277 166.991 943.694 Q164.792 944.11 162.153 944.99 L162.153 940.823 Q164.815 940.083 167.13 939.712 Q169.468 939.342 171.528 939.342 Q176.852 939.342 179.954 941.772 Q183.056 944.18 183.056 948.3 Q183.056 951.171 181.413 953.161 Q179.769 955.129 176.737 955.893 Z\" fill=\"#000000\" fill-rule=\"nonzero\" fill-opacity=\"1\" /><path clip-path=\"url(#clip590)\" d=\"M126.205 759.125 Q122.593 759.125 120.765 762.689 Q118.959 766.231 118.959 773.361 Q118.959 780.467 120.765 784.032 Q122.593 787.574 126.205 787.574 Q129.839 787.574 131.644 784.032 Q133.473 780.467 133.473 773.361 Q133.473 766.231 131.644 762.689 Q129.839 759.125 126.205 759.125 M126.205 755.421 Q132.015 755.421 135.07 760.027 Q138.149 764.611 138.149 773.361 Q138.149 782.088 135.07 786.694 Q132.015 791.277 126.205 791.277 Q120.394 791.277 117.316 786.694 Q114.26 782.088 114.26 773.361 Q114.26 764.611 117.316 760.027 Q120.394 755.421 126.205 755.421 Z\" fill=\"#000000\" fill-rule=\"nonzero\" fill-opacity=\"1\" /><path clip-path=\"url(#clip590)\" d=\"M146.366 784.726 L151.251 784.726 L151.251 790.606 L146.366 790.606 L146.366 784.726 Z\" fill=\"#000000\" fill-rule=\"nonzero\" fill-opacity=\"1\" /><path clip-path=\"url(#clip590)\" d=\"M174.283 760.12 L162.477 778.569 L174.283 778.569 L174.283 760.12 M173.056 756.046 L178.936 756.046 L178.936 778.569 L183.866 778.569 L183.866 782.458 L178.936 782.458 L178.936 790.606 L174.283 790.606 L174.283 782.458 L158.681 782.458 L158.681 777.944 L173.056 756.046 Z\" fill=\"#000000\" fill-rule=\"nonzero\" fill-opacity=\"1\" /><path clip-path=\"url(#clip590)\" d=\"M127.686 575.204 Q124.075 575.204 122.246 578.769 Q120.441 582.31 120.441 589.44 Q120.441 596.546 122.246 600.111 Q124.075 603.653 127.686 603.653 Q131.32 603.653 133.126 600.111 Q134.954 596.546 134.954 589.44 Q134.954 582.31 133.126 578.769 Q131.32 575.204 127.686 575.204 M127.686 571.5 Q133.496 571.5 136.552 576.107 Q139.63 580.69 139.63 589.44 Q139.63 598.167 136.552 602.773 Q133.496 607.356 127.686 607.356 Q121.876 607.356 118.797 602.773 Q115.742 598.167 115.742 589.44 Q115.742 580.69 118.797 576.107 Q121.876 571.5 127.686 571.5 Z\" fill=\"#000000\" fill-rule=\"nonzero\" fill-opacity=\"1\" /><path clip-path=\"url(#clip590)\" d=\"M147.848 600.805 L152.732 600.805 L152.732 606.685 L147.848 606.685 L147.848 600.805 Z\" fill=\"#000000\" fill-rule=\"nonzero\" fill-opacity=\"1\" /><path clip-path=\"url(#clip590)\" d=\"M162.964 572.125 L181.32 572.125 L181.32 576.06 L167.246 576.06 L167.246 584.532 Q168.264 584.185 169.283 584.023 Q170.302 583.838 171.32 583.838 Q177.107 583.838 180.487 587.009 Q183.866 590.181 183.866 595.597 Q183.866 601.176 180.394 604.278 Q176.922 607.356 170.602 607.356 Q168.427 607.356 166.158 606.986 Q163.913 606.616 161.505 605.875 L161.505 601.176 Q163.589 602.31 165.811 602.866 Q168.033 603.421 170.51 603.421 Q174.514 603.421 176.852 601.315 Q179.19 599.208 179.19 595.597 Q179.19 591.986 176.852 589.88 Q174.514 587.773 170.51 587.773 Q168.635 587.773 166.76 588.19 Q164.908 588.606 162.964 589.486 L162.964 572.125 Z\" fill=\"#000000\" fill-rule=\"nonzero\" fill-opacity=\"1\" /><path clip-path=\"url(#clip590)\" d=\"M126.529 391.283 Q122.918 391.283 121.089 394.848 Q119.283 398.389 119.283 405.519 Q119.283 412.625 121.089 416.19 Q122.918 419.732 126.529 419.732 Q130.163 419.732 131.968 416.19 Q133.797 412.625 133.797 405.519 Q133.797 398.389 131.968 394.848 Q130.163 391.283 126.529 391.283 M126.529 387.579 Q132.339 387.579 135.394 392.186 Q138.473 396.769 138.473 405.519 Q138.473 414.246 135.394 418.852 Q132.339 423.435 126.529 423.435 Q120.718 423.435 117.64 418.852 Q114.584 414.246 114.584 405.519 Q114.584 396.769 117.64 392.186 Q120.718 387.579 126.529 387.579 Z\" fill=\"#000000\" fill-rule=\"nonzero\" fill-opacity=\"1\" /><path clip-path=\"url(#clip590)\" d=\"M146.691 416.885 L151.575 416.885 L151.575 422.764 L146.691 422.764 L146.691 416.885 Z\" fill=\"#000000\" fill-rule=\"nonzero\" fill-opacity=\"1\" /><path clip-path=\"url(#clip590)\" d=\"M172.339 403.621 Q169.19 403.621 167.339 405.774 Q165.51 407.926 165.51 411.676 Q165.51 415.403 167.339 417.579 Q169.19 419.732 172.339 419.732 Q175.487 419.732 177.315 417.579 Q179.167 415.403 179.167 411.676 Q179.167 407.926 177.315 405.774 Q175.487 403.621 172.339 403.621 M181.621 388.968 L181.621 393.227 Q179.862 392.394 178.056 391.954 Q176.274 391.514 174.514 391.514 Q169.885 391.514 167.431 394.639 Q165.001 397.764 164.653 404.084 Q166.019 402.07 168.079 401.005 Q170.139 399.917 172.616 399.917 Q177.825 399.917 180.834 403.088 Q183.866 406.236 183.866 411.676 Q183.866 417 180.718 420.218 Q177.57 423.435 172.339 423.435 Q166.343 423.435 163.172 418.852 Q160.001 414.246 160.001 405.519 Q160.001 397.324 163.89 392.463 Q167.778 387.579 174.329 387.579 Q176.089 387.579 177.871 387.926 Q179.676 388.274 181.621 388.968 Z\" fill=\"#000000\" fill-rule=\"nonzero\" fill-opacity=\"1\" /><path clip-path=\"url(#clip590)\" d=\"M127.593 207.362 Q123.982 207.362 122.154 210.927 Q120.348 214.468 120.348 221.598 Q120.348 228.704 122.154 232.269 Q123.982 235.811 127.593 235.811 Q131.228 235.811 133.033 232.269 Q134.862 228.704 134.862 221.598 Q134.862 214.468 133.033 210.927 Q131.228 207.362 127.593 207.362 M127.593 203.658 Q133.404 203.658 136.459 208.265 Q139.538 212.848 139.538 221.598 Q139.538 230.325 136.459 234.931 Q133.404 239.515 127.593 239.515 Q121.783 239.515 118.705 234.931 Q115.649 230.325 115.649 221.598 Q115.649 212.848 118.705 208.265 Q121.783 203.658 127.593 203.658 Z\" fill=\"#000000\" fill-rule=\"nonzero\" fill-opacity=\"1\" /><path clip-path=\"url(#clip590)\" d=\"M147.755 232.964 L152.64 232.964 L152.64 238.843 L147.755 238.843 L147.755 232.964 Z\" fill=\"#000000\" fill-rule=\"nonzero\" fill-opacity=\"1\" /><path clip-path=\"url(#clip590)\" d=\"M161.644 204.283 L183.866 204.283 L183.866 206.274 L171.32 238.843 L166.436 238.843 L178.241 208.218 L161.644 208.218 L161.644 204.283 Z\" fill=\"#000000\" fill-rule=\"nonzero\" fill-opacity=\"1\" /><path clip-path=\"url(#clip590)\" d=\"M21.7677 862.239 L39.6235 862.239 L39.6235 854.155 Q39.6235 849.667 37.3 847.216 Q34.9765 844.765 30.6797 844.765 Q26.4147 844.765 24.0912 847.216 Q21.7677 849.667 21.7677 854.155 L21.7677 862.239 M16.4842 868.668 L16.4842 854.155 Q16.4842 846.166 20.1126 842.092 Q23.7092 837.986 30.6797 837.986 Q37.7138 837.986 41.3104 842.092 Q44.907 846.166 44.907 854.155 L44.907 862.239 L64.0042 862.239 L64.0042 868.668 L16.4842 868.668 Z\" fill=\"#000000\" fill-rule=\"nonzero\" fill-opacity=\"1\" /><path clip-path=\"url(#clip590)\" d=\"M32.4621 818.125 Q32.4621 822.835 36.1542 825.573 Q39.8145 828.31 46.212 828.31 Q52.6095 828.31 56.3017 825.604 Q59.9619 822.867 59.9619 818.125 Q59.9619 813.446 56.2698 810.709 Q52.5777 807.971 46.212 807.971 Q39.8781 807.971 36.186 810.709 Q32.4621 813.446 32.4621 818.125 M27.4968 818.125 Q27.4968 810.486 32.4621 806.125 Q37.4273 801.765 46.212 801.765 Q54.9649 801.765 59.9619 806.125 Q64.9272 810.486 64.9272 818.125 Q64.9272 825.795 59.9619 830.156 Q54.9649 834.485 46.212 834.485 Q37.4273 834.485 32.4621 830.156 Q27.4968 825.795 27.4968 818.125 Z\" fill=\"#000000\" fill-rule=\"nonzero\" fill-opacity=\"1\" /><path clip-path=\"url(#clip590)\" d=\"M28.3562 795.463 L28.3562 789.606 L56.1743 782.286 L28.3562 774.997 L28.3562 768.09 L56.1743 760.77 L28.3562 753.481 L28.3562 747.624 L64.0042 756.95 L64.0042 763.857 L34.7856 771.528 L64.0042 779.23 L64.0042 786.137 L28.3562 795.463 Z\" fill=\"#000000\" fill-rule=\"nonzero\" fill-opacity=\"1\" /><path clip-path=\"url(#clip590)\" d=\"M44.7161 708.253 L47.5806 708.253 L47.5806 735.179 Q53.6281 734.798 56.8109 731.551 Q59.9619 728.273 59.9619 722.448 Q59.9619 719.074 59.1344 715.923 Q58.3069 712.74 56.6518 709.621 L62.1899 709.621 Q63.5267 712.772 64.227 716.082 Q64.9272 719.393 64.9272 722.798 Q64.9272 731.328 59.9619 736.325 Q54.9967 741.291 46.5303 741.291 Q37.7774 741.291 32.6531 736.58 Q27.4968 731.837 27.4968 723.817 Q27.4968 716.623 32.1438 712.454 Q36.7589 708.253 44.7161 708.253 M42.9973 714.109 Q38.1912 714.173 35.3266 716.814 Q32.4621 719.424 32.4621 723.753 Q32.4621 728.655 35.2312 731.615 Q38.0002 734.543 43.0292 734.989 L42.9973 714.109 Z\" fill=\"#000000\" fill-rule=\"nonzero\" fill-opacity=\"1\" /><path clip-path=\"url(#clip590)\" d=\"M33.8307 677.984 Q33.2578 678.97 33.0032 680.148 Q32.7167 681.294 32.7167 682.694 Q32.7167 687.659 35.9632 690.333 Q39.1779 692.975 45.2253 692.975 L64.0042 692.975 L64.0042 698.863 L28.3562 698.863 L28.3562 692.975 L33.8944 692.975 Q30.6479 691.129 29.0883 688.169 Q27.4968 685.209 27.4968 680.975 Q27.4968 680.371 27.5923 679.639 Q27.656 678.907 27.8151 678.015 L33.8307 677.984 Z\" fill=\"#000000\" fill-rule=\"nonzero\" fill-opacity=\"1\" /><path clip-path=\"url(#clip590)\" d=\"M783.999 18.8205 L783.999 41.5461 L794.288 41.5461 Q800 41.5461 803.119 38.5889 Q806.238 35.6318 806.238 30.163 Q806.238 24.7348 803.119 21.7777 Q800 18.8205 794.288 18.8205 L783.999 18.8205 M775.816 12.096 L794.288 12.096 Q804.456 12.096 809.641 16.714 Q814.867 21.2916 814.867 30.163 Q814.867 39.1155 809.641 43.6931 Q804.456 48.2706 794.288 48.2706 L783.999 48.2706 L783.999 72.576 L775.816 72.576 L775.816 12.096 Z\" fill=\"#000000\" fill-rule=\"nonzero\" fill-opacity=\"1\" /><path clip-path=\"url(#clip590)\" d=\"M840.144 32.4315 Q834.149 32.4315 830.665 37.1306 Q827.182 41.7891 827.182 49.9314 Q827.182 58.0738 830.625 62.7728 Q834.109 67.4314 840.144 67.4314 Q846.099 67.4314 849.583 62.7323 Q853.067 58.0333 853.067 49.9314 Q853.067 41.8701 849.583 37.1711 Q846.099 32.4315 840.144 32.4315 M840.144 26.1121 Q849.867 26.1121 855.416 32.4315 Q860.966 38.7509 860.966 49.9314 Q860.966 61.0714 855.416 67.4314 Q849.867 73.7508 840.144 73.7508 Q830.382 73.7508 824.832 67.4314 Q819.323 61.0714 819.323 49.9314 Q819.323 38.7509 824.832 32.4315 Q830.382 26.1121 840.144 26.1121 Z\" fill=\"#000000\" fill-rule=\"nonzero\" fill-opacity=\"1\" /><path clip-path=\"url(#clip590)\" d=\"M868.987 27.2059 L876.441 27.2059 L885.758 62.6108 L895.034 27.2059 L903.825 27.2059 L913.142 62.6108 L922.418 27.2059 L929.872 27.2059 L918.003 72.576 L909.212 72.576 L899.45 35.3887 L889.647 72.576 L880.856 72.576 L868.987 27.2059 Z\" fill=\"#000000\" fill-rule=\"nonzero\" fill-opacity=\"1\" /><path clip-path=\"url(#clip590)\" d=\"M979.982 48.0275 L979.982 51.6733 L945.711 51.6733 Q946.197 59.3701 950.329 63.421 Q954.502 67.4314 961.915 67.4314 Q966.209 67.4314 970.219 66.3781 Q974.27 65.3249 978.24 63.2184 L978.24 70.267 Q974.229 71.9684 970.016 72.8596 Q965.804 73.7508 961.469 73.7508 Q950.613 73.7508 944.253 67.4314 Q937.933 61.1119 937.933 50.3365 Q937.933 39.1965 943.929 32.6746 Q949.965 26.1121 960.173 26.1121 Q969.328 26.1121 974.635 32.0264 Q979.982 37.9003 979.982 48.0275 M972.528 45.84 Q972.447 39.7232 969.085 36.0774 Q965.763 32.4315 960.254 32.4315 Q954.015 32.4315 950.248 35.9558 Q946.521 39.4801 945.954 45.8805 L972.528 45.84 Z\" fill=\"#000000\" fill-rule=\"nonzero\" fill-opacity=\"1\" /><path clip-path=\"url(#clip590)\" d=\"M1018.51 34.1734 Q1017.25 33.4443 1015.75 33.1202 Q1014.29 32.7556 1012.51 32.7556 Q1006.19 32.7556 1002.79 36.8875 Q999.426 40.9789 999.426 48.6757 L999.426 72.576 L991.932 72.576 L991.932 27.2059 L999.426 27.2059 L999.426 34.2544 Q1001.78 30.1225 1005.54 28.1376 Q1009.31 26.1121 1014.7 26.1121 Q1015.47 26.1121 1016.4 26.2337 Q1017.33 26.3147 1018.47 26.5172 L1018.51 34.1734 Z\" fill=\"#000000\" fill-rule=\"nonzero\" fill-opacity=\"1\" /><path clip-path=\"url(#clip590)\" d=\"M1047.35 27.2059 L1055.25 27.2059 L1069.43 65.2844 L1083.6 27.2059 L1091.5 27.2059 L1074.49 72.576 L1064.36 72.576 L1047.35 27.2059 Z\" fill=\"#000000\" fill-rule=\"nonzero\" fill-opacity=\"1\" /><path clip-path=\"url(#clip590)\" d=\"M1130.72 28.5427 L1130.72 35.5912 Q1127.56 33.9709 1124.15 33.1607 Q1120.75 32.3505 1117.1 32.3505 Q1111.56 32.3505 1108.76 34.0519 Q1106.01 35.7533 1106.01 39.156 Q1106.01 41.7486 1107.99 43.2475 Q1109.98 44.7058 1115.97 46.0426 L1118.52 46.6097 Q1126.46 48.3111 1129.78 51.4303 Q1133.15 54.509 1133.15 60.0587 Q1133.15 66.3781 1128.12 70.0644 Q1123.14 73.7508 1114.39 73.7508 Q1110.74 73.7508 1106.78 73.0216 Q1102.85 72.3329 1098.47 70.9151 L1098.47 63.2184 Q1102.6 65.3654 1106.61 66.4591 Q1110.62 67.5124 1114.55 67.5124 Q1119.82 67.5124 1122.65 65.73 Q1125.49 63.9071 1125.49 60.6258 Q1125.49 57.5877 1123.42 55.9673 Q1121.4 54.3469 1114.47 52.8481 L1111.88 52.2405 Q1104.95 50.7821 1101.87 47.7845 Q1098.79 44.7463 1098.79 39.4801 Q1098.79 33.0797 1103.33 29.5959 Q1107.87 26.1121 1116.21 26.1121 Q1120.35 26.1121 1123.99 26.7198 Q1127.64 27.3274 1130.72 28.5427 Z\" fill=\"#000000\" fill-rule=\"nonzero\" fill-opacity=\"1\" /><path clip-path=\"url(#clip590)\" d=\"M1209.1 45.1919 L1209.1 72.576 L1201.65 72.576 L1201.65 45.4349 Q1201.65 38.994 1199.14 35.7938 Q1196.62 32.5936 1191.6 32.5936 Q1185.57 32.5936 1182.08 36.4419 Q1178.6 40.2903 1178.6 46.9338 L1178.6 72.576 L1171.1 72.576 L1171.1 27.2059 L1178.6 27.2059 L1178.6 34.2544 Q1181.27 30.163 1184.88 28.1376 Q1188.52 26.1121 1193.26 26.1121 Q1201.08 26.1121 1205.09 30.9732 Q1209.1 35.7938 1209.1 45.1919 Z\" fill=\"#000000\" fill-rule=\"nonzero\" fill-opacity=\"1\" /><path clip-path=\"url(#clip590)\" d=\"M1268.24 9.62495 Q1262.82 18.942 1260.18 28.0566 Q1257.55 37.1711 1257.55 46.5287 Q1257.55 55.8863 1260.18 65.0818 Q1262.86 74.2369 1268.24 83.5134 L1261.76 83.5134 Q1255.69 73.9938 1252.65 64.7983 Q1249.65 55.6027 1249.65 46.5287 Q1249.65 37.4952 1252.65 28.3401 Q1255.65 19.1851 1261.76 9.62495 L1268.24 9.62495 Z\" fill=\"#000000\" fill-rule=\"nonzero\" fill-opacity=\"1\" /><path clip-path=\"url(#clip590)\" d=\"M1318.03 35.9153 Q1320.82 30.8922 1324.71 28.5022 Q1328.6 26.1121 1333.87 26.1121 Q1340.96 26.1121 1344.81 31.0947 Q1348.65 36.0368 1348.65 45.1919 L1348.65 72.576 L1341.16 72.576 L1341.16 45.4349 Q1341.16 38.913 1338.85 35.7533 Q1336.54 32.5936 1331.8 32.5936 Q1326.01 32.5936 1322.65 36.4419 Q1319.29 40.2903 1319.29 46.9338 L1319.29 72.576 L1311.79 72.576 L1311.79 45.4349 Q1311.79 38.8725 1309.48 35.7533 Q1307.17 32.5936 1302.35 32.5936 Q1296.64 32.5936 1293.28 36.4824 Q1289.92 40.3308 1289.92 46.9338 L1289.92 72.576 L1282.42 72.576 L1282.42 27.2059 L1289.92 27.2059 L1289.92 34.2544 Q1292.47 30.082 1296.03 28.0971 Q1299.6 26.1121 1304.5 26.1121 Q1309.44 26.1121 1312.89 28.6237 Q1316.37 31.1352 1318.03 35.9153 Z\" fill=\"#000000\" fill-rule=\"nonzero\" fill-opacity=\"1\" /><path clip-path=\"url(#clip590)\" d=\"M1390.86 34.9026 L1442.8 34.9026 L1442.8 41.7081 L1390.86 41.7081 L1390.86 34.9026 M1390.86 51.4303 L1442.8 51.4303 L1442.8 58.3168 L1390.86 58.3168 L1390.86 51.4303 Z\" fill=\"#000000\" fill-rule=\"nonzero\" fill-opacity=\"1\" /><path clip-path=\"url(#clip590)\" d=\"M1493.88 65.6895 L1522.44 65.6895 L1522.44 72.576 L1484.04 72.576 L1484.04 65.6895 Q1488.69 60.8689 1496.72 52.7671 Q1504.78 44.6248 1506.84 42.2752 Q1510.77 37.8598 1512.31 34.8216 Q1513.89 31.7429 1513.89 28.7857 Q1513.89 23.9651 1510.49 20.927 Q1507.13 17.8888 1501.7 17.8888 Q1497.85 17.8888 1493.56 19.2256 Q1489.3 20.5624 1484.44 23.2765 L1484.44 15.0127 Q1489.38 13.0277 1493.68 12.015 Q1497.97 11.0023 1501.54 11.0023 Q1510.93 11.0023 1516.52 15.7013 Q1522.11 20.4004 1522.11 28.2591 Q1522.11 31.9859 1520.7 35.3482 Q1519.32 38.6699 1515.63 43.2069 Q1514.62 44.3817 1509.19 50.0125 Q1503.76 55.6027 1493.88 65.6895 Z\" fill=\"#000000\" fill-rule=\"nonzero\" fill-opacity=\"1\" /><path clip-path=\"url(#clip590)\" d=\"M1557.11 17.4837 Q1550.79 17.4837 1547.59 23.7221 Q1544.43 29.92 1544.43 42.3968 Q1544.43 54.833 1547.59 61.0714 Q1550.79 67.2693 1557.11 67.2693 Q1563.47 67.2693 1566.63 61.0714 Q1569.83 54.833 1569.83 42.3968 Q1569.83 29.92 1566.63 23.7221 Q1563.47 17.4837 1557.11 17.4837 M1557.11 11.0023 Q1567.28 11.0023 1572.63 19.0636 Q1578.02 27.0843 1578.02 42.3968 Q1578.02 57.6687 1572.63 65.73 Q1567.28 73.7508 1557.11 73.7508 Q1546.95 73.7508 1541.56 65.73 Q1536.21 57.6687 1536.21 42.3968 Q1536.21 27.0843 1541.56 19.0636 Q1546.95 11.0023 1557.11 11.0023 Z\" fill=\"#000000\" fill-rule=\"nonzero\" fill-opacity=\"1\" /><path clip-path=\"url(#clip590)\" d=\"M1609.9 17.4837 Q1603.58 17.4837 1600.38 23.7221 Q1597.22 29.92 1597.22 42.3968 Q1597.22 54.833 1600.38 61.0714 Q1603.58 67.2693 1609.9 67.2693 Q1616.26 67.2693 1619.42 61.0714 Q1622.62 54.833 1622.62 42.3968 Q1622.62 29.92 1619.42 23.7221 Q1616.26 17.4837 1609.9 17.4837 M1609.9 11.0023 Q1620.07 11.0023 1625.41 19.0636 Q1630.8 27.0843 1630.8 42.3968 Q1630.8 57.6687 1625.41 65.73 Q1620.07 73.7508 1609.9 73.7508 Q1599.73 73.7508 1594.34 65.73 Q1588.99 57.6687 1588.99 42.3968 Q1588.99 27.0843 1594.34 19.0636 Q1599.73 11.0023 1609.9 11.0023 Z\" fill=\"#000000\" fill-rule=\"nonzero\" fill-opacity=\"1\" /><path clip-path=\"url(#clip590)\" d=\"M1666.73 46.5287 L1688.57 46.5287 L1688.57 53.1722 L1666.73 53.1722 L1666.73 46.5287 Z\" fill=\"#000000\" fill-rule=\"nonzero\" fill-opacity=\"1\" /><path clip-path=\"url(#clip590)\" d=\"M1764.52 45.1919 L1764.52 72.576 L1757.07 72.576 L1757.07 45.4349 Q1757.07 38.994 1754.56 35.7938 Q1752.04 32.5936 1747.02 32.5936 Q1740.98 32.5936 1737.5 36.4419 Q1734.02 40.2903 1734.02 46.9338 L1734.02 72.576 L1726.52 72.576 L1726.52 27.2059 L1734.02 27.2059 L1734.02 34.2544 Q1736.69 30.163 1740.3 28.1376 Q1743.94 26.1121 1748.68 26.1121 Q1756.5 26.1121 1760.51 30.9732 Q1764.52 35.7938 1764.52 45.1919 Z\" fill=\"#000000\" fill-rule=\"nonzero\" fill-opacity=\"1\" /><path clip-path=\"url(#clip590)\" d=\"M1778.21 9.62495 L1784.69 9.62495 Q1790.77 19.1851 1793.77 28.3401 Q1796.81 37.4952 1796.81 46.5287 Q1796.81 55.6027 1793.77 64.7983 Q1790.77 73.9938 1784.69 83.5134 L1778.21 83.5134 Q1783.6 74.2369 1786.23 65.0818 Q1788.91 55.8863 1788.91 46.5287 Q1788.91 37.1711 1786.23 28.0566 Q1783.6 18.942 1778.21 9.62495 Z\" fill=\"#000000\" fill-rule=\"nonzero\" fill-opacity=\"1\" /><polyline clip-path=\"url(#clip592)\" style=\"stroke:#009af9; stroke-linecap:round; stroke-linejoin:round; stroke-width:4; stroke-opacity:1; fill:none\" points=\"280.231,1386.4 463.155,1263.78 1072.9,528.098 1682.65,221.563 2292.39,160.256 \"/>\n",
       "<polyline clip-path=\"url(#clip592)\" style=\"stroke:#e26f46; stroke-linecap:round; stroke-linejoin:round; stroke-width:4; stroke-opacity:1; fill:none\" stroke-dasharray=\"16, 10\" points=\"280.231,1386.4 463.155,1263.78 1072.9,1079.86 1682.65,957.247 2292.39,895.94 \"/>\n",
       "<path clip-path=\"url(#clip590)\" d=\"M1951.52 1379.86 L2281.66 1379.86 L2281.66 1224.34 L1951.52 1224.34  Z\" fill=\"#ffffff\" fill-rule=\"evenodd\" fill-opacity=\"1\"/>\n",
       "<polyline clip-path=\"url(#clip590)\" style=\"stroke:#000000; stroke-linecap:round; stroke-linejoin:round; stroke-width:4; stroke-opacity:1; fill:none\" points=\"1951.52,1379.86 2281.66,1379.86 2281.66,1224.34 1951.52,1224.34 1951.52,1379.86 \"/>\n",
       "<polyline clip-path=\"url(#clip590)\" style=\"stroke:#009af9; stroke-linecap:round; stroke-linejoin:round; stroke-width:4; stroke-opacity:1; fill:none\" points=\"1975.22,1276.18 2117.41,1276.18 \"/>\n",
       "<path clip-path=\"url(#clip590)\" d=\"M2141.11 1258.9 L2145.83 1258.9 L2153.1 1288.11 L2160.35 1258.9 L2165.6 1258.9 L2172.87 1288.11 L2180.11 1258.9 L2184.86 1258.9 L2176.18 1293.46 L2170.3 1293.46 L2163.01 1263.46 L2155.65 1293.46 L2149.77 1293.46 L2141.11 1258.9 Z\" fill=\"#000000\" fill-rule=\"nonzero\" fill-opacity=\"1\" /><path clip-path=\"url(#clip590)\" d=\"M2198.15 1270.52 Q2194.72 1270.52 2192.73 1273.2 Q2190.74 1275.86 2190.74 1280.52 Q2190.74 1285.17 2192.71 1287.85 Q2194.7 1290.52 2198.15 1290.52 Q2201.55 1290.52 2203.54 1287.83 Q2205.53 1285.15 2205.53 1280.52 Q2205.53 1275.91 2203.54 1273.22 Q2201.55 1270.52 2198.15 1270.52 M2198.15 1266.91 Q2203.7 1266.91 2206.87 1270.52 Q2210.04 1274.13 2210.04 1280.52 Q2210.04 1286.88 2206.87 1290.52 Q2203.7 1294.13 2198.15 1294.13 Q2192.57 1294.13 2189.4 1290.52 Q2186.25 1286.88 2186.25 1280.52 Q2186.25 1274.13 2189.4 1270.52 Q2192.57 1266.91 2198.15 1266.91 Z\" fill=\"#000000\" fill-rule=\"nonzero\" fill-opacity=\"1\" /><path clip-path=\"url(#clip590)\" d=\"M2214.21 1258.9 L2218.93 1258.9 L2226.2 1288.11 L2233.45 1258.9 L2238.7 1258.9 L2245.97 1288.11 L2253.22 1258.9 L2257.96 1258.9 L2249.28 1293.46 L2243.4 1293.46 L2236.11 1263.46 L2228.75 1293.46 L2222.87 1293.46 L2214.21 1258.9 Z\" fill=\"#000000\" fill-rule=\"nonzero\" fill-opacity=\"1\" /><polyline clip-path=\"url(#clip590)\" style=\"stroke:#e26f46; stroke-linecap:round; stroke-linejoin:round; stroke-width:4; stroke-opacity:1; fill:none\" stroke-dasharray=\"16, 10\" points=\"1975.22,1328.02 2117.41,1328.02 \"/>\n",
       "<path clip-path=\"url(#clip590)\" d=\"M2141.11 1310.74 L2145.79 1310.74 L2145.79 1324.9 L2162.78 1324.9 L2162.78 1310.74 L2167.45 1310.74 L2167.45 1345.3 L2162.78 1345.3 L2162.78 1328.84 L2145.79 1328.84 L2145.79 1345.3 L2141.11 1345.3 L2141.11 1310.74 Z\" fill=\"#000000\" fill-rule=\"nonzero\" fill-opacity=\"1\" /><path clip-path=\"url(#clip590)\" d=\"M2176.76 1310.74 L2181.43 1310.74 L2181.43 1345.3 L2176.76 1345.3 L2176.76 1310.74 Z\" fill=\"#000000\" fill-rule=\"nonzero\" fill-opacity=\"1\" /><path clip-path=\"url(#clip590)\" d=\"M2195.41 1314.58 L2195.41 1327.56 L2201.29 1327.56 Q2204.56 1327.56 2206.34 1325.88 Q2208.12 1324.19 2208.12 1321.06 Q2208.12 1317.96 2206.34 1316.27 Q2204.56 1314.58 2201.29 1314.58 L2195.41 1314.58 M2190.74 1310.74 L2201.29 1310.74 Q2207.1 1310.74 2210.07 1313.38 Q2213.05 1315.99 2213.05 1321.06 Q2213.05 1326.18 2210.07 1328.79 Q2207.1 1331.41 2201.29 1331.41 L2195.41 1331.41 L2195.41 1345.3 L2190.74 1345.3 L2190.74 1310.74 Z\" fill=\"#000000\" fill-rule=\"nonzero\" fill-opacity=\"1\" /><path clip-path=\"url(#clip590)\" d=\"M2219.33 1310.74 L2226.29 1310.74 L2235.11 1334.25 L2243.98 1310.74 L2250.95 1310.74 L2250.95 1345.3 L2246.39 1345.3 L2246.39 1314.95 L2237.47 1338.65 L2232.78 1338.65 L2223.86 1314.95 L2223.86 1345.3 L2219.33 1345.3 L2219.33 1310.74 Z\" fill=\"#000000\" fill-rule=\"nonzero\" fill-opacity=\"1\" /></svg>\n"
      ],
      "text/html": [
       "<?xml version=\"1.0\" encoding=\"utf-8\"?>\n",
       "<svg xmlns=\"http://www.w3.org/2000/svg\" xmlns:xlink=\"http://www.w3.org/1999/xlink\" width=\"600\" height=\"400\" viewBox=\"0 0 2400 1600\">\n",
       "<defs>\n",
       "  <clipPath id=\"clip640\">\n",
       "    <rect x=\"0\" y=\"0\" width=\"2400\" height=\"1600\"/>\n",
       "  </clipPath>\n",
       "</defs>\n",
       "<path clip-path=\"url(#clip640)\" d=\"M0 1600 L2400 1600 L2400 0 L0 0  Z\" fill=\"#ffffff\" fill-rule=\"evenodd\" fill-opacity=\"1\"/>\n",
       "<defs>\n",
       "  <clipPath id=\"clip641\">\n",
       "    <rect x=\"480\" y=\"0\" width=\"1681\" height=\"1600\"/>\n",
       "  </clipPath>\n",
       "</defs>\n",
       "<path clip-path=\"url(#clip640)\" d=\"M219.866 1423.18 L2352.76 1423.18 L2352.76 123.472 L219.866 123.472  Z\" fill=\"#ffffff\" fill-rule=\"evenodd\" fill-opacity=\"1\"/>\n",
       "<defs>\n",
       "  <clipPath id=\"clip642\">\n",
       "    <rect x=\"219\" y=\"123\" width=\"2134\" height=\"1301\"/>\n",
       "  </clipPath>\n",
       "</defs>\n",
       "<polyline clip-path=\"url(#clip642)\" style=\"stroke:#000000; stroke-linecap:round; stroke-linejoin:round; stroke-width:2; stroke-opacity:0.1; fill:none\" points=\"524.129,1423.18 524.129,123.472 \"/>\n",
       "<polyline clip-path=\"url(#clip642)\" style=\"stroke:#000000; stroke-linecap:round; stroke-linejoin:round; stroke-width:2; stroke-opacity:0.1; fill:none\" points=\"889.977,1423.18 889.977,123.472 \"/>\n",
       "<polyline clip-path=\"url(#clip642)\" style=\"stroke:#000000; stroke-linecap:round; stroke-linejoin:round; stroke-width:2; stroke-opacity:0.1; fill:none\" points=\"1255.82,1423.18 1255.82,123.472 \"/>\n",
       "<polyline clip-path=\"url(#clip642)\" style=\"stroke:#000000; stroke-linecap:round; stroke-linejoin:round; stroke-width:2; stroke-opacity:0.1; fill:none\" points=\"1621.67,1423.18 1621.67,123.472 \"/>\n",
       "<polyline clip-path=\"url(#clip642)\" style=\"stroke:#000000; stroke-linecap:round; stroke-linejoin:round; stroke-width:2; stroke-opacity:0.1; fill:none\" points=\"1987.52,1423.18 1987.52,123.472 \"/>\n",
       "<polyline clip-path=\"url(#clip642)\" style=\"stroke:#000000; stroke-linecap:round; stroke-linejoin:round; stroke-width:2; stroke-opacity:0.1; fill:none\" points=\"219.866,1325.09 2352.76,1325.09 \"/>\n",
       "<polyline clip-path=\"url(#clip642)\" style=\"stroke:#000000; stroke-linecap:round; stroke-linejoin:round; stroke-width:2; stroke-opacity:0.1; fill:none\" points=\"219.866,1141.17 2352.76,1141.17 \"/>\n",
       "<polyline clip-path=\"url(#clip642)\" style=\"stroke:#000000; stroke-linecap:round; stroke-linejoin:round; stroke-width:2; stroke-opacity:0.1; fill:none\" points=\"219.866,957.247 2352.76,957.247 \"/>\n",
       "<polyline clip-path=\"url(#clip642)\" style=\"stroke:#000000; stroke-linecap:round; stroke-linejoin:round; stroke-width:2; stroke-opacity:0.1; fill:none\" points=\"219.866,773.326 2352.76,773.326 \"/>\n",
       "<polyline clip-path=\"url(#clip642)\" style=\"stroke:#000000; stroke-linecap:round; stroke-linejoin:round; stroke-width:2; stroke-opacity:0.1; fill:none\" points=\"219.866,589.405 2352.76,589.405 \"/>\n",
       "<polyline clip-path=\"url(#clip642)\" style=\"stroke:#000000; stroke-linecap:round; stroke-linejoin:round; stroke-width:2; stroke-opacity:0.1; fill:none\" points=\"219.866,405.484 2352.76,405.484 \"/>\n",
       "<polyline clip-path=\"url(#clip642)\" style=\"stroke:#000000; stroke-linecap:round; stroke-linejoin:round; stroke-width:2; stroke-opacity:0.1; fill:none\" points=\"219.866,221.563 2352.76,221.563 \"/>\n",
       "<polyline clip-path=\"url(#clip640)\" style=\"stroke:#000000; stroke-linecap:round; stroke-linejoin:round; stroke-width:4; stroke-opacity:1; fill:none\" points=\"219.866,1423.18 2352.76,1423.18 \"/>\n",
       "<polyline clip-path=\"url(#clip640)\" style=\"stroke:#000000; stroke-linecap:round; stroke-linejoin:round; stroke-width:4; stroke-opacity:1; fill:none\" points=\"524.129,1423.18 524.129,1404.28 \"/>\n",
       "<polyline clip-path=\"url(#clip640)\" style=\"stroke:#000000; stroke-linecap:round; stroke-linejoin:round; stroke-width:4; stroke-opacity:1; fill:none\" points=\"889.977,1423.18 889.977,1404.28 \"/>\n",
       "<polyline clip-path=\"url(#clip640)\" style=\"stroke:#000000; stroke-linecap:round; stroke-linejoin:round; stroke-width:4; stroke-opacity:1; fill:none\" points=\"1255.82,1423.18 1255.82,1404.28 \"/>\n",
       "<polyline clip-path=\"url(#clip640)\" style=\"stroke:#000000; stroke-linecap:round; stroke-linejoin:round; stroke-width:4; stroke-opacity:1; fill:none\" points=\"1621.67,1423.18 1621.67,1404.28 \"/>\n",
       "<polyline clip-path=\"url(#clip640)\" style=\"stroke:#000000; stroke-linecap:round; stroke-linejoin:round; stroke-width:4; stroke-opacity:1; fill:none\" points=\"1987.52,1423.18 1987.52,1404.28 \"/>\n",
       "<path clip-path=\"url(#clip640)\" d=\"M512.972 1466.95 Q516.328 1467.66 518.203 1469.93 Q520.101 1472.2 520.101 1475.53 Q520.101 1480.65 516.583 1483.45 Q513.064 1486.25 506.583 1486.25 Q504.407 1486.25 502.092 1485.81 Q499.801 1485.39 497.347 1484.54 L497.347 1480.02 Q499.291 1481.16 501.606 1481.74 Q503.921 1482.32 506.444 1482.32 Q510.842 1482.32 513.134 1480.58 Q515.449 1478.84 515.449 1475.53 Q515.449 1472.48 513.296 1470.77 Q511.166 1469.03 507.347 1469.03 L503.319 1469.03 L503.319 1465.19 L507.532 1465.19 Q510.981 1465.19 512.81 1463.82 Q514.639 1462.43 514.639 1459.84 Q514.639 1457.18 512.74 1455.77 Q510.865 1454.33 507.347 1454.33 Q505.426 1454.33 503.227 1454.75 Q501.028 1455.16 498.389 1456.04 L498.389 1451.88 Q501.051 1451.14 503.365 1450.77 Q505.703 1450.39 507.764 1450.39 Q513.088 1450.39 516.189 1452.83 Q519.291 1455.23 519.291 1459.35 Q519.291 1462.22 517.648 1464.21 Q516.004 1466.18 512.972 1466.95 Z\" fill=\"#000000\" fill-rule=\"nonzero\" fill-opacity=\"1\" /><path clip-path=\"url(#clip640)\" d=\"M538.967 1454.1 Q535.356 1454.1 533.527 1457.66 Q531.722 1461.2 531.722 1468.33 Q531.722 1475.44 533.527 1479.01 Q535.356 1482.55 538.967 1482.55 Q542.601 1482.55 544.407 1479.01 Q546.236 1475.44 546.236 1468.33 Q546.236 1461.2 544.407 1457.66 Q542.601 1454.1 538.967 1454.1 M538.967 1450.39 Q544.777 1450.39 547.833 1455 Q550.912 1459.58 550.912 1468.33 Q550.912 1477.06 547.833 1481.67 Q544.777 1486.25 538.967 1486.25 Q533.157 1486.25 530.078 1481.67 Q527.023 1477.06 527.023 1468.33 Q527.023 1459.58 530.078 1455 Q533.157 1450.39 538.967 1450.39 Z\" fill=\"#000000\" fill-rule=\"nonzero\" fill-opacity=\"1\" /><path clip-path=\"url(#clip640)\" d=\"M875.382 1466.44 Q872.234 1466.44 870.382 1468.59 Q868.553 1470.74 868.553 1474.49 Q868.553 1478.22 870.382 1480.39 Q872.234 1482.55 875.382 1482.55 Q878.53 1482.55 880.359 1480.39 Q882.21 1478.22 882.21 1474.49 Q882.21 1470.74 880.359 1468.59 Q878.53 1466.44 875.382 1466.44 M884.664 1451.78 L884.664 1456.04 Q882.905 1455.21 881.099 1454.77 Q879.317 1454.33 877.558 1454.33 Q872.928 1454.33 870.474 1457.45 Q868.044 1460.58 867.697 1466.9 Q869.062 1464.89 871.122 1463.82 Q873.183 1462.73 875.659 1462.73 Q880.868 1462.73 883.877 1465.9 Q886.909 1469.05 886.909 1474.49 Q886.909 1479.82 883.761 1483.03 Q880.613 1486.25 875.382 1486.25 Q869.386 1486.25 866.215 1481.67 Q863.044 1477.06 863.044 1468.33 Q863.044 1460.14 866.933 1455.28 Q870.822 1450.39 877.372 1450.39 Q879.132 1450.39 880.914 1450.74 Q882.72 1451.09 884.664 1451.78 Z\" fill=\"#000000\" fill-rule=\"nonzero\" fill-opacity=\"1\" /><path clip-path=\"url(#clip640)\" d=\"M904.965 1454.1 Q901.354 1454.1 899.525 1457.66 Q897.72 1461.2 897.72 1468.33 Q897.72 1475.44 899.525 1479.01 Q901.354 1482.55 904.965 1482.55 Q908.599 1482.55 910.405 1479.01 Q912.233 1475.44 912.233 1468.33 Q912.233 1461.2 910.405 1457.66 Q908.599 1454.1 904.965 1454.1 M904.965 1450.39 Q910.775 1450.39 913.831 1455 Q916.909 1459.58 916.909 1468.33 Q916.909 1477.06 913.831 1481.67 Q910.775 1486.25 904.965 1486.25 Q899.155 1486.25 896.076 1481.67 Q893.02 1477.06 893.02 1468.33 Q893.02 1459.58 896.076 1455 Q899.155 1450.39 904.965 1450.39 Z\" fill=\"#000000\" fill-rule=\"nonzero\" fill-opacity=\"1\" /><path clip-path=\"url(#clip640)\" d=\"M1230.95 1484.86 L1230.95 1480.6 Q1232.71 1481.44 1234.52 1481.88 Q1236.32 1482.32 1238.06 1482.32 Q1242.69 1482.32 1245.12 1479.21 Q1247.57 1476.09 1247.92 1469.75 Q1246.58 1471.74 1244.52 1472.8 Q1242.46 1473.87 1239.96 1473.87 Q1234.77 1473.87 1231.74 1470.74 Q1228.73 1467.59 1228.73 1462.15 Q1228.73 1456.83 1231.88 1453.61 Q1235.03 1450.39 1240.26 1450.39 Q1246.25 1450.39 1249.4 1455 Q1252.57 1459.58 1252.57 1468.33 Q1252.57 1476.51 1248.68 1481.39 Q1244.82 1486.25 1238.27 1486.25 Q1236.51 1486.25 1234.7 1485.9 Q1232.9 1485.56 1230.95 1484.86 M1240.26 1470.21 Q1243.4 1470.21 1245.23 1468.06 Q1247.09 1465.9 1247.09 1462.15 Q1247.09 1458.43 1245.23 1456.27 Q1243.4 1454.1 1240.26 1454.1 Q1237.11 1454.1 1235.26 1456.27 Q1233.43 1458.43 1233.43 1462.15 Q1233.43 1465.9 1235.26 1468.06 Q1237.11 1470.21 1240.26 1470.21 Z\" fill=\"#000000\" fill-rule=\"nonzero\" fill-opacity=\"1\" /><path clip-path=\"url(#clip640)\" d=\"M1270.97 1454.1 Q1267.36 1454.1 1265.53 1457.66 Q1263.73 1461.2 1263.73 1468.33 Q1263.73 1475.44 1265.53 1479.01 Q1267.36 1482.55 1270.97 1482.55 Q1274.61 1482.55 1276.41 1479.01 Q1278.24 1475.44 1278.24 1468.33 Q1278.24 1461.2 1276.41 1457.66 Q1274.61 1454.1 1270.97 1454.1 M1270.97 1450.39 Q1276.78 1450.39 1279.84 1455 Q1282.92 1459.58 1282.92 1468.33 Q1282.92 1477.06 1279.84 1481.67 Q1276.78 1486.25 1270.97 1486.25 Q1265.16 1486.25 1262.09 1481.67 Q1259.03 1477.06 1259.03 1468.33 Q1259.03 1459.58 1262.09 1455 Q1265.16 1450.39 1270.97 1450.39 Z\" fill=\"#000000\" fill-rule=\"nonzero\" fill-opacity=\"1\" /><path clip-path=\"url(#clip640)\" d=\"M1581.28 1481.64 L1588.92 1481.64 L1588.92 1455.28 L1580.61 1456.95 L1580.61 1452.69 L1588.87 1451.02 L1593.55 1451.02 L1593.55 1481.64 L1601.19 1481.64 L1601.19 1485.58 L1581.28 1485.58 L1581.28 1481.64 Z\" fill=\"#000000\" fill-rule=\"nonzero\" fill-opacity=\"1\" /><path clip-path=\"url(#clip640)\" d=\"M1614.66 1481.64 L1630.98 1481.64 L1630.98 1485.58 L1609.03 1485.58 L1609.03 1481.64 Q1611.69 1478.89 1616.28 1474.26 Q1620.88 1469.61 1622.06 1468.27 Q1624.31 1465.74 1625.19 1464.01 Q1626.09 1462.25 1626.09 1460.56 Q1626.09 1457.8 1624.15 1456.07 Q1622.23 1454.33 1619.12 1454.33 Q1616.93 1454.33 1614.47 1455.09 Q1612.04 1455.86 1609.26 1457.41 L1609.26 1452.69 Q1612.09 1451.55 1614.54 1450.97 Q1617 1450.39 1619.03 1450.39 Q1624.4 1450.39 1627.6 1453.08 Q1630.79 1455.77 1630.79 1460.26 Q1630.79 1462.39 1629.98 1464.31 Q1629.19 1466.2 1627.09 1468.8 Q1626.51 1469.47 1623.41 1472.69 Q1620.31 1475.88 1614.66 1481.64 Z\" fill=\"#000000\" fill-rule=\"nonzero\" fill-opacity=\"1\" /><path clip-path=\"url(#clip640)\" d=\"M1650.79 1454.1 Q1647.18 1454.1 1645.35 1457.66 Q1643.55 1461.2 1643.55 1468.33 Q1643.55 1475.44 1645.35 1479.01 Q1647.18 1482.55 1650.79 1482.55 Q1654.43 1482.55 1656.23 1479.01 Q1658.06 1475.44 1658.06 1468.33 Q1658.06 1461.2 1656.23 1457.66 Q1654.43 1454.1 1650.79 1454.1 M1650.79 1450.39 Q1656.6 1450.39 1659.66 1455 Q1662.74 1459.58 1662.74 1468.33 Q1662.74 1477.06 1659.66 1481.67 Q1656.6 1486.25 1650.79 1486.25 Q1644.98 1486.25 1641.9 1481.67 Q1638.85 1477.06 1638.85 1468.33 Q1638.85 1459.58 1641.9 1455 Q1644.98 1450.39 1650.79 1450.39 Z\" fill=\"#000000\" fill-rule=\"nonzero\" fill-opacity=\"1\" /><path clip-path=\"url(#clip640)\" d=\"M1947.13 1481.64 L1954.76 1481.64 L1954.76 1455.28 L1946.45 1456.95 L1946.45 1452.69 L1954.72 1451.02 L1959.39 1451.02 L1959.39 1481.64 L1967.03 1481.64 L1967.03 1485.58 L1947.13 1485.58 L1947.13 1481.64 Z\" fill=\"#000000\" fill-rule=\"nonzero\" fill-opacity=\"1\" /><path clip-path=\"url(#clip640)\" d=\"M1976.52 1451.02 L1994.88 1451.02 L1994.88 1454.96 L1980.81 1454.96 L1980.81 1463.43 Q1981.82 1463.08 1982.84 1462.92 Q1983.86 1462.73 1984.88 1462.73 Q1990.67 1462.73 1994.05 1465.9 Q1997.43 1469.08 1997.43 1474.49 Q1997.43 1480.07 1993.95 1483.17 Q1990.48 1486.25 1984.16 1486.25 Q1981.99 1486.25 1979.72 1485.88 Q1977.47 1485.51 1975.06 1484.77 L1975.06 1480.07 Q1977.15 1481.2 1979.37 1481.76 Q1981.59 1482.32 1984.07 1482.32 Q1988.07 1482.32 1990.41 1480.21 Q1992.75 1478.1 1992.75 1474.49 Q1992.75 1470.88 1990.41 1468.77 Q1988.07 1466.67 1984.07 1466.67 Q1982.19 1466.67 1980.32 1467.08 Q1978.47 1467.5 1976.52 1468.38 L1976.52 1451.02 Z\" fill=\"#000000\" fill-rule=\"nonzero\" fill-opacity=\"1\" /><path clip-path=\"url(#clip640)\" d=\"M2016.64 1454.1 Q2013.03 1454.1 2011.2 1457.66 Q2009.39 1461.2 2009.39 1468.33 Q2009.39 1475.44 2011.2 1479.01 Q2013.03 1482.55 2016.64 1482.55 Q2020.27 1482.55 2022.08 1479.01 Q2023.91 1475.44 2023.91 1468.33 Q2023.91 1461.2 2022.08 1457.66 Q2020.27 1454.1 2016.64 1454.1 M2016.64 1450.39 Q2022.45 1450.39 2025.5 1455 Q2028.58 1459.58 2028.58 1468.33 Q2028.58 1477.06 2025.5 1481.67 Q2022.45 1486.25 2016.64 1486.25 Q2010.83 1486.25 2007.75 1481.67 Q2004.69 1477.06 2004.69 1468.33 Q2004.69 1459.58 2007.75 1455 Q2010.83 1450.39 2016.64 1450.39 Z\" fill=\"#000000\" fill-rule=\"nonzero\" fill-opacity=\"1\" /><path clip-path=\"url(#clip640)\" d=\"M1301.24 1546.53 L1301.24 1568.04 L1295.38 1568.04 L1295.38 1546.72 Q1295.38 1541.66 1293.41 1539.14 Q1291.44 1536.63 1287.49 1536.63 Q1282.75 1536.63 1280.01 1539.65 Q1277.27 1542.68 1277.27 1547.9 L1277.27 1568.04 L1271.38 1568.04 L1271.38 1532.4 L1277.27 1532.4 L1277.27 1537.93 Q1279.37 1534.72 1282.21 1533.13 Q1285.07 1531.54 1288.79 1531.54 Q1294.94 1531.54 1298.09 1535.36 Q1301.24 1539.14 1301.24 1546.53 Z\" fill=\"#000000\" fill-rule=\"nonzero\" fill-opacity=\"1\" /><polyline clip-path=\"url(#clip640)\" style=\"stroke:#000000; stroke-linecap:round; stroke-linejoin:round; stroke-width:4; stroke-opacity:1; fill:none\" points=\"219.866,1423.18 219.866,123.472 \"/>\n",
       "<polyline clip-path=\"url(#clip640)\" style=\"stroke:#000000; stroke-linecap:round; stroke-linejoin:round; stroke-width:4; stroke-opacity:1; fill:none\" points=\"219.866,1325.09 238.764,1325.09 \"/>\n",
       "<polyline clip-path=\"url(#clip640)\" style=\"stroke:#000000; stroke-linecap:round; stroke-linejoin:round; stroke-width:4; stroke-opacity:1; fill:none\" points=\"219.866,1141.17 238.764,1141.17 \"/>\n",
       "<polyline clip-path=\"url(#clip640)\" style=\"stroke:#000000; stroke-linecap:round; stroke-linejoin:round; stroke-width:4; stroke-opacity:1; fill:none\" points=\"219.866,957.247 238.764,957.247 \"/>\n",
       "<polyline clip-path=\"url(#clip640)\" style=\"stroke:#000000; stroke-linecap:round; stroke-linejoin:round; stroke-width:4; stroke-opacity:1; fill:none\" points=\"219.866,773.326 238.764,773.326 \"/>\n",
       "<polyline clip-path=\"url(#clip640)\" style=\"stroke:#000000; stroke-linecap:round; stroke-linejoin:round; stroke-width:4; stroke-opacity:1; fill:none\" points=\"219.866,589.405 238.764,589.405 \"/>\n",
       "<polyline clip-path=\"url(#clip640)\" style=\"stroke:#000000; stroke-linecap:round; stroke-linejoin:round; stroke-width:4; stroke-opacity:1; fill:none\" points=\"219.866,405.484 238.764,405.484 \"/>\n",
       "<polyline clip-path=\"url(#clip640)\" style=\"stroke:#000000; stroke-linecap:round; stroke-linejoin:round; stroke-width:4; stroke-opacity:1; fill:none\" points=\"219.866,221.563 238.764,221.563 \"/>\n",
       "<path clip-path=\"url(#clip640)\" d=\"M127.917 1310.89 Q124.306 1310.89 122.478 1314.45 Q120.672 1317.99 120.672 1325.12 Q120.672 1332.23 122.478 1335.79 Q124.306 1339.34 127.917 1339.34 Q131.552 1339.34 133.357 1335.79 Q135.186 1332.23 135.186 1325.12 Q135.186 1317.99 133.357 1314.45 Q131.552 1310.89 127.917 1310.89 M127.917 1307.18 Q133.728 1307.18 136.783 1311.79 Q139.862 1316.37 139.862 1325.12 Q139.862 1333.85 136.783 1338.46 Q133.728 1343.04 127.917 1343.04 Q122.107 1343.04 119.029 1338.46 Q115.973 1333.85 115.973 1325.12 Q115.973 1316.37 119.029 1311.79 Q122.107 1307.18 127.917 1307.18 Z\" fill=\"#000000\" fill-rule=\"nonzero\" fill-opacity=\"1\" /><path clip-path=\"url(#clip640)\" d=\"M148.079 1336.49 L152.964 1336.49 L152.964 1342.37 L148.079 1342.37 L148.079 1336.49 Z\" fill=\"#000000\" fill-rule=\"nonzero\" fill-opacity=\"1\" /><path clip-path=\"url(#clip640)\" d=\"M163.959 1338.43 L171.598 1338.43 L171.598 1312.07 L163.288 1313.73 L163.288 1309.48 L171.552 1307.81 L176.227 1307.81 L176.227 1338.43 L183.866 1338.43 L183.866 1342.37 L163.959 1342.37 L163.959 1338.43 Z\" fill=\"#000000\" fill-rule=\"nonzero\" fill-opacity=\"1\" /><path clip-path=\"url(#clip640)\" d=\"M128.288 1126.97 Q124.677 1126.97 122.848 1130.53 Q121.043 1134.07 121.043 1141.2 Q121.043 1148.31 122.848 1151.87 Q124.677 1155.42 128.288 1155.42 Q131.922 1155.42 133.728 1151.87 Q135.556 1148.31 135.556 1141.2 Q135.556 1134.07 133.728 1130.53 Q131.922 1126.97 128.288 1126.97 M128.288 1123.26 Q134.098 1123.26 137.154 1127.87 Q140.232 1132.45 140.232 1141.2 Q140.232 1149.93 137.154 1154.54 Q134.098 1159.12 128.288 1159.12 Q122.478 1159.12 119.399 1154.54 Q116.343 1149.93 116.343 1141.2 Q116.343 1132.45 119.399 1127.87 Q122.478 1123.26 128.288 1123.26 Z\" fill=\"#000000\" fill-rule=\"nonzero\" fill-opacity=\"1\" /><path clip-path=\"url(#clip640)\" d=\"M148.45 1152.57 L153.334 1152.57 L153.334 1158.45 L148.45 1158.45 L148.45 1152.57 Z\" fill=\"#000000\" fill-rule=\"nonzero\" fill-opacity=\"1\" /><path clip-path=\"url(#clip640)\" d=\"M167.547 1154.51 L183.866 1154.51 L183.866 1158.45 L161.922 1158.45 L161.922 1154.51 Q164.584 1151.76 169.167 1147.13 Q173.774 1142.48 174.954 1141.13 Q177.2 1138.61 178.079 1136.87 Q178.982 1135.11 178.982 1133.42 Q178.982 1130.67 177.038 1128.93 Q175.116 1127.2 172.014 1127.2 Q169.815 1127.2 167.362 1127.96 Q164.931 1128.73 162.153 1130.28 L162.153 1125.55 Q164.977 1124.42 167.431 1123.84 Q169.885 1123.26 171.922 1123.26 Q177.292 1123.26 180.487 1125.95 Q183.681 1128.63 183.681 1133.12 Q183.681 1135.25 182.871 1137.17 Q182.084 1139.07 179.977 1141.67 Q179.399 1142.34 176.297 1145.55 Q173.195 1148.75 167.547 1154.51 Z\" fill=\"#000000\" fill-rule=\"nonzero\" fill-opacity=\"1\" /><path clip-path=\"url(#clip640)\" d=\"M127.339 943.046 Q123.728 943.046 121.899 946.61 Q120.093 950.152 120.093 957.282 Q120.093 964.388 121.899 967.953 Q123.728 971.494 127.339 971.494 Q130.973 971.494 132.779 967.953 Q134.607 964.388 134.607 957.282 Q134.607 950.152 132.779 946.61 Q130.973 943.046 127.339 943.046 M127.339 939.342 Q133.149 939.342 136.204 943.948 Q139.283 948.532 139.283 957.282 Q139.283 966.008 136.204 970.615 Q133.149 975.198 127.339 975.198 Q121.529 975.198 118.45 970.615 Q115.394 966.008 115.394 957.282 Q115.394 948.532 118.45 943.948 Q121.529 939.342 127.339 939.342 Z\" fill=\"#000000\" fill-rule=\"nonzero\" fill-opacity=\"1\" /><path clip-path=\"url(#clip640)\" d=\"M147.501 968.647 L152.385 968.647 L152.385 974.527 L147.501 974.527 L147.501 968.647 Z\" fill=\"#000000\" fill-rule=\"nonzero\" fill-opacity=\"1\" /><path clip-path=\"url(#clip640)\" d=\"M176.737 955.893 Q180.093 956.61 181.968 958.879 Q183.866 961.147 183.866 964.481 Q183.866 969.596 180.348 972.397 Q176.829 975.198 170.348 975.198 Q168.172 975.198 165.857 974.758 Q163.565 974.342 161.112 973.485 L161.112 968.971 Q163.056 970.106 165.371 970.684 Q167.686 971.263 170.209 971.263 Q174.607 971.263 176.899 969.527 Q179.214 967.791 179.214 964.481 Q179.214 961.425 177.061 959.712 Q174.931 957.976 171.112 957.976 L167.084 957.976 L167.084 954.133 L171.297 954.133 Q174.746 954.133 176.575 952.768 Q178.403 951.379 178.403 948.786 Q178.403 946.124 176.505 944.712 Q174.63 943.277 171.112 943.277 Q169.19 943.277 166.991 943.694 Q164.792 944.11 162.153 944.99 L162.153 940.823 Q164.815 940.083 167.13 939.712 Q169.468 939.342 171.528 939.342 Q176.852 939.342 179.954 941.772 Q183.056 944.18 183.056 948.3 Q183.056 951.171 181.413 953.161 Q179.769 955.129 176.737 955.893 Z\" fill=\"#000000\" fill-rule=\"nonzero\" fill-opacity=\"1\" /><path clip-path=\"url(#clip640)\" d=\"M126.205 759.125 Q122.593 759.125 120.765 762.689 Q118.959 766.231 118.959 773.361 Q118.959 780.467 120.765 784.032 Q122.593 787.574 126.205 787.574 Q129.839 787.574 131.644 784.032 Q133.473 780.467 133.473 773.361 Q133.473 766.231 131.644 762.689 Q129.839 759.125 126.205 759.125 M126.205 755.421 Q132.015 755.421 135.07 760.027 Q138.149 764.611 138.149 773.361 Q138.149 782.088 135.07 786.694 Q132.015 791.277 126.205 791.277 Q120.394 791.277 117.316 786.694 Q114.26 782.088 114.26 773.361 Q114.26 764.611 117.316 760.027 Q120.394 755.421 126.205 755.421 Z\" fill=\"#000000\" fill-rule=\"nonzero\" fill-opacity=\"1\" /><path clip-path=\"url(#clip640)\" d=\"M146.366 784.726 L151.251 784.726 L151.251 790.606 L146.366 790.606 L146.366 784.726 Z\" fill=\"#000000\" fill-rule=\"nonzero\" fill-opacity=\"1\" /><path clip-path=\"url(#clip640)\" d=\"M174.283 760.12 L162.477 778.569 L174.283 778.569 L174.283 760.12 M173.056 756.046 L178.936 756.046 L178.936 778.569 L183.866 778.569 L183.866 782.458 L178.936 782.458 L178.936 790.606 L174.283 790.606 L174.283 782.458 L158.681 782.458 L158.681 777.944 L173.056 756.046 Z\" fill=\"#000000\" fill-rule=\"nonzero\" fill-opacity=\"1\" /><path clip-path=\"url(#clip640)\" d=\"M127.686 575.204 Q124.075 575.204 122.246 578.769 Q120.441 582.31 120.441 589.44 Q120.441 596.546 122.246 600.111 Q124.075 603.653 127.686 603.653 Q131.32 603.653 133.126 600.111 Q134.954 596.546 134.954 589.44 Q134.954 582.31 133.126 578.769 Q131.32 575.204 127.686 575.204 M127.686 571.5 Q133.496 571.5 136.552 576.107 Q139.63 580.69 139.63 589.44 Q139.63 598.167 136.552 602.773 Q133.496 607.356 127.686 607.356 Q121.876 607.356 118.797 602.773 Q115.742 598.167 115.742 589.44 Q115.742 580.69 118.797 576.107 Q121.876 571.5 127.686 571.5 Z\" fill=\"#000000\" fill-rule=\"nonzero\" fill-opacity=\"1\" /><path clip-path=\"url(#clip640)\" d=\"M147.848 600.805 L152.732 600.805 L152.732 606.685 L147.848 606.685 L147.848 600.805 Z\" fill=\"#000000\" fill-rule=\"nonzero\" fill-opacity=\"1\" /><path clip-path=\"url(#clip640)\" d=\"M162.964 572.125 L181.32 572.125 L181.32 576.06 L167.246 576.06 L167.246 584.532 Q168.264 584.185 169.283 584.023 Q170.302 583.838 171.32 583.838 Q177.107 583.838 180.487 587.009 Q183.866 590.181 183.866 595.597 Q183.866 601.176 180.394 604.278 Q176.922 607.356 170.602 607.356 Q168.427 607.356 166.158 606.986 Q163.913 606.616 161.505 605.875 L161.505 601.176 Q163.589 602.31 165.811 602.866 Q168.033 603.421 170.51 603.421 Q174.514 603.421 176.852 601.315 Q179.19 599.208 179.19 595.597 Q179.19 591.986 176.852 589.88 Q174.514 587.773 170.51 587.773 Q168.635 587.773 166.76 588.19 Q164.908 588.606 162.964 589.486 L162.964 572.125 Z\" fill=\"#000000\" fill-rule=\"nonzero\" fill-opacity=\"1\" /><path clip-path=\"url(#clip640)\" d=\"M126.529 391.283 Q122.918 391.283 121.089 394.848 Q119.283 398.389 119.283 405.519 Q119.283 412.625 121.089 416.19 Q122.918 419.732 126.529 419.732 Q130.163 419.732 131.968 416.19 Q133.797 412.625 133.797 405.519 Q133.797 398.389 131.968 394.848 Q130.163 391.283 126.529 391.283 M126.529 387.579 Q132.339 387.579 135.394 392.186 Q138.473 396.769 138.473 405.519 Q138.473 414.246 135.394 418.852 Q132.339 423.435 126.529 423.435 Q120.718 423.435 117.64 418.852 Q114.584 414.246 114.584 405.519 Q114.584 396.769 117.64 392.186 Q120.718 387.579 126.529 387.579 Z\" fill=\"#000000\" fill-rule=\"nonzero\" fill-opacity=\"1\" /><path clip-path=\"url(#clip640)\" d=\"M146.691 416.885 L151.575 416.885 L151.575 422.764 L146.691 422.764 L146.691 416.885 Z\" fill=\"#000000\" fill-rule=\"nonzero\" fill-opacity=\"1\" /><path clip-path=\"url(#clip640)\" d=\"M172.339 403.621 Q169.19 403.621 167.339 405.774 Q165.51 407.926 165.51 411.676 Q165.51 415.403 167.339 417.579 Q169.19 419.732 172.339 419.732 Q175.487 419.732 177.315 417.579 Q179.167 415.403 179.167 411.676 Q179.167 407.926 177.315 405.774 Q175.487 403.621 172.339 403.621 M181.621 388.968 L181.621 393.227 Q179.862 392.394 178.056 391.954 Q176.274 391.514 174.514 391.514 Q169.885 391.514 167.431 394.639 Q165.001 397.764 164.653 404.084 Q166.019 402.07 168.079 401.005 Q170.139 399.917 172.616 399.917 Q177.825 399.917 180.834 403.088 Q183.866 406.236 183.866 411.676 Q183.866 417 180.718 420.218 Q177.57 423.435 172.339 423.435 Q166.343 423.435 163.172 418.852 Q160.001 414.246 160.001 405.519 Q160.001 397.324 163.89 392.463 Q167.778 387.579 174.329 387.579 Q176.089 387.579 177.871 387.926 Q179.676 388.274 181.621 388.968 Z\" fill=\"#000000\" fill-rule=\"nonzero\" fill-opacity=\"1\" /><path clip-path=\"url(#clip640)\" d=\"M127.593 207.362 Q123.982 207.362 122.154 210.927 Q120.348 214.468 120.348 221.598 Q120.348 228.704 122.154 232.269 Q123.982 235.811 127.593 235.811 Q131.228 235.811 133.033 232.269 Q134.862 228.704 134.862 221.598 Q134.862 214.468 133.033 210.927 Q131.228 207.362 127.593 207.362 M127.593 203.658 Q133.404 203.658 136.459 208.265 Q139.538 212.848 139.538 221.598 Q139.538 230.325 136.459 234.931 Q133.404 239.515 127.593 239.515 Q121.783 239.515 118.705 234.931 Q115.649 230.325 115.649 221.598 Q115.649 212.848 118.705 208.265 Q121.783 203.658 127.593 203.658 Z\" fill=\"#000000\" fill-rule=\"nonzero\" fill-opacity=\"1\" /><path clip-path=\"url(#clip640)\" d=\"M147.755 232.964 L152.64 232.964 L152.64 238.843 L147.755 238.843 L147.755 232.964 Z\" fill=\"#000000\" fill-rule=\"nonzero\" fill-opacity=\"1\" /><path clip-path=\"url(#clip640)\" d=\"M161.644 204.283 L183.866 204.283 L183.866 206.274 L171.32 238.843 L166.436 238.843 L178.241 208.218 L161.644 208.218 L161.644 204.283 Z\" fill=\"#000000\" fill-rule=\"nonzero\" fill-opacity=\"1\" /><path clip-path=\"url(#clip640)\" d=\"M21.7677 862.239 L39.6235 862.239 L39.6235 854.155 Q39.6235 849.667 37.3 847.216 Q34.9765 844.765 30.6797 844.765 Q26.4147 844.765 24.0912 847.216 Q21.7677 849.667 21.7677 854.155 L21.7677 862.239 M16.4842 868.668 L16.4842 854.155 Q16.4842 846.166 20.1126 842.092 Q23.7092 837.986 30.6797 837.986 Q37.7138 837.986 41.3104 842.092 Q44.907 846.166 44.907 854.155 L44.907 862.239 L64.0042 862.239 L64.0042 868.668 L16.4842 868.668 Z\" fill=\"#000000\" fill-rule=\"nonzero\" fill-opacity=\"1\" /><path clip-path=\"url(#clip640)\" d=\"M32.4621 818.125 Q32.4621 822.835 36.1542 825.573 Q39.8145 828.31 46.212 828.31 Q52.6095 828.31 56.3017 825.604 Q59.9619 822.867 59.9619 818.125 Q59.9619 813.446 56.2698 810.709 Q52.5777 807.971 46.212 807.971 Q39.8781 807.971 36.186 810.709 Q32.4621 813.446 32.4621 818.125 M27.4968 818.125 Q27.4968 810.486 32.4621 806.125 Q37.4273 801.765 46.212 801.765 Q54.9649 801.765 59.9619 806.125 Q64.9272 810.486 64.9272 818.125 Q64.9272 825.795 59.9619 830.156 Q54.9649 834.485 46.212 834.485 Q37.4273 834.485 32.4621 830.156 Q27.4968 825.795 27.4968 818.125 Z\" fill=\"#000000\" fill-rule=\"nonzero\" fill-opacity=\"1\" /><path clip-path=\"url(#clip640)\" d=\"M28.3562 795.463 L28.3562 789.606 L56.1743 782.286 L28.3562 774.997 L28.3562 768.09 L56.1743 760.77 L28.3562 753.481 L28.3562 747.624 L64.0042 756.95 L64.0042 763.857 L34.7856 771.528 L64.0042 779.23 L64.0042 786.137 L28.3562 795.463 Z\" fill=\"#000000\" fill-rule=\"nonzero\" fill-opacity=\"1\" /><path clip-path=\"url(#clip640)\" d=\"M44.7161 708.253 L47.5806 708.253 L47.5806 735.179 Q53.6281 734.798 56.8109 731.551 Q59.9619 728.273 59.9619 722.448 Q59.9619 719.074 59.1344 715.923 Q58.3069 712.74 56.6518 709.621 L62.1899 709.621 Q63.5267 712.772 64.227 716.082 Q64.9272 719.393 64.9272 722.798 Q64.9272 731.328 59.9619 736.325 Q54.9967 741.291 46.5303 741.291 Q37.7774 741.291 32.6531 736.58 Q27.4968 731.837 27.4968 723.817 Q27.4968 716.623 32.1438 712.454 Q36.7589 708.253 44.7161 708.253 M42.9973 714.109 Q38.1912 714.173 35.3266 716.814 Q32.4621 719.424 32.4621 723.753 Q32.4621 728.655 35.2312 731.615 Q38.0002 734.543 43.0292 734.989 L42.9973 714.109 Z\" fill=\"#000000\" fill-rule=\"nonzero\" fill-opacity=\"1\" /><path clip-path=\"url(#clip640)\" d=\"M33.8307 677.984 Q33.2578 678.97 33.0032 680.148 Q32.7167 681.294 32.7167 682.694 Q32.7167 687.659 35.9632 690.333 Q39.1779 692.975 45.2253 692.975 L64.0042 692.975 L64.0042 698.863 L28.3562 698.863 L28.3562 692.975 L33.8944 692.975 Q30.6479 691.129 29.0883 688.169 Q27.4968 685.209 27.4968 680.975 Q27.4968 680.371 27.5923 679.639 Q27.656 678.907 27.8151 678.015 L33.8307 677.984 Z\" fill=\"#000000\" fill-rule=\"nonzero\" fill-opacity=\"1\" /><path clip-path=\"url(#clip640)\" d=\"M783.999 18.8205 L783.999 41.5461 L794.288 41.5461 Q800 41.5461 803.119 38.5889 Q806.238 35.6318 806.238 30.163 Q806.238 24.7348 803.119 21.7777 Q800 18.8205 794.288 18.8205 L783.999 18.8205 M775.816 12.096 L794.288 12.096 Q804.456 12.096 809.641 16.714 Q814.867 21.2916 814.867 30.163 Q814.867 39.1155 809.641 43.6931 Q804.456 48.2706 794.288 48.2706 L783.999 48.2706 L783.999 72.576 L775.816 72.576 L775.816 12.096 Z\" fill=\"#000000\" fill-rule=\"nonzero\" fill-opacity=\"1\" /><path clip-path=\"url(#clip640)\" d=\"M840.144 32.4315 Q834.149 32.4315 830.665 37.1306 Q827.182 41.7891 827.182 49.9314 Q827.182 58.0738 830.625 62.7728 Q834.109 67.4314 840.144 67.4314 Q846.099 67.4314 849.583 62.7323 Q853.067 58.0333 853.067 49.9314 Q853.067 41.8701 849.583 37.1711 Q846.099 32.4315 840.144 32.4315 M840.144 26.1121 Q849.867 26.1121 855.416 32.4315 Q860.966 38.7509 860.966 49.9314 Q860.966 61.0714 855.416 67.4314 Q849.867 73.7508 840.144 73.7508 Q830.382 73.7508 824.832 67.4314 Q819.323 61.0714 819.323 49.9314 Q819.323 38.7509 824.832 32.4315 Q830.382 26.1121 840.144 26.1121 Z\" fill=\"#000000\" fill-rule=\"nonzero\" fill-opacity=\"1\" /><path clip-path=\"url(#clip640)\" d=\"M868.987 27.2059 L876.441 27.2059 L885.758 62.6108 L895.034 27.2059 L903.825 27.2059 L913.142 62.6108 L922.418 27.2059 L929.872 27.2059 L918.003 72.576 L909.212 72.576 L899.45 35.3887 L889.647 72.576 L880.856 72.576 L868.987 27.2059 Z\" fill=\"#000000\" fill-rule=\"nonzero\" fill-opacity=\"1\" /><path clip-path=\"url(#clip640)\" d=\"M979.982 48.0275 L979.982 51.6733 L945.711 51.6733 Q946.197 59.3701 950.329 63.421 Q954.502 67.4314 961.915 67.4314 Q966.209 67.4314 970.219 66.3781 Q974.27 65.3249 978.24 63.2184 L978.24 70.267 Q974.229 71.9684 970.016 72.8596 Q965.804 73.7508 961.469 73.7508 Q950.613 73.7508 944.253 67.4314 Q937.933 61.1119 937.933 50.3365 Q937.933 39.1965 943.929 32.6746 Q949.965 26.1121 960.173 26.1121 Q969.328 26.1121 974.635 32.0264 Q979.982 37.9003 979.982 48.0275 M972.528 45.84 Q972.447 39.7232 969.085 36.0774 Q965.763 32.4315 960.254 32.4315 Q954.015 32.4315 950.248 35.9558 Q946.521 39.4801 945.954 45.8805 L972.528 45.84 Z\" fill=\"#000000\" fill-rule=\"nonzero\" fill-opacity=\"1\" /><path clip-path=\"url(#clip640)\" d=\"M1018.51 34.1734 Q1017.25 33.4443 1015.75 33.1202 Q1014.29 32.7556 1012.51 32.7556 Q1006.19 32.7556 1002.79 36.8875 Q999.426 40.9789 999.426 48.6757 L999.426 72.576 L991.932 72.576 L991.932 27.2059 L999.426 27.2059 L999.426 34.2544 Q1001.78 30.1225 1005.54 28.1376 Q1009.31 26.1121 1014.7 26.1121 Q1015.47 26.1121 1016.4 26.2337 Q1017.33 26.3147 1018.47 26.5172 L1018.51 34.1734 Z\" fill=\"#000000\" fill-rule=\"nonzero\" fill-opacity=\"1\" /><path clip-path=\"url(#clip640)\" d=\"M1047.35 27.2059 L1055.25 27.2059 L1069.43 65.2844 L1083.6 27.2059 L1091.5 27.2059 L1074.49 72.576 L1064.36 72.576 L1047.35 27.2059 Z\" fill=\"#000000\" fill-rule=\"nonzero\" fill-opacity=\"1\" /><path clip-path=\"url(#clip640)\" d=\"M1130.72 28.5427 L1130.72 35.5912 Q1127.56 33.9709 1124.15 33.1607 Q1120.75 32.3505 1117.1 32.3505 Q1111.56 32.3505 1108.76 34.0519 Q1106.01 35.7533 1106.01 39.156 Q1106.01 41.7486 1107.99 43.2475 Q1109.98 44.7058 1115.97 46.0426 L1118.52 46.6097 Q1126.46 48.3111 1129.78 51.4303 Q1133.15 54.509 1133.15 60.0587 Q1133.15 66.3781 1128.12 70.0644 Q1123.14 73.7508 1114.39 73.7508 Q1110.74 73.7508 1106.78 73.0216 Q1102.85 72.3329 1098.47 70.9151 L1098.47 63.2184 Q1102.6 65.3654 1106.61 66.4591 Q1110.62 67.5124 1114.55 67.5124 Q1119.82 67.5124 1122.65 65.73 Q1125.49 63.9071 1125.49 60.6258 Q1125.49 57.5877 1123.42 55.9673 Q1121.4 54.3469 1114.47 52.8481 L1111.88 52.2405 Q1104.95 50.7821 1101.87 47.7845 Q1098.79 44.7463 1098.79 39.4801 Q1098.79 33.0797 1103.33 29.5959 Q1107.87 26.1121 1116.21 26.1121 Q1120.35 26.1121 1123.99 26.7198 Q1127.64 27.3274 1130.72 28.5427 Z\" fill=\"#000000\" fill-rule=\"nonzero\" fill-opacity=\"1\" /><path clip-path=\"url(#clip640)\" d=\"M1209.1 45.1919 L1209.1 72.576 L1201.65 72.576 L1201.65 45.4349 Q1201.65 38.994 1199.14 35.7938 Q1196.62 32.5936 1191.6 32.5936 Q1185.57 32.5936 1182.08 36.4419 Q1178.6 40.2903 1178.6 46.9338 L1178.6 72.576 L1171.1 72.576 L1171.1 27.2059 L1178.6 27.2059 L1178.6 34.2544 Q1181.27 30.163 1184.88 28.1376 Q1188.52 26.1121 1193.26 26.1121 Q1201.08 26.1121 1205.09 30.9732 Q1209.1 35.7938 1209.1 45.1919 Z\" fill=\"#000000\" fill-rule=\"nonzero\" fill-opacity=\"1\" /><path clip-path=\"url(#clip640)\" d=\"M1268.24 9.62495 Q1262.82 18.942 1260.18 28.0566 Q1257.55 37.1711 1257.55 46.5287 Q1257.55 55.8863 1260.18 65.0818 Q1262.86 74.2369 1268.24 83.5134 L1261.76 83.5134 Q1255.69 73.9938 1252.65 64.7983 Q1249.65 55.6027 1249.65 46.5287 Q1249.65 37.4952 1252.65 28.3401 Q1255.65 19.1851 1261.76 9.62495 L1268.24 9.62495 Z\" fill=\"#000000\" fill-rule=\"nonzero\" fill-opacity=\"1\" /><path clip-path=\"url(#clip640)\" d=\"M1318.03 35.9153 Q1320.82 30.8922 1324.71 28.5022 Q1328.6 26.1121 1333.87 26.1121 Q1340.96 26.1121 1344.81 31.0947 Q1348.65 36.0368 1348.65 45.1919 L1348.65 72.576 L1341.16 72.576 L1341.16 45.4349 Q1341.16 38.913 1338.85 35.7533 Q1336.54 32.5936 1331.8 32.5936 Q1326.01 32.5936 1322.65 36.4419 Q1319.29 40.2903 1319.29 46.9338 L1319.29 72.576 L1311.79 72.576 L1311.79 45.4349 Q1311.79 38.8725 1309.48 35.7533 Q1307.17 32.5936 1302.35 32.5936 Q1296.64 32.5936 1293.28 36.4824 Q1289.92 40.3308 1289.92 46.9338 L1289.92 72.576 L1282.42 72.576 L1282.42 27.2059 L1289.92 27.2059 L1289.92 34.2544 Q1292.47 30.082 1296.03 28.0971 Q1299.6 26.1121 1304.5 26.1121 Q1309.44 26.1121 1312.89 28.6237 Q1316.37 31.1352 1318.03 35.9153 Z\" fill=\"#000000\" fill-rule=\"nonzero\" fill-opacity=\"1\" /><path clip-path=\"url(#clip640)\" d=\"M1390.86 34.9026 L1442.8 34.9026 L1442.8 41.7081 L1390.86 41.7081 L1390.86 34.9026 M1390.86 51.4303 L1442.8 51.4303 L1442.8 58.3168 L1390.86 58.3168 L1390.86 51.4303 Z\" fill=\"#000000\" fill-rule=\"nonzero\" fill-opacity=\"1\" /><path clip-path=\"url(#clip640)\" d=\"M1493.88 65.6895 L1522.44 65.6895 L1522.44 72.576 L1484.04 72.576 L1484.04 65.6895 Q1488.69 60.8689 1496.72 52.7671 Q1504.78 44.6248 1506.84 42.2752 Q1510.77 37.8598 1512.31 34.8216 Q1513.89 31.7429 1513.89 28.7857 Q1513.89 23.9651 1510.49 20.927 Q1507.13 17.8888 1501.7 17.8888 Q1497.85 17.8888 1493.56 19.2256 Q1489.3 20.5624 1484.44 23.2765 L1484.44 15.0127 Q1489.38 13.0277 1493.68 12.015 Q1497.97 11.0023 1501.54 11.0023 Q1510.93 11.0023 1516.52 15.7013 Q1522.11 20.4004 1522.11 28.2591 Q1522.11 31.9859 1520.7 35.3482 Q1519.32 38.6699 1515.63 43.2069 Q1514.62 44.3817 1509.19 50.0125 Q1503.76 55.6027 1493.88 65.6895 Z\" fill=\"#000000\" fill-rule=\"nonzero\" fill-opacity=\"1\" /><path clip-path=\"url(#clip640)\" d=\"M1557.11 17.4837 Q1550.79 17.4837 1547.59 23.7221 Q1544.43 29.92 1544.43 42.3968 Q1544.43 54.833 1547.59 61.0714 Q1550.79 67.2693 1557.11 67.2693 Q1563.47 67.2693 1566.63 61.0714 Q1569.83 54.833 1569.83 42.3968 Q1569.83 29.92 1566.63 23.7221 Q1563.47 17.4837 1557.11 17.4837 M1557.11 11.0023 Q1567.28 11.0023 1572.63 19.0636 Q1578.02 27.0843 1578.02 42.3968 Q1578.02 57.6687 1572.63 65.73 Q1567.28 73.7508 1557.11 73.7508 Q1546.95 73.7508 1541.56 65.73 Q1536.21 57.6687 1536.21 42.3968 Q1536.21 27.0843 1541.56 19.0636 Q1546.95 11.0023 1557.11 11.0023 Z\" fill=\"#000000\" fill-rule=\"nonzero\" fill-opacity=\"1\" /><path clip-path=\"url(#clip640)\" d=\"M1609.9 17.4837 Q1603.58 17.4837 1600.38 23.7221 Q1597.22 29.92 1597.22 42.3968 Q1597.22 54.833 1600.38 61.0714 Q1603.58 67.2693 1609.9 67.2693 Q1616.26 67.2693 1619.42 61.0714 Q1622.62 54.833 1622.62 42.3968 Q1622.62 29.92 1619.42 23.7221 Q1616.26 17.4837 1609.9 17.4837 M1609.9 11.0023 Q1620.07 11.0023 1625.41 19.0636 Q1630.8 27.0843 1630.8 42.3968 Q1630.8 57.6687 1625.41 65.73 Q1620.07 73.7508 1609.9 73.7508 Q1599.73 73.7508 1594.34 65.73 Q1588.99 57.6687 1588.99 42.3968 Q1588.99 27.0843 1594.34 19.0636 Q1599.73 11.0023 1609.9 11.0023 Z\" fill=\"#000000\" fill-rule=\"nonzero\" fill-opacity=\"1\" /><path clip-path=\"url(#clip640)\" d=\"M1666.73 46.5287 L1688.57 46.5287 L1688.57 53.1722 L1666.73 53.1722 L1666.73 46.5287 Z\" fill=\"#000000\" fill-rule=\"nonzero\" fill-opacity=\"1\" /><path clip-path=\"url(#clip640)\" d=\"M1764.52 45.1919 L1764.52 72.576 L1757.07 72.576 L1757.07 45.4349 Q1757.07 38.994 1754.56 35.7938 Q1752.04 32.5936 1747.02 32.5936 Q1740.98 32.5936 1737.5 36.4419 Q1734.02 40.2903 1734.02 46.9338 L1734.02 72.576 L1726.52 72.576 L1726.52 27.2059 L1734.02 27.2059 L1734.02 34.2544 Q1736.69 30.163 1740.3 28.1376 Q1743.94 26.1121 1748.68 26.1121 Q1756.5 26.1121 1760.51 30.9732 Q1764.52 35.7938 1764.52 45.1919 Z\" fill=\"#000000\" fill-rule=\"nonzero\" fill-opacity=\"1\" /><path clip-path=\"url(#clip640)\" d=\"M1778.21 9.62495 L1784.69 9.62495 Q1790.77 19.1851 1793.77 28.3401 Q1796.81 37.4952 1796.81 46.5287 Q1796.81 55.6027 1793.77 64.7983 Q1790.77 73.9938 1784.69 83.5134 L1778.21 83.5134 Q1783.6 74.2369 1786.23 65.0818 Q1788.91 55.8863 1788.91 46.5287 Q1788.91 37.1711 1786.23 28.0566 Q1783.6 18.942 1778.21 9.62495 Z\" fill=\"#000000\" fill-rule=\"nonzero\" fill-opacity=\"1\" /><polyline clip-path=\"url(#clip642)\" style=\"stroke:#009af9; stroke-linecap:round; stroke-linejoin:round; stroke-width:4; stroke-opacity:1; fill:none\" points=\"280.231,1386.4 463.155,1263.78 1072.9,528.098 1682.65,221.563 2292.39,160.256 \"/>\n",
       "<polyline clip-path=\"url(#clip642)\" style=\"stroke:#e26f46; stroke-linecap:round; stroke-linejoin:round; stroke-width:4; stroke-opacity:1; fill:none\" stroke-dasharray=\"16, 10\" points=\"280.231,1386.4 463.155,1263.78 1072.9,1079.86 1682.65,957.247 2292.39,895.94 \"/>\n",
       "<path clip-path=\"url(#clip640)\" d=\"M1951.52 1379.86 L2281.66 1379.86 L2281.66 1224.34 L1951.52 1224.34  Z\" fill=\"#ffffff\" fill-rule=\"evenodd\" fill-opacity=\"1\"/>\n",
       "<polyline clip-path=\"url(#clip640)\" style=\"stroke:#000000; stroke-linecap:round; stroke-linejoin:round; stroke-width:4; stroke-opacity:1; fill:none\" points=\"1951.52,1379.86 2281.66,1379.86 2281.66,1224.34 1951.52,1224.34 1951.52,1379.86 \"/>\n",
       "<polyline clip-path=\"url(#clip640)\" style=\"stroke:#009af9; stroke-linecap:round; stroke-linejoin:round; stroke-width:4; stroke-opacity:1; fill:none\" points=\"1975.22,1276.18 2117.41,1276.18 \"/>\n",
       "<path clip-path=\"url(#clip640)\" d=\"M2141.11 1258.9 L2145.83 1258.9 L2153.1 1288.11 L2160.35 1258.9 L2165.6 1258.9 L2172.87 1288.11 L2180.11 1258.9 L2184.86 1258.9 L2176.18 1293.46 L2170.3 1293.46 L2163.01 1263.46 L2155.65 1293.46 L2149.77 1293.46 L2141.11 1258.9 Z\" fill=\"#000000\" fill-rule=\"nonzero\" fill-opacity=\"1\" /><path clip-path=\"url(#clip640)\" d=\"M2198.15 1270.52 Q2194.72 1270.52 2192.73 1273.2 Q2190.74 1275.86 2190.74 1280.52 Q2190.74 1285.17 2192.71 1287.85 Q2194.7 1290.52 2198.15 1290.52 Q2201.55 1290.52 2203.54 1287.83 Q2205.53 1285.15 2205.53 1280.52 Q2205.53 1275.91 2203.54 1273.22 Q2201.55 1270.52 2198.15 1270.52 M2198.15 1266.91 Q2203.7 1266.91 2206.87 1270.52 Q2210.04 1274.13 2210.04 1280.52 Q2210.04 1286.88 2206.87 1290.52 Q2203.7 1294.13 2198.15 1294.13 Q2192.57 1294.13 2189.4 1290.52 Q2186.25 1286.88 2186.25 1280.52 Q2186.25 1274.13 2189.4 1270.52 Q2192.57 1266.91 2198.15 1266.91 Z\" fill=\"#000000\" fill-rule=\"nonzero\" fill-opacity=\"1\" /><path clip-path=\"url(#clip640)\" d=\"M2214.21 1258.9 L2218.93 1258.9 L2226.2 1288.11 L2233.45 1258.9 L2238.7 1258.9 L2245.97 1288.11 L2253.22 1258.9 L2257.96 1258.9 L2249.28 1293.46 L2243.4 1293.46 L2236.11 1263.46 L2228.75 1293.46 L2222.87 1293.46 L2214.21 1258.9 Z\" fill=\"#000000\" fill-rule=\"nonzero\" fill-opacity=\"1\" /><polyline clip-path=\"url(#clip640)\" style=\"stroke:#e26f46; stroke-linecap:round; stroke-linejoin:round; stroke-width:4; stroke-opacity:1; fill:none\" stroke-dasharray=\"16, 10\" points=\"1975.22,1328.02 2117.41,1328.02 \"/>\n",
       "<path clip-path=\"url(#clip640)\" d=\"M2141.11 1310.74 L2145.79 1310.74 L2145.79 1324.9 L2162.78 1324.9 L2162.78 1310.74 L2167.45 1310.74 L2167.45 1345.3 L2162.78 1345.3 L2162.78 1328.84 L2145.79 1328.84 L2145.79 1345.3 L2141.11 1345.3 L2141.11 1310.74 Z\" fill=\"#000000\" fill-rule=\"nonzero\" fill-opacity=\"1\" /><path clip-path=\"url(#clip640)\" d=\"M2176.76 1310.74 L2181.43 1310.74 L2181.43 1345.3 L2176.76 1345.3 L2176.76 1310.74 Z\" fill=\"#000000\" fill-rule=\"nonzero\" fill-opacity=\"1\" /><path clip-path=\"url(#clip640)\" d=\"M2195.41 1314.58 L2195.41 1327.56 L2201.29 1327.56 Q2204.56 1327.56 2206.34 1325.88 Q2208.12 1324.19 2208.12 1321.06 Q2208.12 1317.96 2206.34 1316.27 Q2204.56 1314.58 2201.29 1314.58 L2195.41 1314.58 M2190.74 1310.74 L2201.29 1310.74 Q2207.1 1310.74 2210.07 1313.38 Q2213.05 1315.99 2213.05 1321.06 Q2213.05 1326.18 2210.07 1328.79 Q2207.1 1331.41 2201.29 1331.41 L2195.41 1331.41 L2195.41 1345.3 L2190.74 1345.3 L2190.74 1310.74 Z\" fill=\"#000000\" fill-rule=\"nonzero\" fill-opacity=\"1\" /><path clip-path=\"url(#clip640)\" d=\"M2219.33 1310.74 L2226.29 1310.74 L2235.11 1334.25 L2243.98 1310.74 L2250.95 1310.74 L2250.95 1345.3 L2246.39 1345.3 L2246.39 1314.95 L2237.47 1338.65 L2232.78 1338.65 L2223.86 1314.95 L2223.86 1345.3 L2219.33 1345.3 L2219.33 1310.74 Z\" fill=\"#000000\" fill-rule=\"nonzero\" fill-opacity=\"1\" /></svg>\n"
      ]
     },
     "execution_count": 26,
     "metadata": {},
     "output_type": "execute_result"
    }
   ],
   "source": [
    "plot(d, getindex.(powers, 1), label=\"WoW\", xlabel=\"n\", ylabel=\"Power\", title=\"Power vs n (m = $(max_budget) - n)\", legend=:bottomright)\n",
    "plot!(d, getindex.(powers, 2), label=\"HIPM\", linestyle=:dash)\n"
   ]
  },
  {
   "cell_type": "code",
   "execution_count": null,
   "id": "0daaaae3",
   "metadata": {},
   "outputs": [],
   "source": []
  },
  {
   "cell_type": "markdown",
   "id": "66f41fef",
   "metadata": {},
   "source": [
    "# Power grid per $n$ and $m$"
   ]
  },
  {
   "cell_type": "code",
   "execution_count": 27,
   "id": "7dc89dec",
   "metadata": {},
   "outputs": [],
   "source": [
    "# ns, ms = collect(10:10:100), collect(10:10:100)\n",
    "\n",
    "\n",
    "# methods = [ww, dlip] # list of distance functions to be used\n",
    "# method_names = [\"WoW\", \"HIPM\"]\n",
    "# powers = [rej_rates(n_i, m_j) for n_i in ns, m_j in ms] # powers is a matrix where rows correspond to different n's and columns to different m's.\n",
    "#                                                   # Each entry is a vector of length(menthods) where elements correspond to power for associated method"
   ]
  },
  {
   "cell_type": "code",
   "execution_count": 28,
   "id": "e1358670",
   "metadata": {},
   "outputs": [],
   "source": [
    "# methods = [ww, dlip] # list of distance functions to be used\n",
    "# method_names = [\"WoW\", \"HIPM\"]"
   ]
  },
  {
   "cell_type": "markdown",
   "id": "ac58336e",
   "metadata": {},
   "source": []
  }
 ],
 "metadata": {
  "kernelspec": {
   "display_name": "Julia 1.11.6",
   "language": "julia",
   "name": "julia-1.11"
  },
  "language_info": {
   "file_extension": ".jl",
   "mimetype": "application/julia",
   "name": "julia",
   "version": "1.11.6"
  }
 },
 "nbformat": 4,
 "nbformat_minor": 5
}
