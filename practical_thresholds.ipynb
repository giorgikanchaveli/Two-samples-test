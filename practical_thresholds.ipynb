{
 "cells": [
  {
   "cell_type": "code",
   "execution_count": null,
   "id": "b42a9108",
   "metadata": {},
   "outputs": [],
   "source": [
    "using Plots\n",
    "\n",
    "\n",
    "include(\"distributions.jl\")\n",
    "include(\"structures.jl\")\n",
    "include(\"distances/w_distance.jl\") # ar mchirdeba? \n",
    "include(\"distances/new_distance.jl\")\n",
    "include(\"distances/distance_Wasserstein.jl\")\n"
   ]
  },
  {
   "cell_type": "code",
   "execution_count": null,
   "id": "aca3da1e",
   "metadata": {},
   "outputs": [],
   "source": [
    "\n",
    "\n",
    "function sample_distances_thresholds(q_1::PPM, q_2::PPM, n::Int, m::Int, s::Int, θs::Vector{Float64}, n_permutations::Int)\n",
    "    # This functions samples distances between hierarchical empirical measures and also gets thresholds for each of the distance using permutatoin approach\n",
    "    \n",
    "    # q_1 :: Law of random probabiity measure Q^1\n",
    "    # q_2 :: Law of random probabiity measure Q^2\n",
    "    # n :: Number of rows in hierarchical sample\n",
    "    # m :: Number of columns in hierarchical sample\n",
    "    # s :: Number of distances sampled\n",
    "    # θs :: Vector of probability levels for thresholds\n",
    "    # n_permutations :: Number of permutations for permutation approach\n",
    "\n",
    "    d_wws = Vector{Float64}(undef, s)\n",
    "    d_lips = Vector{Float64}(undef, s)\n",
    "\n",
    "    perm_thresholds = zeros(length(θs), s, 2) # first dimension corresponds to probability level θ, second one - generated empirical measure, third one - distance function(WoW or HIPM)\n",
    "\n",
    "    for i in 1:s\n",
    "        emp_1, emp_2 = generate_emp(q_1, n, m), generate_emp(q_2, n, m) # Q^1_{n,m}, Q^2_{n,m}\n",
    "        d_wws[i] = ww(emp_1, emp_2)\n",
    "        d_lips[i] = dlip(emp_1, emp_2)\n",
    "        \n",
    "        # now we get threshold for each distance per each probability level θ. This is different from threshold via Rademacher complexity because here threshold\n",
    "        # depends on the generated empirical measures.\n",
    "\n",
    "        # To get threshold we first obtain approximate samples of d(Q^1_{n,m}, Q^2_{n,m}) that we call permuted_samples\n",
    "        permuted_samples_ww = zeros(n_permutations)\n",
    "        permuted_samples_dlip = zeros(n_permutations)\n",
    "\n",
    "        for k in 1:n_permutations\n",
    "            total_rows = vcat(emp_1.atoms, emp_2.atoms)\n",
    "            random_indices = randperm(2n) # indices to distribute rows to new hierarchical meausures\n",
    "\n",
    "            emp_1_permuted = emp_ppm(total_rows[random_indices[1:n],:], n, m, emp_1.a, emp_1.b)\n",
    "            emp_2_permuted = emp_ppm(total_rows[random_indices[n+1:end],:], n, m, emp_2.a, emp_2.b)\n",
    "\n",
    "            permuted_samples_ww[k] = ww(emp_1_permuted, emp_2_permuted)\n",
    "            permuted_samples_dlip[k] = dlip(emp_1_permuted, emp_2_permuted)\n",
    "        end\n",
    "\n",
    "        # Now we compute thresholds for each distance function and probability level θ\n",
    "        perm_thresholds[:, i, 1] = quantile(sqrt(n/2) * permuted_samples_ww, 1 .- θs) # thresholds for WoW\n",
    "        perm_thresholds[:, i, 2] = quantile(sqrt(n/2) * permuted_samples_dlip, 1 .- θs) # thresholds for HIPM\n",
    "    end\n",
    "\n",
    "    return d_wws, d_lips, perm_thresholds\n",
    "end"
   ]
  },
  {
   "cell_type": "code",
   "execution_count": null,
   "id": "79a324d2",
   "metadata": {},
   "outputs": [],
   "source": [
    "function rejection_rate(d_wws::Vector{Float64}, d_lips::Vector{Float64}, perm_thresholds::Array{Float64,3}, θs::Vector{Float64})\n",
    "    # Given sampled distances and thresholds we compute rejection rates for each distance function and probability level θ\n",
    "\n",
    "    n = length(d_wws)\n",
    "    n_θ = length(θs)\n",
    "    rej_rates = zeros(n_θ, 2) # first column corresponds to WoW, second - dlip. Row corresponds to levels of θs.\n",
    "\n",
    "    for i in 1:n_θ\n",
    "        thresh_ww = perm_thresholds[i, :, 1]\n",
    "        thresh_dlip = perm_thresholds[i, :, 2]\n",
    "\n",
    "        rej_rates[i, 1] = sum(sqrt(n / 2) * d_wws .> thresh_ww) / n\n",
    "        rej_rates[i, 2] = sum(sqrt(n / 2) * d_lips .> thresh_dlip) / n\n",
    "    end\n",
    "\n",
    "    return rej_rates\n",
    "end\n",
    "\n"
   ]
  },
  {
   "cell_type": "code",
   "execution_count": null,
   "id": "c615f7ee",
   "metadata": {},
   "outputs": [],
   "source": [
    "\n",
    "q_discr_1 = discrrpm(10,10,0.0,1.0) \n",
    "q_discr_2 = discrrpm(10,10,0.0,1.0)\n",
    "\n",
    "s = 1 # number of times to sample distances between hierarchical empirical measurse\n",
    "n = 1 \n",
    "m = 2\n",
    "θs = collect(0.0:0.01:1.0) # probability levels for which we get thresholds\n",
    "n_permutations = 1\n",
    "\n",
    "t = time()\n",
    "d_wws, d_lips, perm_thresholds = sample_distances_thresholds(q_discr_1, q_discr_2, n, m, s, θs, n_permutations)\n",
    "t = time() - t\n",
    "println(\"time taken: $t seconds\")\n"
   ]
  },
  {
   "cell_type": "code",
   "execution_count": null,
   "id": "778680d5",
   "metadata": {},
   "outputs": [],
   "source": [
    "\n",
    "# We are firstly interested if we can avoid using permutation approach exactly as it is defined. In particular, instead of doing permutations per each generated hierarchical\n",
    "# sample, can we do it only once for one pair of generated hierarchical samples and use the same thresholds for all other generated hierarchical samples?\n",
    "\n",
    "# let's see if threshold curves differ much for each of the generated hierarchical measures per each distance function.\n",
    "\n",
    "threshold_curves_dlip = plot()\n",
    "for i in 1:1\n",
    "    plot!(threshold_curves_dlip, θs, perm_thresholds[:, i, 2], label=\"Sample $i\", xlabel=\"Probability Level\", ylabel=\"Threshold\", title=\"Threshold Curves HIPM)\")\n",
    "end\n",
    "\n",
    "threshold_curves_dww = plot()\n",
    "for i in 1:1\n",
    "    plot!(threshold_curves_dww, θs, perm_thresholds[:, i, 1], label=\"Sample $i\", xlabel=\"Probability Level\", ylabel=\"Threshold\", title=\"Threshold Curves WoW)\")\n",
    "end\n",
    "# display both plots one below eachother\n",
    "plot(threshold_curves_dlip, threshold_curves_dww, layout = (2, 1))\n",
    "\n",
    "\n",
    "# They differ, so it is better to use permutation approach properly.\n",
    "\n",
    "\n"
   ]
  },
  {
   "cell_type": "markdown",
   "id": "74663b89",
   "metadata": {},
   "source": [
    "# Now let's see how much empirical quantile differs from one of the threshold \n"
   ]
  },
  {
   "cell_type": "code",
   "execution_count": null,
   "id": "e9b5e844",
   "metadata": {},
   "outputs": [],
   "source": [
    "\n",
    "\n",
    "empirical_thresholds_ww = quantile(sqrt(n/2) * d_wws, 1 .- θs)\n",
    "empirical_thresholds_dlip = quantile(sqrt(n/2) * d_lips, 1 .- θs)\n",
    "\n",
    "perm_thresh_1_ww = perm_thresholds[:, 1, 1]\n",
    "perm_thresh_1_dlip = perm_thresholds[:, 1, 2]\n",
    "\n",
    "emp_vs_perm_thresholds_ww = plot()\n",
    "plot!(emp_vs_perm_thresholds_ww, θs, empirical_thresholds_ww, label=\"Empirical\", xlabel=\"Probability Level\", ylabel=\"Threshold\", title=\"Empirical vs Permutation Thresholds WoW\")\n",
    "plot!(emp_vs_perm_thresholds_ww, θs, perm_thresh_1_ww, label=\"Permutation\", linestyle=:dash)\n",
    "\n",
    "emp_vs_perm_thresholds_dlip = plot()\n",
    "plot!(emp_vs_perm_thresholds_dlip, θs, empirical_thresholds_dlip, label=\"Empirical\", xlabel=\"Probability Level\", ylabel=\"Threshold\", title=\"Empirical vs Permutation Thresholds HIPM\")\n",
    "plot!(emp_vs_perm_thresholds_dlip, θs, perm_thresh_1_dlip, label=\"Permutation\", linestyle=:dash)\n",
    "\n",
    "# display both plots one below eachother\n",
    "plot(emp_vs_perm_thresholds_ww, emp_vs_perm_thresholds_dlip, layout = (2, 1))\n"
   ]
  },
  {
   "cell_type": "markdown",
   "id": "d17deda3",
   "metadata": {},
   "source": [
    "# Now check the rejection rates for each of the distance functions\n"
   ]
  },
  {
   "cell_type": "code",
   "execution_count": null,
   "id": "0747d5c1",
   "metadata": {},
   "outputs": [],
   "source": [
    "\n",
    "# Now check the rejection rates for each of the distance functions\n",
    "rej_rates = rejection_rate(d_wws, d_lips, perm_thresholds, θs)\n",
    "\n",
    "# Let's see the true positive rates\n",
    "true_positive_plot = plot()\n",
    "plot!(true_positive_plot, θs, rej_rates[:, 1], label=\"WoW\", xlabel=\"Probability Level\", ylabel=\"True Positive Rate\", title=\"True Positive Rates\")\n",
    "plot!(true_positive_plot, θs, rej_rates[:, 2], label=\"HIPM\", xlabel=\"Probability Level\", ylabel=\"True Positive Rate\", title=\"True Positive Rates\")"
   ]
  },
  {
   "cell_type": "code",
   "execution_count": null,
   "id": "92137e7c",
   "metadata": {},
   "outputs": [],
   "source": [
    "rej_rates"
   ]
  },
  {
   "cell_type": "code",
   "execution_count": null,
   "id": "7313db25",
   "metadata": {},
   "outputs": [],
   "source": []
  },
  {
   "cell_type": "code",
   "execution_count": null,
   "id": "03d650a7",
   "metadata": {},
   "outputs": [],
   "source": []
  },
  {
   "cell_type": "markdown",
   "id": "41a67ce0",
   "metadata": {},
   "source": [
    "Now let us write a function that given laws of random probability measures and sample sizes, provides plots for empirical threshold vs permutation threshold, and rejection rates. Also for the debug it will return distances and thresholds\n",
    "  "
   ]
  },
  {
   "cell_type": "markdown",
   "id": "75863325",
   "metadata": {},
   "source": []
  },
  {
   "cell_type": "code",
   "execution_count": null,
   "id": "21b66088",
   "metadata": {},
   "outputs": [],
   "source": [
    "function simulate_perm(q_1::PPM, q_2::PPM, n::Int, m::Int, s::Int, θs::Vector{Float64}, n_permutations::Int, samemeasures::Bool)\n",
    "    # q_1 : Law of random probabiity measure Q^1\n",
    "    # q_2 : Law of random probabiity measure Q^2\n",
    "    # n : Number of rows in hierarchical sample\n",
    "    # m : Number of columns in hierarchical sample\n",
    "    # s : Number of distances sampled\n",
    "    # θs : Vector of probability levels for thresholds\n",
    "    # n_permutations : Number of permutations for permutation approach\n",
    "\n",
    "    #samemeasures : It is true if Q^1 = Q^2 and in that case rejection plot's title is false positive rate, otherwise - true positive rate.\n",
    "    d_wws, d_lips, perm_thresholds = sample_distances_thresholds(q_discr_1, q_discr_2, n, m, s, θs, n_permutations)\n",
    "\n",
    "    # now produce thresholds plot ( empirical and threshold from permutation approach)\n",
    "\n",
    "\n",
    "    empirical_thresholds_ww = quantile(sqrt(n/2) * d_wws, 1 .- θs)\n",
    "    empirical_thresholds_dlip = quantile(sqrt(n/2) * d_lips, 1 .- θs)\n",
    "\n",
    "    # recall that perm_threshold has size length(θs, s, 2)\n",
    "    perm_thresh_1_ww = perm_thresholds[:, 1, 1]\n",
    "    perm_thresh_1_dlip = perm_thresholds[:, 1, 2]\n",
    "\n",
    "\n",
    "    emp_vs_perm_thresholds_ww = plot()\n",
    "    plot!(emp_vs_perm_thresholds_ww, θs, empirical_thresholds_ww, label=\"Empirical\", xlabel=\"Probability Level\", ylabel=\"Threshold\", title=\"Empirical vs Permutation Thresholds WoW\")\n",
    "    plot!(emp_vs_perm_thresholds_ww, θs, perm_thresh_1_ww, label=\"Permutation\", linestyle=:dash)\n",
    "\n",
    "    emp_vs_perm_thresholds_dlip = plot()\n",
    "    plot!(emp_vs_perm_thresholds_dlip, θs, empirical_thresholds_dlip, label=\"Empirical\", xlabel=\"Probability Level\", ylabel=\"Threshold\", title=\"Empirical vs Permutation Thresholds HIPM\")\n",
    "    plot!(emp_vs_perm_thresholds_dlip, θs, perm_thresh_1_dlip, label=\"Permutation\", linestyle=:dash)\n",
    "\n",
    "    emp_vs_perm_plot = [emp_vs_perm_thresholds_ww, emp_vs_perm_thresholds_dlip]\n",
    "    # Now get the rejection rates and rejection rate plots per each probability level\n",
    "\n",
    "    rej_rates = rejection_rate(d_wws, d_lips, perm_thresholds, θs)\n",
    "\n",
    "    rate_plot = plot()\n",
    "    if samemeasures\n",
    "        plot!(rate_plot, θs, rej_rates[:, 1], label=\"WoW\", xlabel=\"Probability Level\", ylabel=\"fp\", title=\"False Positive Rates\", ratio = 1.0, xlims = (0,1), ylims = (0,1))\n",
    "        plot!(rate_plot, θs, rej_rates[:, 2], label=\"HIPM\", xlabel=\"Probability Level\", ylabel=\"fp\", title=\"False Positive Rates\", ratio = 1.0, xlims = (0,1), ylims = (0,1))\n",
    "\n",
    "    else\n",
    "        plot!(rate_plot, θs, rej_rates[:, 1], label=\"WoW\", xlabel=\"Probability Level\", ylabel=\"tp\", title=\"True Positive Rates\", ratio = 1.0, xlims = (0,1), ylims = (0,1))\n",
    "        plot!(rate_plot, θs, rej_rates[:, 2], label=\"HIPM\", xlabel=\"Probability Level\", ylabel=\"tp\", title=\"True Positive Rates\", ratio = 1.0, xlims = (0,1), ylims = (0,1))\n",
    "    end\n",
    "\n",
    "    return d_wws, d_lips, perm_thresholds, rej_rates, emp_vs_perm_plot, rate_plot\n",
    "end"
   ]
  },
  {
   "cell_type": "code",
   "execution_count": null,
   "id": "fd3a89f8",
   "metadata": {},
   "outputs": [],
   "source": [
    "\n",
    "q_discr_1 = discrrpm(10,10,0.0,1.0) \n",
    "q_discr_2 = discrrpm(10,10,0.0,1.0)\n",
    "\n",
    "s = 1 # number of times to sample distances between hierarchical empirical measurse\n",
    "n = 1 \n",
    "m = 2\n",
    "θs = collect(0.0:0.01:1.0) # probability levels for which we get thresholds\n",
    "n_permutations = 1\n",
    "\n",
    "t = time()\n",
    "d_wws, d_lips, perm_thresholds, rej_rates, emp_vs_perm_plot, rate_plot = simulate_perm(q_discr_1, q_discr_1, n, m, s, θs, n_permutations, true)\n",
    "t = time() - t\n",
    "println(\"time taken: $t seconds\")\n"
   ]
  },
  {
   "cell_type": "code",
   "execution_count": null,
   "id": "2f1d4d59",
   "metadata": {},
   "outputs": [],
   "source": [
    "plot(emp_vs_perm_plot[1], emp_vs_perm_plot[2],layout = (2,1))"
   ]
  },
  {
   "cell_type": "code",
   "execution_count": null,
   "id": "52ad6bf3",
   "metadata": {},
   "outputs": [],
   "source": [
    "rate_plot"
   ]
  },
  {
   "cell_type": "code",
   "execution_count": null,
   "id": "ae473da8",
   "metadata": {},
   "outputs": [],
   "source": [
    "function savefig_discr_discr(n_1::Int, n_2::Int, a::Float64, b::Float64, n::Int, m::Int, s::Int, θs::Vector{Float64}, n_permutations::Int, samemeasures::Bool)\n",
    "    \n",
    "    \n",
    "    # n_1 : number of atoms for Q^1 and Q^2. Those atoms are discrete probability measures themselves.   (maybe change notation?????)\n",
    "    # n_2 : number of atoms for each of the discrete probability measure that are atoms of laws of RPM. It is same accross all atoms of Q^1 and Q^2.     (maybe change notation?????)\n",
    "    # those inner probability measures are on [a,b]\n",
    "\n",
    "\n",
    "    # n :: Number of rows in hierarchical sample\n",
    "    # m :: Number of columns in hierarchical sample\n",
    "    # s :: Number of distances sampled\n",
    "    # θs :: Vector of probability levels for thresholds\n",
    "    # n_permutations :: Number of permutations for permutation approach\n",
    "\n",
    "    # samemeasures :: Boolean indicating whether to use same measures for both Q^1 and Q^2\n",
    "\n",
    "    if samemeasures\n",
    "        q_discr_1 = discrrpm(n_1,n_2,a,b) \n",
    "        q_discr_2 = q_discr_1\n",
    "    else\n",
    "        q_discr_1 = discrrpm(n_1,n_2,a,b) \n",
    "        q_discr_2 = discrrpm(n_1,n_2,a,b)\n",
    "    end\n",
    "\n",
    "    d_wws, d_lips, perm_thresholds, rej_rates, emp_vs_perm_plot, rate_plot = simulate_perm(q_discr_1, q_discr_2, n, m, s, θs, n_permutations, samemeasures)\n",
    "\n",
    "    filepath = joinpath(pwd(), \"newplots/discr_discr\")\n",
    "    emp_perm = plot(emp_vs_perm_plot[1], emp_vs_perm_plot[2],layout = (2,1))\n",
    "    savefig(emp_perm, joinpath(filepath, \"empirical_vs_permutation_discr_discr_n1=$(n_1)_n2=$(n_2)_n=$(n)_m=$(m)_s=$(s)_permutations=$(n_permutations)_samemeasures=$(samemeasures).png\"))\n",
    "    savefig(rate_plot, joinpath(filepath, \"rejection_rates_discr_discr_n1=$(n_1)_n2=$(n_2)_n=$(n)_m=$(m)_s=$(s)_permutations=$(n_permutations)_samemeasures=$(samemeasures).png\"))\n",
    "end"
   ]
  },
  {
   "cell_type": "markdown",
   "id": "9764ccf0",
   "metadata": {},
   "source": []
  },
  {
   "cell_type": "code",
   "execution_count": null,
   "id": "2318820f",
   "metadata": {},
   "outputs": [],
   "source": [
    "# Simulations for Discr_discr\n",
    "\n",
    "n_1 = 10\n",
    "n_2 = 2\n",
    "a, b = 0.0, 1.0\n",
    "n = 40\n",
    "m = 2\n",
    "s = 30\n",
    "θs = collect(0.0:0.01:1.0)\n",
    "n_permutations = 30\n",
    "\n",
    "savefig_discr_discr(n_1, n_2, a, b, n, m, s, θs, n_permutations, false)\n",
    "savefig_discr_discr(n_1, n_2, a, b, n, m, s, θs, n_permutations, true)\n",
    "\n",
    "\n",
    "\n"
   ]
  },
  {
   "cell_type": "code",
   "execution_count": 1,
   "id": "064852ca",
   "metadata": {},
   "outputs": [
    {
     "data": {
      "text/plain": [
       "1"
      ]
     },
     "metadata": {},
     "output_type": "display_data"
    }
   ],
   "source": [
    "123\n",
    "+1\n"
   ]
  },
  {
   "cell_type": "code",
   "execution_count": 2,
   "id": "7721b446",
   "metadata": {},
   "outputs": [
    {
     "name": "stdout",
     "output_type": "stream",
     "text": [
      "5"
     ]
    }
   ],
   "source": [
    "print(5)"
   ]
  },
  {
   "cell_type": "code",
   "execution_count": null,
   "id": "2833b6f0",
   "metadata": {},
   "outputs": [],
   "source": []
  }
 ],
 "metadata": {
  "kernelspec": {
   "display_name": "Julia 1.11.3",
   "language": "julia",
   "name": "julia-1.11"
  },
  "language_info": {
   "file_extension": ".jl",
   "mimetype": "application/julia",
   "name": "julia",
   "version": "1.11.3"
  }
 },
 "nbformat": 4,
 "nbformat_minor": 5
}
