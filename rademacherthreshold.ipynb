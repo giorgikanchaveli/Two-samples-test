{
 "cells": [
  {
   "cell_type": "code",
   "execution_count": null,
   "id": "5918257d",
   "metadata": {},
   "outputs": [],
   "source": [
    "using Plots\n",
    "\n",
    "\n",
    "include(\"distributions.jl\")\n",
    "include(\"distances/w_distance.jl\") # ar mchirdeba? \n",
    "include(\"distances/new_distance.jl\")\n",
    "include(\"distances/distance_Wasserstein.jl\")\n"
   ]
  },
  {
   "cell_type": "code",
   "execution_count": null,
   "id": "d722c6bf",
   "metadata": {},
   "outputs": [],
   "source": [
    "# given two laws of random probability measures, generate distances between hierarchical\n",
    "# empirical Measures\n",
    "\n",
    "function sample_distances(q_1::PPM, q_2::PPM, n::Int, m::Int, s::Int)\n",
    "    # this function samples distances between hierarchical empirical measures\n",
    "    # n : number of probability measures from which observations are generated\n",
    "    # m : number of observations from each probability measure\n",
    "    # s : number of times to sample distance between empirical measures\n",
    "\n",
    "    d_lips = Vector{Float64}(undef, s)\n",
    "    for i in 1:s\n",
    "        emp_1, emp_2 = generate_emp(q_1, n, m), generate_emp(q_2, n, m)\n",
    "        d_lips[i] = dlip(emp_1, emp_2)\n",
    "    end\n",
    "    return d_lips\n",
    "end"
   ]
  },
  {
   "cell_type": "markdown",
   "id": "07e69a83",
   "metadata": {},
   "source": [
    "Now let us write the threshold function via Rademacher complexity for HIPM"
   ]
  },
  {
   "cell_type": "code",
   "execution_count": null,
   "id": "7268b311",
   "metadata": {},
   "outputs": [],
   "source": [
    "function c_1(n::Int, θ::Float64, k::Float64)\n",
    "    # n: number of probability measures from which observations are generated\n",
    "    # θ: probability level for controlling type I error\n",
    "    # k: diameter of the sample \n",
    "    a = 1280 * k * sqrt(log(2)) / sqrt(n)\n",
    "    b = sqrt(4 * k^2 * log(1/θ)/n)\n",
    "    c = 4 * k / (3 * n) * log(1/θ)\n",
    "    d = 32 * sqrt(10 * k^2 * log(1/θ) * sqrt(log(2))) / (n ^ (3/4))\n",
    "    return a + b + c + d\n",
    "end\n",
    "\n",
    "function c_2(n::Int, m::Int, θ::Float64, k::Float64)\n",
    "    # n: number of probability measures from which observations are generated\n",
    "    # m: number of observations from each probability measure\n",
    "    # θ: probability level for controlling type I error\n",
    "    # k: diameter of the sample \n",
    "\n",
    "    a = 256 * k * sqrt(log(2))/sqrt(m)\n",
    "    b = sqrt(k^2 * log(1/θ)/ (2 * n))\n",
    "    return a + b\n",
    "end\n",
    "\n",
    "\n",
    "function rademacher_threshold(n::Int, m::Int, θ::Float64, k::Float64)\n",
    "    return 2 * (2 * c_2(n, m, θ/2,k) + c_1(n,θ/2, k))\n",
    "end\n"
   ]
  },
  {
   "cell_type": "markdown",
   "id": "2b000221",
   "metadata": {},
   "source": [
    "Let us compare behaviour of empirical and theoretical thresholds when $n,m$ increase for fixed probability level $\\theta$"
   ]
  },
  {
   "cell_type": "code",
   "execution_count": null,
   "id": "34abadc9",
   "metadata": {},
   "outputs": [],
   "source": [
    "function emp_vs_theor_fixed_theta(q_1::PPM, q_2::PPM, θ::Float64, s::Int)\n",
    "    # q_1: law of RPM\n",
    "    # q_2: law of RPM\n",
    "    # θ: probability level for type I error\n",
    "    # s: number of times to sample distance between hierarchical measures\n",
    "\n",
    "    # This functions firstly gets empirical thresholds per n = m for fixed θ. This is to study asymptotic behaviour of empirical threshold. \n",
    "    # Then it gets rademacher thresholds per n = m for fixed θ, and compares it to the empirical thresholds.\n",
    "\n",
    "    k = q_1.b-q_1.a\n",
    "    @assert (q_1.b == q_2.b) && (q_1.a == q_2.a) \"sample space should be same\"\n",
    "\n",
    "\n",
    "    ns_emp = collect(50:200:5000) # list of n = m values for empirical thresholds\n",
    "    ns_radem = collect(50:50:5000) # list of n = m values for rademacher thresholds\n",
    "    emp_thresholds = zeros(length(ns_emp))\n",
    "    radem_thresholds = zeros(length(ns_radem))\n",
    "    for (i, n) in enumerate(ns_emp)\n",
    "        println(\"getting empirical threshold for n = m = $n\")\n",
    "        d_lips = sample_distances(q_1, q_2, n, n, s)\n",
    "        emp_thresholds[i] = quantile(d_lips, 1-θ)\n",
    "    end\n",
    "\n",
    "    for (i,n) in enumerate(ns_radem)\n",
    "        radem_thresholds[i] = rademacher_threshold(n, n, θ, k)\n",
    "    end\n",
    "\n",
    "    emp_radem_plot = plot(xlabel = \"n = m\", ylabel =\"log thresholds\", title = \"Empirical vs Rademacher thresholds, θ = $θ\", legend = :topright)\n",
    "    plot!(emp_radem_plot, ns_radem, log.(radem_thresholds), label = \"Rademacher thresholds\", lw = 2)\n",
    "    scatter!(emp_radem_plot, ns_emp, log.(emp_thresholds), label = \"Empirical thresholds\")\n",
    "    return emp_thresholds, radem_thresholds, emp_radem_plot\n",
    "end\n",
    "\n"
   ]
  },
  {
   "cell_type": "code",
   "execution_count": null,
   "id": "64d6d6d6",
   "metadata": {},
   "outputs": [],
   "source": [
    "function probability(baseMeasure::String)\n",
    "    # function to generate observation either from uniform(-1/2,1/2) or from splitting measure\n",
    "    if baseMeasure == \"same\" # Uniform(-1/2,1/2)\n",
    "        return rand() - 0.5\n",
    "    elseif baseMeasure == \"splitting\"  # sample either close to -1 or close to 1\n",
    "        atom = rand()\n",
    "        mixture = rand((0,1))\n",
    "        return mixture * ( -1. + 0.25 * atom ) + (1 - mixture) * (0.75 + 0.25 * atom)\n",
    "    end\n",
    "\n",
    "end\n",
    "\n",
    "# simulations for Dirichlet\n",
    "\n",
    "Random.seed!(123456)\n",
    "\n",
    "\n",
    "α_1, α_2 = 1.0, 2.0\n",
    "P_0_1 = ()->probability(\"same\")\n",
    "P_0_2 = ()->probability(\"splitting\")\n",
    "\n",
    "a, b = -1.0, 1.0\n",
    "\n",
    "q_1 = DP(α_1, P_0_2, a, b)\n",
    "q_2 = DP(α_2, P_0_2, a, b)\n",
    "\n",
    "s = 1\n",
    "θ = 0.15\n",
    "\n",
    "emp_thresholds, radem_thresholds, emp_radem_plot_fixed_theta = emp_vs_theor_fixed_theta(q_1, q_2, θ, s)"
   ]
  },
  {
   "cell_type": "code",
   "execution_count": null,
   "metadata": {},
   "outputs": [],
   "source": [
    "emp_radem_plot_fixed_theta"
   ]
  },
  {
   "cell_type": "code",
   "execution_count": null,
   "id": "5679f603",
   "metadata": {},
   "outputs": [],
   "source": [
    "filepath = joinpath(pwd(), \"ch4\")\n",
    "savefig(emp_radem_plot_fixed_theta, joinpath(filepath, \"emp_radem_plot_fixed_theta.png\"))\n"
   ]
  },
  {
   "cell_type": "markdown",
   "id": "e24da482",
   "metadata": {},
   "source": [
    "Now we see the comparison between empirical and theoretical thresholds per $\\theta$ for fixed $n$ and $m$."
   ]
  },
  {
   "cell_type": "code",
   "execution_count": null,
   "id": "91f5d773",
   "metadata": {},
   "outputs": [],
   "source": [
    "function emp_vs_theor_vary_theta(q_1::PPM, q_2::PPM, n::Int, m::Int, s::Int)\n",
    "    # q_1: law of RPM\n",
    "    # q_2: law of RPM\n",
    "    # n: number of probability measures from which observations are generated\n",
    "    # m: number of observations from each probability measure\n",
    "    # s: number of times to sample distance between hierarchical measures\n",
    "\n",
    "    # This functions firstly gets empirical thresholds per θ for fixed n and m. \n",
    "    # Then it gets rademacher thresholds per θ for fixed n and m, and compares it to the empirical thresholds.\n",
    "\n",
    "    k = q_1.b-q_1.a\n",
    "    @assert (q_1.b == q_2.b) && (q_1.a == q_2.a) \"sample space should be same\"\n",
    "    θs = collect(0.01:0.01:1.0) # list of probability levels\n",
    "    \n",
    "    \n",
    "\n",
    "    d_lips = sample_distances(q_1, q_2, n, m, s) \n",
    "    emp_thresholds = quantile(d_lips, 1 .- θs)\n",
    "    radem_thresholds = rademacher_threshold.(n, m, θs, k)\n",
    "\n",
    "    emp_radem_plot = plot(xlabel = \"θ\", ylabel =\"log thresholds\", title = \"Empirical vs Rademacher thresholds, n = m = $n\", legend = :topright)\n",
    "    plot!(emp_radem_plot, θs, log.(emp_thresholds), label = \"Empirical thresholds\", lw = 2)\n",
    "    plot!(emp_radem_plot, θs, log.(radem_thresholds), label = \"Rademacher thresholds\", lw = 2)\n",
    "    return emp_thresholds, radem_thresholds, emp_radem_plot\n",
    "end\n"
   ]
  },
  {
   "cell_type": "code",
   "execution_count": null,
   "id": "dd914e0c",
   "metadata": {},
   "outputs": [],
   "source": [
    "function probability(baseMeasure::String)\n",
    "    # function to generate observation either from uniform(-1/2,1/2) or from splitting measure\n",
    "    if baseMeasure == \"same\" # Uniform(-1/2,1/2)\n",
    "        return rand() - 0.5\n",
    "    elseif baseMeasure == \"splitting\"  # sample either close to -1 or close to 1\n",
    "        atom = rand()\n",
    "        mixture = rand((0,1))\n",
    "        return mixture * ( -1. + 0.25 * atom ) + (1 - mixture) * (0.75 + 0.25 * atom)\n",
    "    end\n",
    "\n",
    "end\n",
    "\n",
    "# simulations for Dirichlet\n",
    "\n",
    "Random.seed!(123456)\n",
    "\n",
    "\n",
    "α_1, α_2 = 1.0, 2.0\n",
    "P_0_1 = ()->probability(\"same\")\n",
    "P_0_2 = ()->probability(\"splitting\")\n",
    "\n",
    "a, b = -1.0, 1.0\n",
    "\n",
    "q_1 = DP(α_1, P_0_2, a, b)\n",
    "q_2 = DP(α_2, P_0_2, a, b)\n",
    "\n",
    "\n",
    "n = 500\n",
    "m = 500\n",
    "s = 1\n",
    "\n",
    "\n",
    "emp_th, rad_th, emp_radem_plot_vary_theta = emp_vs_theor_vary_theta(q_1, q_2, n, m, s)"
   ]
  },
  {
   "cell_type": "code",
   "execution_count": null,
   "id": "d38b2b2c",
   "metadata": {},
   "outputs": [],
   "source": [
    "emp_radem_plot_vary_theta"
   ]
  },
  {
   "cell_type": "code",
   "execution_count": null,
   "id": "a5956fb6",
   "metadata": {},
   "outputs": [],
   "source": [
    "filepath = joinpath(pwd(), \"ch4\")\n",
    "savefig(emp_radem_plot_vary_theta, joinpath(filepath, \"emp_radem_plot_vary_theta.png\"))\n"
   ]
  },
  {
   "cell_type": "code",
   "execution_count": null,
   "id": "4b3bd21f",
   "metadata": {},
   "outputs": [],
   "source": []
  },
  {
   "cell_type": "code",
   "execution_count": null,
   "id": "61869dbe",
   "metadata": {},
   "outputs": [],
   "source": []
  },
  {
   "cell_type": "code",
   "execution_count": null,
   "id": "d86e881e",
   "metadata": {},
   "outputs": [],
   "source": []
  },
  {
   "cell_type": "code",
   "execution_count": null,
   "id": "49230beb",
   "metadata": {},
   "outputs": [],
   "source": []
  }
 ],
 "metadata": {
  "kernelspec": {
   "display_name": "Julia 1.11.6",
   "language": "julia",
   "name": "julia-1.11"
  },
  "language_info": {
   "file_extension": ".jl",
   "mimetype": "application/julia",
   "name": "julia",
   "version": "1.11.6"
  }
 },
 "nbformat": 4,
 "nbformat_minor": 5
}
