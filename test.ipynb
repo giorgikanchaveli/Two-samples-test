{
 "cells": [
  {
   "cell_type": "code",
   "execution_count": 1,
   "id": "51af2d9f",
   "metadata": {},
   "outputs": [
    {
     "data": {
      "text/plain": [
       "savefig_for_rejections_hipm_wow (generic function with 3 methods)"
      ]
     },
     "execution_count": 1,
     "metadata": {},
     "output_type": "execute_result"
    }
   ],
   "source": [
    "include(\"methods_for_simulations.jl\")\n",
    "\n",
    "\n",
    "\n"
   ]
  },
  {
   "cell_type": "markdown",
   "id": "cfc57c61",
   "metadata": {},
   "source": [
    "# How many permutations?"
   ]
  },
  {
   "cell_type": "markdown",
   "id": "5797e494",
   "metadata": {},
   "source": [
    "# Permutation or Boostrap ?\n"
   ]
  },
  {
   "cell_type": "markdown",
   "id": "087e88d7",
   "metadata": {},
   "source": [
    "We compare boostrap and permutation approaches for HIPM and WoW. In particular we compare them by looking at Type I and Type II errors\n"
   ]
  },
  {
   "cell_type": "markdown",
   "id": "80dcc3a2",
   "metadata": {},
   "source": [
    "Let us start with Type I error"
   ]
  },
  {
   "cell_type": "code",
   "execution_count": 2,
   "id": "fc72b087",
   "metadata": {},
   "outputs": [
    {
     "data": {
      "text/plain": [
       "decide_perm (generic function with 1 method)"
      ]
     },
     "execution_count": 2,
     "metadata": {},
     "output_type": "execute_result"
    }
   ],
   "source": [
    "function decide_boost(dist::Function, hier_sample_1::emp_ppm, hier_sample_2::emp_ppm, n_boostrap::Int, θ::Float64)\n",
    "    distance_observed = dist(hier_sample_1, hier_sample_2)\n",
    "\n",
    "    # now we obtain threshold via boostrap\n",
    "    boostrap_samples = zeros(n_boostrap)\n",
    "\n",
    "    a = minimum([hier_sample_1.a, hier_sample_2.a]) # since endpoints of space of observations for two hierarchical samples might not\n",
    "                                                    # be same\n",
    "    b = maximum([hier_sample_1.b, hier_sample_2.b])\n",
    "\n",
    "    n_top = hier_sample_1.n\n",
    "    @assert n_top == hier_sample_2.n \"number of rows for both hierarchical samples should be the same\"\n",
    "\n",
    "    for i in 1:n_boostrap\n",
    "        total_rows = vcat(hier_sample_1.atoms, hier_sample_2.atoms) # collect all rows\n",
    "        indices_1 = sample(1:2*n_top, n_top; replace = true) # get random indices for rows from pooled sample \n",
    "        indices_2 = sample(1:2*n_top, n_top; replace = true) \n",
    "        atoms_1 = total_rows[indices_1,:]  # select the rows associated to random indices\n",
    "        atoms_2 = total_rows[indices_2,:]  \n",
    "       \n",
    "        # define new hierarchical samples\n",
    "        hier_sample_1_boostrap = emp_ppm(atoms_1, n_top, n_bottom, a, b)\n",
    "        hier_sample_2_boostrap = emp_ppm(atoms_2, n_top, n_bottom, a, b)\n",
    "\n",
    "        boostrap_samples[i] = dist(hier_sample_1_boostrap, hier_sample_2_boostrap)\n",
    "    end\n",
    "\n",
    "    threshold_boostrap = quantile(boostrap_samples, 1 - θ)\n",
    "    return 1.0*(distance_observed > threshold_boostrap)\n",
    "end\n",
    "\n",
    "\n",
    "\n",
    "function decide_perm(dist::Function, hier_sample_1::emp_ppm, hier_sample_2::emp_ppm, n_permutations::Int, θ::Float64)\n",
    "    distance_observed = dist(hier_sample_1, hier_sample_2)\n",
    "\n",
    "    # now we obtain threshold via permutation\n",
    "    permuted_samples = zeros(n_permutations)\n",
    "\n",
    "    a = minimum([hier_sample_1.a, hier_sample_2.a]) # since endpoints of space of observations for two hierarchical samples might not\n",
    "                                                    # be same\n",
    "    b = maximum([hier_sample_1.b, hier_sample_2.b])\n",
    "\n",
    "    n_top = hier_sample_1.n\n",
    "    @assert n_top == hier_sample_2.n \"number of rows for both hierarchical samples should be the same\"\n",
    "\n",
    "    for i in 1:n_permutations\n",
    "        total_rows = vcat(hier_sample_1.atoms, hier_sample_2.atoms) # collect all rows\n",
    "        random_indices = randperm(2*n_top) # indices to distribute rows to new hierarchical meausures\n",
    "        \n",
    "        # first n random rows will be to hirst permuted hierarchical measure, the rest to the second.\n",
    "        atoms_1 = total_rows[random_indices[1:n_top],:] \n",
    "        atoms_2 = total_rows[random_indices[n_top+1:end],:] \n",
    "\n",
    "        # define new hierarchical samples\n",
    "        hier_sample_1_permuted = emp_ppm(atoms_1, n_top, n_bottom, a, b)\n",
    "        hier_sample_2_permuted = emp_ppm(atoms_2, n_top, n_bottom, a, b)\n",
    "\n",
    "        permuted_samples[i] = dist(hier_sample_1_permuted, hier_sample_2_permuted)\n",
    "    end\n",
    "\n",
    "    threshold_permutation = quantile(permuted_samples, 1 - θ)\n",
    "    return 1.0*(distance_observed > threshold_permutation)\n",
    "end\n",
    "\n"
   ]
  },
  {
   "cell_type": "code",
   "execution_count": 3,
   "id": "31579a77",
   "metadata": {},
   "outputs": [
    {
     "data": {
      "text/plain": [
       "rejection_rate_boost_vs_perm (generic function with 1 method)"
      ]
     },
     "execution_count": 3,
     "metadata": {},
     "output_type": "execute_result"
    }
   ],
   "source": [
    "function rejection_rate_boost_vs_perm(p::PPM, n::Int, m::Int, n_boostrap::Int, n_permutations::Int, θ::Float64, S::Int64)\n",
    "    # This function obtains computes Type I error given law of RPM p. \n",
    "    \n",
    "    # Input: \n",
    "    #   p: law of RPM\n",
    "    #   n: number rows in hierarchical sample\n",
    "    #   m: number of columns in hierarchical sample\n",
    "    #   θ: significance level\n",
    "    #   S: number of times we simulate hierarchical samples to estimate Type I error\n",
    "    rej_rates_wow_boost = 0.0\n",
    "    rej_rates_wow_perm = 0.0    \n",
    "    rej_rates_hipm_boost = 0.0\n",
    "    rej_rates_hipm_perm = 0.0\n",
    "\n",
    "    for s in 1:S\n",
    "        # generate hierarchical samples\n",
    "        hier_sample_1, hier_sample_2 = generate_emp(p, n, m), generate_emp(p, n, m)\n",
    "\n",
    "        # Record decisions \n",
    "        rej_rates_wow_boost += decide_boost(ww, hier_sample_1, hier_sample_2, n_boostrap, θ) \n",
    "        rej_rates_wow_perm += decide_perm(ww, hier_sample_1, hier_sample_2, n_permutations, θ)\n",
    "\n",
    "        rej_rates_hipm_boost += decide_boost(hipm, hier_sample_1, hier_sample_2, n_boostrap, θ)\n",
    "        rej_rates_hipm_perm += decide_perm(hipm, hier_sample_1, hier_sample_2, n_permutations, θ)\n",
    "    end\n",
    "\n",
    "    return rej_rates_wow_boost/S, rej_rates_wow_perm/s, rej_rates_hipm_boost/S, rej_rates_hipm_perm/S\n",
    "end"
   ]
  },
  {
   "cell_type": "markdown",
   "id": "bee17962",
   "metadata": {},
   "source": [
    "we consider several laws of random probability measure. So we will have several Type I errors per distance function and perm/boostrap.\n",
    "\n",
    "Then we can plot 4 curves per each law of random probability measures."
   ]
  },
  {
   "cell_type": "code",
   "execution_count": null,
   "id": "ada13f94",
   "metadata": {},
   "outputs": [],
   "source": []
  },
  {
   "cell_type": "code",
   "execution_count": null,
   "id": "dedb214e",
   "metadata": {},
   "outputs": [],
   "source": [
    "# Define law of RPMs\n",
    "\n",
    "q = ...\n",
    "\n",
    "\n",
    "n = 1\n",
    "m = 1\n",
    "\n",
    "\n",
    "θ = 0.05\n",
    "\n",
    "S = 1 # number of simulations to estimate rejection rate\n",
    "\n",
    "rejection_rate_boost_vs_perm(q::PPM) = rejection_rate_boost_vs_perm(q, n, m, n_boostrap, n_permutation, θ, S)\n",
    "\n",
    "# Define several law of RPMs\n",
    "qs = [DP() for ...]\n",
    "all_rejections = rejection_rates_boost_vs_perm.(qs)\n"
   ]
  },
  {
   "cell_type": "code",
   "execution_count": null,
   "id": "21e608e0",
   "metadata": {},
   "outputs": [],
   "source": []
  },
  {
   "cell_type": "code",
   "execution_count": null,
   "id": "c7974a30",
   "metadata": {},
   "outputs": [],
   "source": []
  },
  {
   "cell_type": "code",
   "execution_count": null,
   "id": "f85d6778",
   "metadata": {},
   "outputs": [],
   "source": []
  }
 ],
 "metadata": {
  "kernelspec": {
   "display_name": "Julia 1.11.6",
   "language": "julia",
   "name": "julia-1.11"
  },
  "language_info": {
   "file_extension": ".jl",
   "mimetype": "application/julia",
   "name": "julia",
   "version": "1.11.6"
  }
 },
 "nbformat": 4,
 "nbformat_minor": 5
}
