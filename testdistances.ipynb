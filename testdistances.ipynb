{
 "cells": [
  {
   "cell_type": "markdown",
   "id": "64794614",
   "metadata": {},
   "source": []
  },
  {
   "cell_type": "code",
   "execution_count": 1,
   "id": "d538c5b2",
   "metadata": {},
   "outputs": [],
   "source": [
    "include(\"distances/new_distance.jl\")\n",
    "include(\"distances/distance_Wasserstein.jl\")\n",
    "using RCall # to call R functions\n"
   ]
  },
  {
   "cell_type": "code",
   "execution_count": 2,
   "id": "31eb254d",
   "metadata": {},
   "outputs": [
    {
     "data": {
      "text/plain": [
       "RObject{ClosSxp}\n",
       "function (measure1, measure2, p) \n",
       "{\n",
       "    s1 <- dim(measure1)\n",
       "    s2 <- dim(measure2)\n",
       "    if (s1[2] != s2[2]) {\n",
       "        cat(\"PROBLEM OF DIMENSION: each lower measure should have the same dimension\\n\")\n",
       "        return(-1)\n",
       "    }\n",
       "    else {\n",
       "        m1 <- s1[1]\n",
       "        m2 <- s2[1]\n",
       "        n <- s1[2]\n",
       "        C <- matrix(0, m1, m2)\n",
       "        for (i in 1:m1) {\n",
       "            for (j in 1:m2) {\n",
       "                C[i, j] <- wasserstein1DUniform(measure1[i, ], \n",
       "                  measure2[j, ], p)^p\n",
       "            }\n",
       "        }\n",
       "        weight1 <- rep(1/m1, m1)\n",
       "        weight2 <- rep(1/m2, m2)\n",
       "        output <- (wasserstein(weight1, weight2, p = 1, costm = C, \n",
       "            prob = TRUE))^(1/p)\n",
       "        return(output)\n",
       "    }\n",
       "}\n"
      ]
     },
     "execution_count": 2,
     "metadata": {},
     "output_type": "execute_result"
    }
   ],
   "source": [
    "R\"\"\"\n",
    "\n",
    "library(transport)\n",
    "\n",
    "# Measures are given as a nTop x nBottom x 2 array\n",
    "# nTop = n in the article \n",
    "# nBottom = m in the article \n",
    "# nGrid = M in the article \n",
    "# a[,,1] -> location of the atom \n",
    "# a[,,2] -> mass of the atom \n",
    "\n",
    "# First simplest 1D Wasserstein distance between measures with the same number of atom and equal measures\n",
    "\n",
    "wasserstein1DUniform <- function(atoms1, atoms2, p) {\n",
    "  # atoms1 and atoms2 only list of position \n",
    "  # p is the exponent \n",
    "  if (length(atoms1) == length(atoms2)) {\n",
    "\n",
    "    diff = abs(sort(atoms1) - sort(atoms2))\n",
    "    return(mean((diff^p))^(1/p))\n",
    "  } else {\n",
    "    print(\"ERROR: not the same number of atoms\")\n",
    "    return(-1.0)\n",
    "  }\n",
    "}\n",
    "\n",
    "\n",
    "ww <- function(measure1, measure2, p) {\n",
    "  # Assuming that the number of atoms at the lower level is the same in each measure \n",
    "  \n",
    "  s1 <- dim(measure1)\n",
    "  s2 <- dim(measure2)\n",
    "  \n",
    "  if (s1[2] != s2[2]) {\n",
    "    cat(\"PROBLEM OF DIMENSION: each lower measure should have the same dimension\\n\")\n",
    "    return(-1.0)\n",
    "  } else {\n",
    "    \n",
    "\n",
    "    # Extract dimensions\n",
    "    m1 <- s1[1]\n",
    "    m2 <- s2[1]\n",
    "    n  <- s1[2]\n",
    "    \n",
    "    # Compute matrix of pairwise distances which will be a cost function \n",
    "    \n",
    "    C <- matrix(0, m1, m2)\n",
    "    for (i in 1:m1) {\n",
    "      for (j in 1:m2) {\n",
    "        C[i, j] <- wasserstein1DUniform(measure1[i, ], measure2[j, ], p)^p\n",
    "      }\n",
    "    }\n",
    "    \n",
    "\n",
    "    # Build the weights: uniform \n",
    "    weight1 <- rep(1 / m1, m1)\n",
    "    weight2 <- rep(1 / m2, m2)\n",
    "    \n",
    "    # Solving the optimal transport problem \n",
    "    output <-(wasserstein(weight1, weight2, p = 1, costm = C, prob = TRUE))^(1 / p)\n",
    "    return(output)\n",
    "  }\n",
    "}\n",
    "\n",
    "\n",
    "\"\"\"\n"
   ]
  },
  {
   "cell_type": "code",
   "execution_count": 3,
   "id": "9d103b47",
   "metadata": {},
   "outputs": [
    {
     "data": {
      "text/plain": [
       "ww_from_r (generic function with 1 method)"
      ]
     },
     "execution_count": 3,
     "metadata": {},
     "output_type": "execute_result"
    }
   ],
   "source": [
    "function ww_from_r(measure1::Matrix{Float64}, measure2::Matrix{Float64}, p::Int);\n",
    "    # This function computes Wasserstein distance between two samples of Normal distributions using R.\n",
    "\n",
    "                         \n",
    "\n",
    "\n",
    "    @rput measure1 measure2 p\n",
    "\n",
    "    R\"\"\"\n",
    "    # if (!requireNamespace(\"frechet\", quietly = TRUE)) {\n",
    "    #   install.packages(\"frechet\", repos=\"https://cloud.r-project.org\")\n",
    "    # }\n",
    "    dist_ww = ww(measure1, measure2, p)\n",
    "    \"\"\"\n",
    "    @rget dist_ww\n",
    "\n",
    "    return dist_ww\n",
    "end\n",
    "\n",
    "\n",
    "\n",
    "\n",
    "\n",
    "\n"
   ]
  },
  {
   "cell_type": "code",
   "execution_count": 4,
   "id": "1b60460e",
   "metadata": {},
   "outputs": [
    {
     "name": "stdout",
     "output_type": "stream",
     "text": [
      "Wasserstein distance from R: 4.271955380846802\n",
      "Wasserstein distance from Julia: 4.2719553514424184\n"
     ]
    }
   ],
   "source": [
    "n = 10\n",
    "\n",
    "\n",
    "m = 4\n",
    "measure_1_r = 10*randn(n,m)\n",
    "measure_2_r = 10*randn(n,m)\n",
    "a = minimum([minimum(measure_1_r), minimum(measure_2_r)])\n",
    "b = maximum([maximum(measure_1_r), maximum(measure_2_r)])\n",
    "measure_1_julia = zeros(n,m,2)\n",
    "measure_2_julia = zeros(n,m,2)\n",
    "\n",
    "\n",
    "measure_1_julia[:,:,1] = measure_1_r\n",
    "measure_1_julia[:,:,2] = fill(1/m, (n,m))\n",
    "\n",
    "measure_2_julia[:,:,1] = measure_2_r\n",
    "measure_2_julia[:,:,2] = fill(1/m, (n,m))\n",
    "\n",
    "p = 1\n",
    "\n",
    "dist_ww_julia = ww(measure_1_r, measure_2_r, p)\n",
    "\n",
    "dist_ww_r = ww_from_r(measure_1_r, measure_2_r, p)\n",
    "println(\"Wasserstein distance from R: \", dist_ww_r)\n",
    "println(\"Wasserstein distance from Julia: \", dist_ww_julia)\n"
   ]
  },
  {
   "cell_type": "markdown",
   "id": "2cca1d5f",
   "metadata": {},
   "source": []
  },
  {
   "cell_type": "markdown",
   "id": "ecb1282a",
   "metadata": {},
   "source": []
  },
  {
   "cell_type": "markdown",
   "id": "0e20d9df",
   "metadata": {},
   "source": []
  },
  {
   "cell_type": "markdown",
   "id": "9b3184ab",
   "metadata": {},
   "source": []
  },
  {
   "cell_type": "markdown",
   "id": "528d44a9",
   "metadata": {},
   "source": []
  }
 ],
 "metadata": {
  "kernelspec": {
   "display_name": "Julia 1.11.6",
   "language": "julia",
   "name": "julia-1.11"
  },
  "language_info": {
   "file_extension": ".jl",
   "mimetype": "application/julia",
   "name": "julia",
   "version": "1.11.6"
  }
 },
 "nbformat": 4,
 "nbformat_minor": 5
}
